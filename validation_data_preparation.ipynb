{
 "cells": [
  {
   "cell_type": "code",
   "execution_count": 1,
   "metadata": {},
   "outputs": [],
   "source": [
    "import os, shutil, random"
   ]
  },
  {
   "cell_type": "code",
   "execution_count": 2,
   "metadata": {},
   "outputs": [],
   "source": [
    "# Create directory path objects to begin viewing the data\n",
    "train_pneu = 'data/chest_xray/train/PNEUMONIA'\n",
    "train_normal = 'data/chest_xray/train/NORMAL'\n",
    "\n",
    "val_pneu = 'data/chest_xray/val/PNEUMONIA'\n",
    "val_normal = 'data/chest_xray/val/NORMAL'\n",
    "\n",
    "test_pneu = 'data/chest_xray/test/PNEUMONIA'\n",
    "test_normal = 'data/chest_xray/test/NORMAL'"
   ]
  },
  {
   "cell_type": "code",
   "execution_count": 3,
   "metadata": {},
   "outputs": [
    {
     "name": "stdout",
     "output_type": "stream",
     "text": [
      "There are 3875 PNEUMONIA X-rays in the training set\n",
      "There are 1341 NORMAL X-rays in the train set\n",
      "\n",
      "\n",
      "There are 8 PNEUMONIA X-rays in the validation set\n",
      "There are 8 NORMAL X-rays in the validation set\n",
      "\n",
      "\n",
      "There are 390 PNEUMONIA X-rays in the test set\n",
      "There are 234 NORMAL X-rays in the test set\n"
     ]
    }
   ],
   "source": [
    "# Count the amount of data in each directory's sub-directories\n",
    "print('There are', len(os.listdir(train_pneu)), 'PNEUMONIA X-rays in the training set')\n",
    "print('There are', len(os.listdir(train_normal)), 'NORMAL X-rays in the train set')\n",
    "print('\\n')\n",
    "print('There are', len(os.listdir(val_pneu)), 'PNEUMONIA X-rays in the validation set')\n",
    "print('There are', len(os.listdir(val_normal)), 'NORMAL X-rays in the validation set')\n",
    "print('\\n')\n",
    "print('There are', len(os.listdir(test_pneu)), 'PNEUMONIA X-rays in the test set')\n",
    "print('There are', len(os.listdir(test_normal)), 'NORMAL X-rays in the test set')"
   ]
  },
  {
   "cell_type": "code",
   "execution_count": 4,
   "metadata": {},
   "outputs": [
    {
     "name": "stdout",
     "output_type": "stream",
     "text": [
      "There are 9 PNEUMONIA X-rays in the validation set\n",
      "There are 10 PNEUMONIA X-rays in the validation set\n",
      "There are 11 PNEUMONIA X-rays in the validation set\n",
      "There are 12 PNEUMONIA X-rays in the validation set\n",
      "There are 13 PNEUMONIA X-rays in the validation set\n",
      "There are 14 PNEUMONIA X-rays in the validation set\n",
      "There are 15 PNEUMONIA X-rays in the validation set\n",
      "There are 16 PNEUMONIA X-rays in the validation set\n",
      "There are 17 PNEUMONIA X-rays in the validation set\n",
      "There are 18 PNEUMONIA X-rays in the validation set\n",
      "There are 19 PNEUMONIA X-rays in the validation set\n",
      "There are 20 PNEUMONIA X-rays in the validation set\n",
      "There are 21 PNEUMONIA X-rays in the validation set\n",
      "There are 22 PNEUMONIA X-rays in the validation set\n",
      "There are 23 PNEUMONIA X-rays in the validation set\n",
      "There are 24 PNEUMONIA X-rays in the validation set\n",
      "There are 25 PNEUMONIA X-rays in the validation set\n",
      "There are 26 PNEUMONIA X-rays in the validation set\n",
      "There are 27 PNEUMONIA X-rays in the validation set\n",
      "There are 28 PNEUMONIA X-rays in the validation set\n",
      "There are 29 PNEUMONIA X-rays in the validation set\n",
      "There are 30 PNEUMONIA X-rays in the validation set\n",
      "There are 31 PNEUMONIA X-rays in the validation set\n",
      "There are 32 PNEUMONIA X-rays in the validation set\n",
      "There are 33 PNEUMONIA X-rays in the validation set\n",
      "There are 34 PNEUMONIA X-rays in the validation set\n",
      "There are 35 PNEUMONIA X-rays in the validation set\n",
      "There are 36 PNEUMONIA X-rays in the validation set\n",
      "There are 37 PNEUMONIA X-rays in the validation set\n",
      "There are 38 PNEUMONIA X-rays in the validation set\n",
      "There are 39 PNEUMONIA X-rays in the validation set\n",
      "There are 40 PNEUMONIA X-rays in the validation set\n",
      "There are 41 PNEUMONIA X-rays in the validation set\n",
      "There are 42 PNEUMONIA X-rays in the validation set\n",
      "There are 43 PNEUMONIA X-rays in the validation set\n",
      "There are 44 PNEUMONIA X-rays in the validation set\n",
      "There are 45 PNEUMONIA X-rays in the validation set\n",
      "There are 46 PNEUMONIA X-rays in the validation set\n",
      "There are 47 PNEUMONIA X-rays in the validation set\n",
      "There are 48 PNEUMONIA X-rays in the validation set\n",
      "There are 49 PNEUMONIA X-rays in the validation set\n",
      "There are 50 PNEUMONIA X-rays in the validation set\n",
      "There are 51 PNEUMONIA X-rays in the validation set\n",
      "There are 52 PNEUMONIA X-rays in the validation set\n",
      "There are 53 PNEUMONIA X-rays in the validation set\n",
      "There are 54 PNEUMONIA X-rays in the validation set\n",
      "There are 55 PNEUMONIA X-rays in the validation set\n",
      "There are 56 PNEUMONIA X-rays in the validation set\n",
      "There are 57 PNEUMONIA X-rays in the validation set\n",
      "There are 58 PNEUMONIA X-rays in the validation set\n"
     ]
    }
   ],
   "source": [
    "# Move 50 images from the test data to the validation data\n",
    "source_folder = test_pneu\n",
    "destination_folder = val_pneu\n",
    "files_to_move = os.listdir(source_folder)\n",
    "\n",
    "for file in random.sample(files_to_move, 50):\n",
    "    shutil.move(os.path.join(source_folder, file), destination_folder)\n",
    "    print('There are', len(os.listdir(destination_folder)), 'PNEUMONIA X-rays in the validation set')"
   ]
  },
  {
   "cell_type": "code",
   "execution_count": 5,
   "metadata": {},
   "outputs": [
    {
     "name": "stdout",
     "output_type": "stream",
     "text": [
      "There are 9 NORMAL X-rays in the validation set\n",
      "There are 10 NORMAL X-rays in the validation set\n",
      "There are 11 NORMAL X-rays in the validation set\n",
      "There are 12 NORMAL X-rays in the validation set\n",
      "There are 13 NORMAL X-rays in the validation set\n",
      "There are 14 NORMAL X-rays in the validation set\n",
      "There are 15 NORMAL X-rays in the validation set\n",
      "There are 16 NORMAL X-rays in the validation set\n",
      "There are 17 NORMAL X-rays in the validation set\n",
      "There are 18 NORMAL X-rays in the validation set\n",
      "There are 19 NORMAL X-rays in the validation set\n",
      "There are 20 NORMAL X-rays in the validation set\n",
      "There are 21 NORMAL X-rays in the validation set\n",
      "There are 22 NORMAL X-rays in the validation set\n",
      "There are 23 NORMAL X-rays in the validation set\n",
      "There are 24 NORMAL X-rays in the validation set\n",
      "There are 25 NORMAL X-rays in the validation set\n",
      "There are 26 NORMAL X-rays in the validation set\n",
      "There are 27 NORMAL X-rays in the validation set\n",
      "There are 28 NORMAL X-rays in the validation set\n",
      "There are 29 NORMAL X-rays in the validation set\n",
      "There are 30 NORMAL X-rays in the validation set\n",
      "There are 31 NORMAL X-rays in the validation set\n",
      "There are 32 NORMAL X-rays in the validation set\n",
      "There are 33 NORMAL X-rays in the validation set\n",
      "There are 34 NORMAL X-rays in the validation set\n",
      "There are 35 NORMAL X-rays in the validation set\n",
      "There are 36 NORMAL X-rays in the validation set\n",
      "There are 37 NORMAL X-rays in the validation set\n",
      "There are 38 NORMAL X-rays in the validation set\n",
      "There are 39 NORMAL X-rays in the validation set\n",
      "There are 40 NORMAL X-rays in the validation set\n",
      "There are 41 NORMAL X-rays in the validation set\n",
      "There are 42 NORMAL X-rays in the validation set\n",
      "There are 43 NORMAL X-rays in the validation set\n",
      "There are 44 NORMAL X-rays in the validation set\n",
      "There are 45 NORMAL X-rays in the validation set\n",
      "There are 46 NORMAL X-rays in the validation set\n",
      "There are 47 NORMAL X-rays in the validation set\n",
      "There are 48 NORMAL X-rays in the validation set\n",
      "There are 49 NORMAL X-rays in the validation set\n",
      "There are 50 NORMAL X-rays in the validation set\n",
      "There are 51 NORMAL X-rays in the validation set\n",
      "There are 52 NORMAL X-rays in the validation set\n",
      "There are 53 NORMAL X-rays in the validation set\n",
      "There are 54 NORMAL X-rays in the validation set\n",
      "There are 55 NORMAL X-rays in the validation set\n",
      "There are 56 NORMAL X-rays in the validation set\n",
      "There are 57 NORMAL X-rays in the validation set\n",
      "There are 58 NORMAL X-rays in the validation set\n"
     ]
    }
   ],
   "source": [
    "# Move another 50 images from the other sub-directory to the appropriate folder\n",
    "source_folder2 = test_normal\n",
    "destination_folder2 = val_normal\n",
    "files_to_move2 = os.listdir(source_folder2)\n",
    "\n",
    "for file in random.sample(files_to_move2, 50):\n",
    "    shutil.move(os.path.join(source_folder2, file), destination_folder2)\n",
    "    print('There are', len(os.listdir(destination_folder2)), 'NORMAL X-rays in the validation set')"
   ]
  },
  {
   "cell_type": "code",
   "execution_count": null,
   "metadata": {},
   "outputs": [],
   "source": []
  }
 ],
 "metadata": {
  "kernelspec": {
   "display_name": "Python (learn-env",
   "language": "python",
   "name": "learn-env"
  },
  "language_info": {
   "codemirror_mode": {
    "name": "ipython",
    "version": 3
   },
   "file_extension": ".py",
   "mimetype": "text/x-python",
   "name": "python",
   "nbconvert_exporter": "python",
   "pygments_lexer": "ipython3",
   "version": "3.8.5"
  }
 },
 "nbformat": 4,
 "nbformat_minor": 4
}
