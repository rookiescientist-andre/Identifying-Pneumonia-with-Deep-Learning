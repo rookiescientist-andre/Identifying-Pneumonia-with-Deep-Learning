{
 "cells": [
  {
   "cell_type": "code",
   "execution_count": null,
   "metadata": {},
   "outputs": [],
   "source": [
    "import os, shutil, random"
   ]
  },
  {
   "cell_type": "code",
   "execution_count": null,
   "metadata": {},
   "outputs": [],
   "source": [
    "# Create directory path objects to begin viewing the data\n",
    "train_pneu = 'data/chest_xray/train/PNEUMONIA'\n",
    "train_normal = 'data/chest_xray/train/NORMAL'\n",
    "\n",
    "val_pneu = 'data/chest_xray/val/PNEUMONIA'\n",
    "val_normal = 'data/chest_xray/val/NORMAL'\n",
    "\n",
    "test_pneu = 'data/chest_xray/test/PNEUMONIA'\n",
    "test_normal = 'data/chest_xray/test/NORMAL'"
   ]
  },
  {
   "cell_type": "code",
   "execution_count": null,
   "metadata": {},
   "outputs": [],
   "source": [
    "# Count the amount of data in each directory's sub-directories\n",
    "print('There are', len(os.listdir(train_pneu)), 'PNEUMONIA X-rays in the training set')\n",
    "print('There are', len(os.listdir(train_normal)), 'NORMAL X-rays in the train set')\n",
    "print('\\n')\n",
    "print('There are', len(os.listdir(val_pneu)), 'PNEUMONIA X-rays in the validation set')\n",
    "print('There are', len(os.listdir(val_normal)), 'NORMAL X-rays in the validation set')\n",
    "print('\\n')\n",
    "print('There are', len(os.listdir(test_pneu)), 'PNEUMONIA X-rays in the test set')\n",
    "print('There are', len(os.listdir(test_normal)), 'NORMAL X-rays in the test set')"
   ]
  },
  {
   "cell_type": "code",
   "execution_count": null,
   "metadata": {},
   "outputs": [],
   "source": [
    "# Move 50 images from the test data to the validation data\n",
    "source_folder = test_pneu\n",
    "destination_folder = val_pneu\n",
    "files_to_move = os.listdir(source_folder)\n",
    "\n",
    "for file in random.sample(files_to_move, 50):\n",
    "    shutil.move(os.path.join(source_folder, file), destination_folder)\n",
    "    print('There are', len(os.listdir(destination_folder)), 'PNEUMONIA X-rays in the validation set')"
   ]
  },
  {
   "cell_type": "code",
   "execution_count": null,
   "metadata": {},
   "outputs": [],
   "source": [
    "# Move another 50 images from the other sub-directory to the appropriate folder\n",
    "source_folder2 = test_normal\n",
    "destination_folder2 = val_normal\n",
    "files_to_move2 = os.listdir(source_folder2)\n",
    "\n",
    "for file in random.sample(files_to_move2, 50):\n",
    "    shutil.move(os.path.join(source_folder2, file), destination_folder2)\n",
    "    print('There are', len(os.listdir(destination_folder2)), 'NORMAL X-rays in the validation set')"
   ]
  }
 ],
 "metadata": {
  "kernelspec": {
   "display_name": "Python (learn-env",
   "language": "python",
   "name": "learn-env"
  },
  "language_info": {
   "codemirror_mode": {
    "name": "ipython",
    "version": 3
   },
   "file_extension": ".py",
   "mimetype": "text/x-python",
   "name": "python",
   "nbconvert_exporter": "python",
   "pygments_lexer": "ipython3",
   "version": "3.8.5"
  }
 },
 "nbformat": 4,
 "nbformat_minor": 4
}
