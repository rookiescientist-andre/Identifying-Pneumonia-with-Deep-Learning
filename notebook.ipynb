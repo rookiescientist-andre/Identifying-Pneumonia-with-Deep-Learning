{
 "cells": [
  {
   "cell_type": "markdown",
   "metadata": {},
   "source": [
    "# Identifying Pneumonia with Deep Learning\n",
    "***\n",
    "Author: Andre Layton\n",
    "***\n",
    "\n",
    "# Overview\n",
    "Artificial Intelligence (A.I.) has grown at a rapid rate in recent years, and has begun to creep into a myriad of industries for various uses. One such use is in medical imaging. Classification tasks are common in medical image analysis; it involves classifying medical images, such as X-rays, MRI scans, and CT scans, into different categories based on factors, like the type of image or the presence of specific structures/diseases. The aim is to use algorithms to classify medical images for assistance in diagnosis, treatment planning, and disease monitoring. The issue becomes how to correctly, or accurately, classify images - which is where deep learning models and neural networks come in handy.\n",
    "\n",
    "This analysis will examine chest X-ray images of both healthy (referred to as \"normal\") and pneumonia-ridden patients in order to create a model that will accurately classify the two groups. The dataset comes from Kermany, Goldbaum et al.; and it is also available via Kaggle. The dataset is pre-split into training, testing, and validation directories, which makes loading and manipulating the data simple. The data is also prepared in a way that makes it perfect for deep learning analysis (i.e. structured data with dimensions that don't require heavy processing). There are 5,216 images in the training directory (split into \"NORMAL\" and \"PNEUMONIA\" sub-directories), as well as 624 testing images and 16 validation images, both of which are split similarly to the training directory. I increased my validation dataset by splitting the testing data in order to train the model more effectively - this would have been tough with only 16 images. You can see the steps I took in the `'validation_data_preparation.ipynb'` notebook, located in this repository. \n",
    "\n",
    "Once the data was loaded, I took a look at the class balance, but found an imbalance. Therefore, I applied oversampling methods on the minority class (the \"NORMAL\" label), then reshaped and standardized the training and validation images to prepare for modeling. I also reshaped their corresponding labels. Failing to standardize the dataset could have lead to skewed results, considering the wide range of the pixel values in the training data (e.g. \\[0, 255] vs. \\[0, 1] after standardizing). \n",
    "\n",
    "I used Keras, an effective high-level neural network (API), and TensorFlow, an end-to-end open-source deep learning framework that we run Keras on top of, in order to build my algorithms and determine the best model for image classification. I also used Scikit-learn, specifically the `KFold` validator, to cross-validate the baseline model, in order to determine a baseline accuracy level. Other modeling libraries used include `RMSNet50`, for transfer learning; `Conv2D` and `MaxPooling2D`, for a convolutional neural network; `ImageDataGenerator`, for data augmentation; and `ModelCheckpoint` along with `EarlyStopping`, to help save the best model. In addition, I did some prior research on a technique that would allow me to oversample and augment my data to give my model more to train on, while also preserving the balanced classes. This led me to the `BalancedDataGenerator` class - I cited a link to the utilized code at the bottom. \n",
    "\n",
    "I began by building a baseline model - a neural network with two hidden layers - with hyperparameters I selected from prior research (i.e. RMSprop as my optimizer and binary cross-entropy for my loss). The next step was to use L2-regularization in order to combat the overfitting the former model exhibited. After, I used KFold to cross-validate the training model, and determined how effective my baseline is as a classifier model. I built a Convolutional Neural Network (CNN) next due to its effectiveness in classifying images, then augmented the training data in order to create more training data. More data allows the model to combat the high variance, and thus reduce the gap between the training and validation accuracies. I ended my modeling workflow with a transfer learning approach, specifically using the `RMSNet50` CNN pre-trained network to identify the surface patterns, before freezing the base and building another model to identify the abstract features in the training data. This approach also allows for data augmentation, paving the way for further improvement. \n",
    "\n",
    "The augmented CNN model yielded the best validation accuracy. Luckily, the model was saved using the ModelCheckpoint technique, which was then applied to the testing images for evaluation. The model yielded 40.3% accuracy after testing 524 testing images, and 176 false negatives out of those 524 predictions; obviously, there is much room for improvement and further work."
   ]
  },
  {
   "cell_type": "markdown",
   "metadata": {},
   "source": [
    "# Business Problem\n",
    "Hospital executives approved the development of a radiology department, as part of their initiative for expansion. The goal is to cut costs on outsourcing tasks by creating in-house units - starting with radiology - that utilize A.I. technology. In an effort to streamline diagnostic testing, I'm tasked with building a deep learning classifier that will accurately analyze X-ray images, which will allow their physicians to put more focus on interventional planning and patient treatment.\n",
    "\n",
    "This project's objective is to build an algorithm that will accurately classify X-ray images (specifically chest images) between two classes (\"NORMAL\" and \"PNEUMONIA\"). I'll be using data, available on Kaggle, that was gathered by Kermany, Goldbaum et al., and can be found at the bottom of the notebook.\n",
    "> Note: It is vital you run the `'validation_data_preparation.ipynb'` file prior to beginning this project, if you or another attempts to mimic the work. The file contains data preparation steps that are mentioned below. "
   ]
  },
  {
   "cell_type": "markdown",
   "metadata": {},
   "source": [
    "***\n",
    "<img src=\"https://media.licdn.com/dms/image/D4D12AQEqfniioS4KVQ/article-cover_image-shrink_720_1280/0/1677311223167?e=2147483647&v=beta&t=loMCjRjjqYyKI72mjdbVk5_XbxRdzonIKz0qRn-BcXo\" style=\"height:500px; width:875px\" />"
   ]
  },
  {
   "cell_type": "markdown",
   "metadata": {},
   "source": [
    "## Data Understanding\n",
    "To begin, I import all the relevant libraries, and set a seed to be able to reproduce the results from this analysis. Next, I create objects containing the pathway for each directory so that I can begin examining the data. I use the `ImageDataGenerator` function I imported to generate the image data in each directory, and then split the datasets into two groups - images (input) and labels (output). \n",
    "> Note: In a separate notebook (`'validation_data_preparation.ipynb'`), I increased the number of validation images from 16 to 116 images, by using the `os` and `shutil` modules to move random files from the testing directories. \n"
   ]
  },
  {
   "cell_type": "code",
   "execution_count": 1,
   "metadata": {},
   "outputs": [],
   "source": [
    "# Import all the necessary libraries\n",
    "from sklearn.model_selection import cross_val_score, KFold\n",
    "from sklearn.metrics import confusion_matrix\n",
    "from tensorflow.keras.utils import get_file, Sequence\n",
    "from imblearn.over_sampling import RandomOverSampler\n",
    "from imblearn.tensorflow import balanced_batch_generator\n",
    "from collections import Counter\n",
    "import numpy as np\n",
    "import pandas as pd\n",
    "import seaborn as sns\n",
    "import matplotlib.pyplot as plt\n",
    "%matplotlib inline\n",
    "\n",
    "from tensorflow.keras.preprocessing.image import ImageDataGenerator, array_to_img\n",
    "from tensorflow.keras.models import Sequential, load_model\n",
    "from tensorflow.keras.layers import Dense, Conv2D, MaxPooling2D, Flatten\n",
    "from tensorflow.keras.wrappers import scikit_learn\n",
    "from tensorflow.keras.callbacks import EarlyStopping, ModelCheckpoint\n",
    "from tensorflow.keras import regularizers, optimizers\n",
    "from keras.applications import ResNet50\n",
    "import os, shutil, random\n",
    "\n",
    "# Create a seed for reproducibility\n",
    "seed=24"
   ]
  },
  {
   "cell_type": "code",
   "execution_count": 2,
   "metadata": {},
   "outputs": [
    {
     "name": "stdout",
     "output_type": "stream",
     "text": [
      "Found 5216 images belonging to 2 classes.\n",
      "Found 524 images belonging to 2 classes.\n",
      "Found 116 images belonging to 2 classes.\n"
     ]
    }
   ],
   "source": [
    "# Create directory path objects\n",
    "train_data_dir = 'data/chest_xray/train'\n",
    "test_data_dir = 'data/chest_xray/test'\n",
    "validation_dir = 'data/chest_xray/val'\n",
    "\n",
    "# Gather and reshape the data in each directory object\n",
    "train_generator = ImageDataGenerator().flow_from_directory(train_data_dir, target_size=(64, 64), batch_size=5216,\n",
    "                                                           seed=seed)\n",
    "test_generator = ImageDataGenerator().flow_from_directory(test_data_dir, target_size=(64, 64), batch_size=524,\n",
    "                                                           seed=seed)\n",
    "val_generator = ImageDataGenerator().flow_from_directory(validation_dir, target_size=(64, 64), batch_size=116,\n",
    "                                                           seed=seed)\n",
    "\n",
    "# Create the datasets\n",
    "train_images, train_labels = next(train_generator)\n",
    "test_images, test_labels = next(test_generator)\n",
    "val_images, val_labels = next(val_generator)"
   ]
  },
  {
   "cell_type": "markdown",
   "metadata": {},
   "source": [
    "As you can see above, there are 5,216 training images, 116 validation images (thanks to the initial data preparation), and 524 testing images. Now that the data has been loaded and split, I preview a couple of images as plots for a look at what I'll be working with."
   ]
  },
  {
   "cell_type": "code",
   "execution_count": 3,
   "metadata": {},
   "outputs": [
    {
     "data": {
      "image/png": "[encoded data removed]",
      "text/plain": [
       "<Figure size 432x288 with 1 Axes>"
      ]
     },
     "metadata": {
      "needs_background": "light"
     },
     "output_type": "display_data"
    },
    {
     "data": {
      "image/png": "[encoded data removed]",
      "text/plain": [
       "<Figure size 432x288 with 1 Axes>"
      ]
     },
     "metadata": {
      "needs_background": "light"
     },
     "output_type": "display_data"
    }
   ],
   "source": [
    "# Plot some images\n",
    "plt.imshow(train_images[17]/255)\n",
    "plt.show()\n",
    "\n",
    "plt.imshow(train_images[4200]/255)\n",
    "plt.show()"
   ]
  },
  {
   "cell_type": "markdown",
   "metadata": {},
   "source": [
    "To get a better idea of my data, I also list the shape of both the images and labels for each dataset. As you can see, the images have four dimensions - the first is the number of images, the middle values represent the size of the images, and the fourth value represents the number of channels. "
   ]
  },
  {
   "cell_type": "code",
   "execution_count": 4,
   "metadata": {},
   "outputs": [
    {
     "name": "stdout",
     "output_type": "stream",
     "text": [
      "Train Data Shape:\n",
      "(5216, 64, 64, 3)\n",
      "(5216, 2)\n",
      "\n",
      "Test Data Shape:\n",
      "(524, 64, 64, 3)\n",
      "(524, 2)\n",
      "\n",
      "Validation Data Shape:\n",
      "(116, 64, 64, 3)\n",
      "(116, 2)\n"
     ]
    }
   ],
   "source": [
    "# Preview the shape of the data\n",
    "print(\"Train Data Shape:\")\n",
    "print(np.shape(train_images))\n",
    "print(np.shape(train_labels))\n",
    "print(\"\\nTest Data Shape:\")\n",
    "print(np.shape(test_images))\n",
    "print(np.shape(test_labels))\n",
    "print(\"\\nValidation Data Shape:\")\n",
    "print(np.shape(val_images))\n",
    "print(np.shape(val_labels))"
   ]
  },
  {
   "cell_type": "markdown",
   "metadata": {},
   "source": [
    "I also list the classes I will be working with in this analysis, and visualize the class distribution before reshaping the labels."
   ]
  },
  {
   "cell_type": "code",
   "execution_count": 5,
   "metadata": {},
   "outputs": [
    {
     "data": {
      "text/plain": [
       "{'NORMAL': 0, 'PNEUMONIA': 1}"
      ]
     },
     "execution_count": 5,
     "metadata": {},
     "output_type": "execute_result"
    }
   ],
   "source": [
    "# List the classes\n",
    "train_generator.class_indices"
   ]
  },
  {
   "cell_type": "code",
   "execution_count": 6,
   "metadata": {},
   "outputs": [
    {
     "data": {
      "image/png": "[encoded data removed]",
      "text/plain": [
       "<Figure size 432x288 with 1 Axes>"
      ]
     },
     "metadata": {
      "needs_background": "light"
     },
     "output_type": "display_data"
    }
   ],
   "source": [
    "# Create sub-directory path objects within the training directory\n",
    "normal_class = train_data_dir + '/NORMAL'\n",
    "pneu_class = train_data_dir + '/PNEUMONIA'\n",
    "\n",
    "# Get the class distribution\n",
    "num_classes = {'Normal': len(os.listdir(normal_class)),\n",
    "               'Pneumonia': len(os.listdir(pneu_class))}\n",
    "\n",
    "# Plot the class distribution \n",
    "plt.bar(num_classes.keys(), num_classes.values(), color='orangered')\n",
    "plt.xlabel('Classes')\n",
    "plt.ylabel('Frequency')\n",
    "plt.title('Class Distribution')\n",
    "plt.show()"
   ]
  },
  {
   "cell_type": "markdown",
   "metadata": {},
   "source": [
    "I see above that one class far outnumbers the other, which can skew the modeling results to favor predictions for that class. Therefore, I'll begin to oversample the data in order to model with a balanced dataset. I use the `RandomOverSampler` function to fit and resample my training data, then revert the oversampled training data to its original dimensions. "
   ]
  },
  {
   "cell_type": "code",
   "execution_count": 7,
   "metadata": {},
   "outputs": [
    {
     "name": "stdout",
     "output_type": "stream",
     "text": [
      "(1, 5216)\n",
      "(1, 524)\n",
      "(1, 116)\n"
     ]
    }
   ],
   "source": [
    "# Reshape the labels\n",
    "y_train_labels = train_labels.T[[1]]\n",
    "y_test_labels = test_labels.T[[1]]\n",
    "y_val_labels = val_labels.T[[1]]\n",
    "\n",
    "# Check the shape of the transformed labels \n",
    "print(np.shape(y_train_labels))\n",
    "print(np.shape(y_test_labels))\n",
    "print(np.shape(y_val_labels))"
   ]
  },
  {
   "cell_type": "code",
   "execution_count": 8,
   "metadata": {},
   "outputs": [],
   "source": [
    "# Reshaping the training data for oversampling\n",
    "reshaped_train = train_images.reshape(train_images.shape[0],-1)\n",
    "\n",
    "# Oversampling the training data\n",
    "oversample = RandomOverSampler()\n",
    "oversampled_X, oversampled_y = oversample.fit_resample(reshaped_train, y_train_labels.T)\n",
    "\n",
    "# Reshaping the training data back to the original dimensions\n",
    "sampled_train_images = oversampled_X.reshape(-1, 64, 64, 3)"
   ]
  },
  {
   "cell_type": "code",
   "execution_count": 9,
   "metadata": {},
   "outputs": [
    {
     "name": "stdout",
     "output_type": "stream",
     "text": [
      "Resampled dataset shape Counter({0.0: 3875, 1.0: 3875})\n"
     ]
    }
   ],
   "source": [
    "# Calculate new class distribution\n",
    "print('Resampled dataset shape', Counter(oversampled_y))"
   ]
  },
  {
   "cell_type": "markdown",
   "metadata": {},
   "source": [
    "The `Counter` function is used as a check, and confirms the classes have been balanced.\n",
    "\n",
    "> Note: Reshaping the classes was only meant to examine whether the images truely corresponded with their labels. I confirm this with the two following image plots, where the first accurately displays a \"normal\", or healthy, image, and the second displays an image for a pneumonia-ridden patient. "
   ]
  },
  {
   "cell_type": "code",
   "execution_count": 10,
   "metadata": {},
   "outputs": [
    {
     "data": {
      "image/png": "[encoded data removed]",
      "text/plain": [
       "<Figure size 432x288 with 1 Axes>"
      ]
     },
     "metadata": {
      "needs_background": "light"
     },
     "output_type": "display_data"
    },
    {
     "name": "stdout",
     "output_type": "stream",
     "text": [
      "[0.]\n"
     ]
    }
   ],
   "source": [
    "# Confirm that the image matches with its corresponding label\n",
    "plt.imshow(sampled_train_images[1400]/255)\n",
    "plt.show()\n",
    "print(y_train_labels[:, 1400])"
   ]
  },
  {
   "cell_type": "code",
   "execution_count": 11,
   "metadata": {},
   "outputs": [
    {
     "data": {
      "image/png": "[encoded data removed]",
      "text/plain": [
       "<Figure size 432x288 with 1 Axes>"
      ]
     },
     "metadata": {
      "needs_background": "light"
     },
     "output_type": "display_data"
    },
    {
     "name": "stdout",
     "output_type": "stream",
     "text": [
      "[1.]\n"
     ]
    }
   ],
   "source": [
    "# Confirm that the image matches with its corresponding label\n",
    "plt.imshow(sampled_train_images[14]/255)\n",
    "plt.show()\n",
    "print(y_train_labels[:, 14])"
   ]
  },
  {
   "cell_type": "markdown",
   "metadata": {},
   "source": [
    "## Modeling\n",
    "\n",
    "### Baseline Model:\n",
    "As I mentioned earlier, the initial reshaping was meant to view the images. Now, the training and validation images will need to be reshaped again, along with their labels, so that they contain the same first dimension. After, I standardize the images by dividing by 255 (due to the range of pixel intensity values falling between \\[0, 255]\\)."
   ]
  },
  {
   "cell_type": "code",
   "execution_count": 12,
   "metadata": {},
   "outputs": [
    {
     "name": "stdout",
     "output_type": "stream",
     "text": [
      "(7750, 12288)\n",
      "(524, 12288)\n",
      "(116, 12288)\n"
     ]
    }
   ],
   "source": [
    "# Reshape the train, test, and validation images for modeling\n",
    "X_train = sampled_train_images.reshape(7750, -1)\n",
    "X_test = test_images.reshape(524, -1)\n",
    "X_val = val_images.reshape(116, -1)\n",
    "\n",
    "# Preview the shape of each newly-formed objects\n",
    "print(np.shape(X_train))\n",
    "print(np.shape(X_test))\n",
    "print(np.shape(X_val))"
   ]
  },
  {
   "cell_type": "code",
   "execution_count": 13,
   "metadata": {},
   "outputs": [],
   "source": [
    "# Standardize the datasets\n",
    "X_train_final = X_train/255\n",
    "X_test_final = X_test/255\n",
    "X_val_final = X_val/255"
   ]
  },
  {
   "cell_type": "code",
   "execution_count": 14,
   "metadata": {},
   "outputs": [
    {
     "name": "stdout",
     "output_type": "stream",
     "text": [
      "(7750, 1)\n",
      "(524, 1)\n",
      "(116, 1)\n"
     ]
    }
   ],
   "source": [
    "# Reshape the labels for modeling\n",
    "y_train = np.reshape(oversampled_y, (7750, 1))\n",
    "y_test = np.reshape(test_labels[:, 0], (524, 1))\n",
    "y_val = np.reshape(val_labels[:, 0], (116, 1))\n",
    "\n",
    "# Check the shape of the transformed labels \n",
    "print(np.shape(y_train))\n",
    "print(np.shape(y_test))\n",
    "print(np.shape(y_val))"
   ]
  },
  {
   "cell_type": "markdown",
   "metadata": {},
   "source": [
    "Now that the data is fully manipulated, I begin building my baseline neural network by calling the `Sequential` function, then adding two `Dense` hidden layers with ReLu as my activation functions. I also pass in the input shape to create my input layer. The last layer acts as my output layer with a Sigmoid activation function. \n",
    "\n",
    "Once constructed, I compile the baseline model, using parameters I chose from prior research (links provided at the bottom). Therefore, `RMSprop` and binary cross-entropy will act as my optimizer and loss functions, respectively. I preview the model summary in order to highlight the number of parameters being trained in each layer, and the shape of the output. "
   ]
  },
  {
   "cell_type": "code",
   "execution_count": 15,
   "metadata": {},
   "outputs": [],
   "source": [
    "# Create a dense baseline neural network\n",
    "baseline_model = Sequential()\n",
    "baseline_model.add(Dense(32, activation='relu', input_shape=(12288, )))\n",
    "baseline_model.add(Dense(8, activation='relu'))\n",
    "baseline_model.add(Dense(1, activation='sigmoid'))"
   ]
  },
  {
   "cell_type": "code",
   "execution_count": 16,
   "metadata": {},
   "outputs": [
    {
     "name": "stdout",
     "output_type": "stream",
     "text": [
      "Model: \"sequential\"\n",
      "_________________________________________________________________\n",
      "Layer (type)                 Output Shape              Param #   \n",
      "=================================================================\n",
      "dense (Dense)                (None, 32)                393248    \n",
      "_________________________________________________________________\n",
      "dense_1 (Dense)              (None, 8)                 264       \n",
      "_________________________________________________________________\n",
      "dense_2 (Dense)              (None, 1)                 9         \n",
      "=================================================================\n",
      "Total params: 393,521\n",
      "Trainable params: 393,521\n",
      "Non-trainable params: 0\n",
      "_________________________________________________________________\n"
     ]
    }
   ],
   "source": [
    "# Compile the baseline model\n",
    "baseline_model.compile(loss='binary_crossentropy', optimizer='RMSprop', metrics=['acc'])\n",
    "\n",
    "# List a summary of the baseline model\n",
    "baseline_model.summary()"
   ]
  },
  {
   "cell_type": "markdown",
   "metadata": {},
   "source": [
    "There are 393,521 different parameters being trained in this network, but only 1 value will be output. I fit the model to the training data and labels, while also using the validation data to further validate these results. I also set the number of epochs to 50, with a 64 image batch size."
   ]
  },
  {
   "cell_type": "code",
   "execution_count": 17,
   "metadata": {
    "scrolled": true
   },
   "outputs": [
    {
     "name": "stdout",
     "output_type": "stream",
     "text": [
      "Epoch 1/50\n",
      "122/122 [==============================] - 2s 12ms/step - loss: 0.5959 - acc: 0.7174 - val_loss: 1.7522 - val_acc: 0.4828\n",
      "Epoch 2/50\n",
      "122/122 [==============================] - 2s 14ms/step - loss: 0.4817 - acc: 0.8561 - val_loss: 1.3445 - val_acc: 0.1379\n",
      "Epoch 3/50\n",
      "122/122 [==============================] - 2s 15ms/step - loss: 0.4274 - acc: 0.8883 - val_loss: 2.5905 - val_acc: 0.4052\n",
      "Epoch 4/50\n",
      "122/122 [==============================] - 2s 14ms/step - loss: 0.3860 - acc: 0.9043 - val_loss: 3.6444 - val_acc: 0.4397\n",
      "Epoch 5/50\n",
      "122/122 [==============================] - 2s 15ms/step - loss: 0.3616 - acc: 0.9130 - val_loss: 3.1805 - val_acc: 0.3707\n",
      "Epoch 6/50\n",
      "122/122 [==============================] - 2s 14ms/step - loss: 0.3356 - acc: 0.9172 - val_loss: 0.9020 - val_acc: 0.4052\n",
      "Epoch 7/50\n",
      "122/122 [==============================] - 2s 15ms/step - loss: 0.3188 - acc: 0.9169 - val_loss: 3.6609 - val_acc: 0.3793\n",
      "Epoch 8/50\n",
      "122/122 [==============================] - 2s 15ms/step - loss: 0.2965 - acc: 0.9290 - val_loss: 3.6025 - val_acc: 0.3793\n",
      "Epoch 9/50\n",
      "122/122 [==============================] - 2s 15ms/step - loss: 0.2768 - acc: 0.9307 - val_loss: 3.2251 - val_acc: 0.2759\n",
      "Epoch 10/50\n",
      "122/122 [==============================] - 2s 15ms/step - loss: 0.2662 - acc: 0.9319 - val_loss: 3.6656 - val_acc: 0.3190\n",
      "Epoch 11/50\n",
      "122/122 [==============================] - 2s 15ms/step - loss: 0.2172 - acc: 0.9356 - val_loss: 3.5485 - val_acc: 0.2759\n",
      "Epoch 12/50\n",
      "122/122 [==============================] - 2s 14ms/step - loss: 0.1563 - acc: 0.9405 - val_loss: 5.4552 - val_acc: 0.4655\n",
      "Epoch 13/50\n",
      "122/122 [==============================] - 2s 15ms/step - loss: 0.1607 - acc: 0.9408 - val_loss: 3.5066 - val_acc: 0.3190\n",
      "Epoch 14/50\n",
      "122/122 [==============================] - 2s 15ms/step - loss: 0.1469 - acc: 0.9472 - val_loss: 3.5882 - val_acc: 0.4224\n",
      "Epoch 15/50\n",
      "122/122 [==============================] - 2s 14ms/step - loss: 0.1441 - acc: 0.9452 - val_loss: 3.2168 - val_acc: 0.2414\n",
      "Epoch 16/50\n",
      "122/122 [==============================] - 2s 15ms/step - loss: 0.1431 - acc: 0.9449 - val_loss: 3.1291 - val_acc: 0.2069\n",
      "Epoch 17/50\n",
      "122/122 [==============================] - 2s 14ms/step - loss: 0.1361 - acc: 0.9508 - val_loss: 3.2455 - val_acc: 0.2328\n",
      "Epoch 18/50\n",
      "122/122 [==============================] - 2s 15ms/step - loss: 0.1343 - acc: 0.9485 - val_loss: 3.9345 - val_acc: 0.2759\n",
      "Epoch 19/50\n",
      "122/122 [==============================] - 2s 14ms/step - loss: 0.1322 - acc: 0.9502 - val_loss: 3.7016 - val_acc: 0.3276\n",
      "Epoch 20/50\n",
      "122/122 [==============================] - 2s 15ms/step - loss: 0.1245 - acc: 0.9519 - val_loss: 3.0278 - val_acc: 0.2241\n",
      "Epoch 21/50\n",
      "122/122 [==============================] - 2s 15ms/step - loss: 0.1256 - acc: 0.9534 - val_loss: 4.6386 - val_acc: 0.3534\n",
      "Epoch 22/50\n",
      "122/122 [==============================] - 2s 15ms/step - loss: 0.1213 - acc: 0.9552 - val_loss: 4.5066 - val_acc: 0.3276\n",
      "Epoch 23/50\n",
      "122/122 [==============================] - 2s 15ms/step - loss: 0.1216 - acc: 0.9542 - val_loss: 4.1807 - val_acc: 0.3190\n",
      "Epoch 24/50\n",
      "122/122 [==============================] - 2s 15ms/step - loss: 0.1150 - acc: 0.9595 - val_loss: 3.3264 - val_acc: 0.2414\n",
      "Epoch 25/50\n",
      "122/122 [==============================] - 2s 15ms/step - loss: 0.1112 - acc: 0.9599 - val_loss: 3.7133 - val_acc: 0.2155\n",
      "Epoch 26/50\n",
      "122/122 [==============================] - 2s 15ms/step - loss: 0.1093 - acc: 0.9601 - val_loss: 4.7839 - val_acc: 0.3793\n",
      "Epoch 27/50\n",
      "122/122 [==============================] - 2s 14ms/step - loss: 0.1122 - acc: 0.9608 - val_loss: 5.2353 - val_acc: 0.4655\n",
      "Epoch 28/50\n",
      "122/122 [==============================] - 2s 15ms/step - loss: 0.1091 - acc: 0.9623 - val_loss: 5.1958 - val_acc: 0.3534\n",
      "Epoch 29/50\n",
      "122/122 [==============================] - 2s 15ms/step - loss: 0.1057 - acc: 0.9608 - val_loss: 4.2955 - val_acc: 0.2500\n",
      "Epoch 30/50\n",
      "122/122 [==============================] - 2s 13ms/step - loss: 0.1092 - acc: 0.9597 - val_loss: 3.4704 - val_acc: 0.1983\n",
      "Epoch 31/50\n",
      "122/122 [==============================] - 2s 14ms/step - loss: 0.0967 - acc: 0.9639 - val_loss: 6.9796 - val_acc: 0.4397\n",
      "Epoch 32/50\n",
      "122/122 [==============================] - 2s 15ms/step - loss: 0.1013 - acc: 0.9613 - val_loss: 3.2522 - val_acc: 0.2069\n",
      "Epoch 33/50\n",
      "122/122 [==============================] - 2s 13ms/step - loss: 0.0965 - acc: 0.9641 - val_loss: 4.6553 - val_acc: 0.3276\n",
      "Epoch 34/50\n",
      "122/122 [==============================] - 2s 15ms/step - loss: 0.0944 - acc: 0.9641 - val_loss: 7.3087 - val_acc: 0.4655\n",
      "Epoch 35/50\n",
      "122/122 [==============================] - 2s 13ms/step - loss: 0.0924 - acc: 0.9674 - val_loss: 6.0729 - val_acc: 0.3103\n",
      "Epoch 36/50\n",
      "122/122 [==============================] - 2s 13ms/step - loss: 0.0931 - acc: 0.9653 - val_loss: 5.5858 - val_acc: 0.3448\n",
      "Epoch 37/50\n",
      "122/122 [==============================] - 2s 13ms/step - loss: 0.0867 - acc: 0.9688 - val_loss: 5.8873 - val_acc: 0.3276\n",
      "Epoch 38/50\n",
      "122/122 [==============================] - 2s 14ms/step - loss: 0.0917 - acc: 0.9663 - val_loss: 9.4019 - val_acc: 0.4741\n",
      "Epoch 39/50\n",
      "122/122 [==============================] - 2s 14ms/step - loss: 0.0948 - acc: 0.9690 - val_loss: 5.0686 - val_acc: 0.2759\n",
      "Epoch 40/50\n",
      "122/122 [==============================] - 2s 14ms/step - loss: 0.0855 - acc: 0.9681 - val_loss: 5.8988 - val_acc: 0.3190\n",
      "Epoch 41/50\n",
      "122/122 [==============================] - 2s 14ms/step - loss: 0.0856 - acc: 0.9719 - val_loss: 5.2516 - val_acc: 0.2586\n",
      "Epoch 42/50\n",
      "122/122 [==============================] - 2s 14ms/step - loss: 0.0809 - acc: 0.9703 - val_loss: 6.5915 - val_acc: 0.4052\n",
      "Epoch 43/50\n",
      "122/122 [==============================] - 2s 14ms/step - loss: 0.0803 - acc: 0.9692 - val_loss: 6.0520 - val_acc: 0.3448\n",
      "Epoch 44/50\n",
      "122/122 [==============================] - 2s 14ms/step - loss: 0.0762 - acc: 0.9705 - val_loss: 5.2649 - val_acc: 0.2500\n",
      "Epoch 45/50\n",
      "122/122 [==============================] - 2s 13ms/step - loss: 0.0812 - acc: 0.9721 - val_loss: 5.9232 - val_acc: 0.3276\n",
      "Epoch 46/50\n",
      "122/122 [==============================] - 2s 15ms/step - loss: 0.0764 - acc: 0.9725 - val_loss: 5.9795 - val_acc: 0.2845\n",
      "Epoch 47/50\n",
      "122/122 [==============================] - 2s 14ms/step - loss: 0.0756 - acc: 0.9746 - val_loss: 6.0344 - val_acc: 0.2414\n",
      "Epoch 48/50\n",
      "122/122 [==============================] - 2s 14ms/step - loss: 0.0733 - acc: 0.9737 - val_loss: 6.6493 - val_acc: 0.3707\n",
      "Epoch 49/50\n",
      "122/122 [==============================] - 2s 14ms/step - loss: 0.0726 - acc: 0.9743 - val_loss: 7.1135 - val_acc: 0.3707\n",
      "Epoch 50/50\n",
      "122/122 [==============================] - 2s 15ms/step - loss: 0.0692 - acc: 0.9746 - val_loss: 4.3867 - val_acc: 0.1897\n"
     ]
    }
   ],
   "source": [
    "# Fit the baseline model\n",
    "baseline = baseline_model.fit(X_train_final, y_train, epochs=50, batch_size=64,\n",
    "                                      validation_data=(X_val_final, y_val))"
   ]
  },
  {
   "cell_type": "code",
   "execution_count": 18,
   "metadata": {},
   "outputs": [
    {
     "name": "stdout",
     "output_type": "stream",
     "text": [
      "243/243 [==============================] - 1s 3ms/step - loss: 0.4499 - acc: 0.8516\n",
      "Training data results:\n",
      "[0.44989529252052307, 0.85161292552948]\n",
      "\n",
      "\n",
      "4/4 [==============================] - 0s 2ms/step - loss: 4.3867 - acc: 0.1897\n",
      "Validation data results:\n",
      "[4.386716365814209, 0.18965516984462738]\n"
     ]
    }
   ],
   "source": [
    "# Evaluate the loss and accuracy scores for the training and validation datasets\n",
    "print(f'Training data results:\\n{baseline_model.evaluate(X_train_final, y_train)}')\n",
    "print('\\n')\n",
    "print(f'Validation data results:\\n{baseline_model.evaluate(X_val_final, y_val)}')"
   ]
  },
  {
   "cell_type": "markdown",
   "metadata": {},
   "source": [
    "The baseline results above generated a 85.2% accuracy rate for the training data, but only 19.0% for the validation data, which is horrible, and implies the model is overfitting to the training data. To get a better idea, I create a function that will visualize my training results going forward, and apply it to the baseline model."
   ]
  },
  {
   "cell_type": "code",
   "execution_count": 19,
   "metadata": {},
   "outputs": [
    {
     "data": {
      "image/png": "[encoded data removed]",
      "text/plain": [
       "<Figure size 432x288 with 1 Axes>"
      ]
     },
     "metadata": {
      "needs_background": "light"
     },
     "output_type": "display_data"
    },
    {
     "data": {
      "image/png": "[encoded data removed]",
      "text/plain": [
       "<Figure size 432x288 with 1 Axes>"
      ]
     },
     "metadata": {
      "needs_background": "light"
     },
     "output_type": "display_data"
    }
   ],
   "source": [
    "# Create a function that will visualize the training results for both datasets\n",
    "def visualize_training_results(results):\n",
    "    acc = results.history['acc']\n",
    "    val_acc = results.history['val_acc']\n",
    "    loss = results.history['loss']\n",
    "    val_loss = results.history['val_loss']\n",
    "    epochs = range(len(acc))\n",
    "    \n",
    "    plt.figure()\n",
    "    plt.plot(epochs, acc, 'r', label='Training accuracy')\n",
    "    plt.plot(epochs, val_acc, 'b', label='Validation accuracy')\n",
    "    plt.title('Training and Validation Accuracy')\n",
    "    plt.xlabel('Epochs')\n",
    "    plt.ylabel('Accuracy')\n",
    "    plt.legend(loc='center left', bbox_to_anchor=(1, 0.5))\n",
    "    plt.show()\n",
    "    \n",
    "    plt.figure()\n",
    "    plt.plot(epochs, loss, 'r', label='Training loss')\n",
    "    plt.plot(epochs, val_loss, 'b', label='Validation loss')\n",
    "    plt.title('Training and Validation Loss')\n",
    "    plt.xlabel('Epochs')\n",
    "    plt.ylabel('Loss')\n",
    "    plt.legend(loc='center left', bbox_to_anchor=(1, 0.5))\n",
    "    plt.show()\n",
    "\n",
    "visualize_training_results(baseline)"
   ]
  },
  {
   "cell_type": "markdown",
   "metadata": {},
   "source": [
    "The visuals above further confirm the overfitting theory. The large gaps in both the accuracies and losses serve as evidence, in addition to the training data's plots coming out rather clean when compared to the validation metrics. In order to eliminate the overfitting, I must tune the model."
   ]
  },
  {
   "cell_type": "markdown",
   "metadata": {},
   "source": [
    "### Regularizing the Baseline Model:\n",
    "In order to reduce overfitting to the training data, I apply lasso (L2) regularization, specifically with a penalty of 0.01. The network architecture remains similar to the baseline's framework, with the exception of the L2 regularizer addition in the `kernel_regularizer` parameter. I fit the model with the same number of epochs and batch size, and evaluate the model with the validation data. "
   ]
  },
  {
   "cell_type": "code",
   "execution_count": 20,
   "metadata": {
    "scrolled": true
   },
   "outputs": [
    {
     "name": "stdout",
     "output_type": "stream",
     "text": [
      "Epoch 1/50\n",
      "122/122 [==============================] - 2s 16ms/step - loss: 1.1665 - acc: 0.6338 - val_loss: 0.8103 - val_acc: 0.5000\n",
      "Epoch 2/50\n",
      "122/122 [==============================] - 2s 14ms/step - loss: 0.6914 - acc: 0.6884 - val_loss: 1.4975 - val_acc: 0.2155\n",
      "Epoch 3/50\n",
      "122/122 [==============================] - 2s 15ms/step - loss: 0.6333 - acc: 0.7608 - val_loss: 1.6341 - val_acc: 0.1724\n",
      "Epoch 4/50\n",
      "122/122 [==============================] - 2s 15ms/step - loss: 0.6303 - acc: 0.7925 - val_loss: 1.7870 - val_acc: 0.3966\n",
      "Epoch 5/50\n",
      "122/122 [==============================] - 2s 15ms/step - loss: 0.6738 - acc: 0.8053 - val_loss: 1.6960 - val_acc: 0.3017\n",
      "Epoch 6/50\n",
      "122/122 [==============================] - 2s 15ms/step - loss: 0.6896 - acc: 0.8108 - val_loss: 1.8386 - val_acc: 0.2672\n",
      "Epoch 7/50\n",
      "122/122 [==============================] - 2s 15ms/step - loss: 0.6361 - acc: 0.8164 - val_loss: 1.8955 - val_acc: 0.2328\n",
      "Epoch 8/50\n",
      "122/122 [==============================] - 2s 15ms/step - loss: 0.5408 - acc: 0.8221 - val_loss: 1.8253 - val_acc: 0.1466\n",
      "Epoch 9/50\n",
      "122/122 [==============================] - 2s 14ms/step - loss: 0.5410 - acc: 0.8259 - val_loss: 2.6444 - val_acc: 0.4914\n",
      "Epoch 10/50\n",
      "122/122 [==============================] - 2s 15ms/step - loss: 0.5328 - acc: 0.8337 - val_loss: 2.1371 - val_acc: 0.4569\n",
      "Epoch 11/50\n",
      "122/122 [==============================] - 2s 15ms/step - loss: 0.6300 - acc: 0.8262 - val_loss: 1.0927 - val_acc: 0.4310\n",
      "Epoch 12/50\n",
      "122/122 [==============================] - 2s 16ms/step - loss: 0.5729 - acc: 0.8196 - val_loss: 1.5743 - val_acc: 0.1983\n",
      "Epoch 13/50\n",
      "122/122 [==============================] - 2s 15ms/step - loss: 0.5213 - acc: 0.8394 - val_loss: 1.7595 - val_acc: 0.2845\n",
      "Epoch 14/50\n",
      "122/122 [==============================] - 2s 15ms/step - loss: 0.5623 - acc: 0.8294 - val_loss: 2.0086 - val_acc: 0.2155\n",
      "Epoch 15/50\n",
      "122/122 [==============================] - 2s 15ms/step - loss: 0.5226 - acc: 0.8325 - val_loss: 2.0119 - val_acc: 0.1638\n",
      "Epoch 16/50\n",
      "122/122 [==============================] - 2s 15ms/step - loss: 0.5271 - acc: 0.8360 - val_loss: 1.6372 - val_acc: 0.1552\n",
      "Epoch 17/50\n",
      "122/122 [==============================] - 2s 15ms/step - loss: 0.4795 - acc: 0.8494 - val_loss: 2.9220 - val_acc: 0.5000\n",
      "Epoch 18/50\n",
      "122/122 [==============================] - 2s 15ms/step - loss: 0.4896 - acc: 0.8484 - val_loss: 1.8639 - val_acc: 0.4224\n",
      "Epoch 19/50\n",
      "122/122 [==============================] - 2s 15ms/step - loss: 0.5790 - acc: 0.8644 - val_loss: 2.0160 - val_acc: 0.3017\n",
      "Epoch 20/50\n",
      "122/122 [==============================] - 2s 15ms/step - loss: 0.4851 - acc: 0.8448 - val_loss: 2.7824 - val_acc: 0.1983\n",
      "Epoch 21/50\n",
      "122/122 [==============================] - 2s 14ms/step - loss: 0.5169 - acc: 0.8672 - val_loss: 1.9837 - val_acc: 0.1897\n",
      "Epoch 22/50\n",
      "122/122 [==============================] - 1s 12ms/step - loss: 0.4815 - acc: 0.8575 - val_loss: 1.9181 - val_acc: 0.3276\n",
      "Epoch 23/50\n",
      "122/122 [==============================] - 2s 13ms/step - loss: 0.5287 - acc: 0.8492 - val_loss: 2.1066 - val_acc: 0.1724\n",
      "Epoch 24/50\n",
      "122/122 [==============================] - 2s 13ms/step - loss: 0.5409 - acc: 0.8486 - val_loss: 2.8064 - val_acc: 0.4741\n",
      "Epoch 25/50\n",
      "122/122 [==============================] - 2s 13ms/step - loss: 0.4804 - acc: 0.8577 - val_loss: 2.0436 - val_acc: 0.1897\n",
      "Epoch 26/50\n",
      "122/122 [==============================] - 2s 15ms/step - loss: 0.5262 - acc: 0.8489 - val_loss: 2.1672 - val_acc: 0.2500\n",
      "Epoch 27/50\n",
      "122/122 [==============================] - 2s 15ms/step - loss: 0.4497 - acc: 0.8648 - val_loss: 3.2096 - val_acc: 0.4741\n",
      "Epoch 28/50\n",
      "122/122 [==============================] - 2s 15ms/step - loss: 0.5167 - acc: 0.8693 - val_loss: 2.7472 - val_acc: 0.4741\n",
      "Epoch 29/50\n",
      "122/122 [==============================] - 2s 15ms/step - loss: 0.4782 - acc: 0.8636 - val_loss: 2.1280 - val_acc: 0.3793\n",
      "Epoch 30/50\n",
      "122/122 [==============================] - 2s 15ms/step - loss: 0.4570 - acc: 0.8755 - val_loss: 2.3523 - val_acc: 0.1724\n",
      "Epoch 31/50\n",
      "122/122 [==============================] - 2s 15ms/step - loss: 0.5278 - acc: 0.8630 - val_loss: 2.6539 - val_acc: 0.3879\n",
      "Epoch 32/50\n",
      "122/122 [==============================] - 2s 15ms/step - loss: 0.4642 - acc: 0.8733 - val_loss: 2.0035 - val_acc: 0.3103\n",
      "Epoch 33/50\n",
      "122/122 [==============================] - 2s 15ms/step - loss: 0.4734 - acc: 0.8711 - val_loss: 1.9986 - val_acc: 0.3707\n",
      "Epoch 34/50\n",
      "122/122 [==============================] - 2s 15ms/step - loss: 0.4931 - acc: 0.8610 - val_loss: 2.1468 - val_acc: 0.3793\n",
      "Epoch 35/50\n",
      "122/122 [==============================] - 2s 14ms/step - loss: 0.4988 - acc: 0.8666 - val_loss: 2.1949 - val_acc: 0.2586\n",
      "Epoch 36/50\n",
      "122/122 [==============================] - 2s 15ms/step - loss: 0.4450 - acc: 0.8676 - val_loss: 2.1039 - val_acc: 0.1724\n",
      "Epoch 37/50\n",
      "122/122 [==============================] - 2s 15ms/step - loss: 0.4645 - acc: 0.8885 - val_loss: 2.3066 - val_acc: 0.2241\n",
      "Epoch 38/50\n",
      "122/122 [==============================] - 2s 15ms/step - loss: 0.7847 - acc: 0.8325 - val_loss: 4.6390 - val_acc: 0.3879\n",
      "Epoch 39/50\n",
      "122/122 [==============================] - 2s 15ms/step - loss: 0.7073 - acc: 0.8359 - val_loss: 2.0891 - val_acc: 0.1724\n",
      "Epoch 40/50\n",
      "122/122 [==============================] - 2s 15ms/step - loss: 0.4679 - acc: 0.8803 - val_loss: 3.7855 - val_acc: 0.5000\n",
      "Epoch 41/50\n",
      "122/122 [==============================] - 2s 14ms/step - loss: 0.4189 - acc: 0.8832 - val_loss: 2.9351 - val_acc: 0.5000\n",
      "Epoch 42/50\n",
      "122/122 [==============================] - 2s 15ms/step - loss: 0.4443 - acc: 0.8775 - val_loss: 2.8805 - val_acc: 0.4655\n",
      "Epoch 43/50\n",
      "122/122 [==============================] - 2s 14ms/step - loss: 0.4741 - acc: 0.8785 - val_loss: 2.3021 - val_acc: 0.2931\n",
      "Epoch 44/50\n",
      "122/122 [==============================] - 2s 15ms/step - loss: 0.4508 - acc: 0.8844 - val_loss: 2.1591 - val_acc: 0.2155\n",
      "Epoch 45/50\n",
      "122/122 [==============================] - 2s 15ms/step - loss: 0.5099 - acc: 0.8796 - val_loss: 2.1814 - val_acc: 0.2155\n",
      "Epoch 46/50\n",
      "122/122 [==============================] - 2s 15ms/step - loss: 0.6057 - acc: 0.8505 - val_loss: 5.5957 - val_acc: 0.5000\n",
      "Epoch 47/50\n",
      "122/122 [==============================] - 2s 15ms/step - loss: 0.4445 - acc: 0.8855 - val_loss: 2.8644 - val_acc: 0.4569\n",
      "Epoch 48/50\n",
      "122/122 [==============================] - 2s 15ms/step - loss: 0.4490 - acc: 0.8766 - val_loss: 3.1468 - val_acc: 0.1810\n",
      "Epoch 49/50\n",
      "122/122 [==============================] - 2s 15ms/step - loss: 0.5234 - acc: 0.8792 - val_loss: 2.2452 - val_acc: 0.2069\n",
      "Epoch 50/50\n",
      "122/122 [==============================] - 2s 15ms/step - loss: 0.4939 - acc: 0.8787 - val_loss: 2.2174 - val_acc: 0.1897\n"
     ]
    }
   ],
   "source": [
    "# Regularize the baseline model\n",
    "regularized_model = Sequential()\n",
    "regularized_model.add(Dense(32, activation='relu', \n",
    "                            kernel_regularizer=regularizers.l2(0.01), input_shape=(12288, )))\n",
    "regularized_model.add(Dense(8, activation='relu'))\n",
    "regularized_model.add(Dense(1, activation = 'sigmoid'))\n",
    "regularized_model.compile(loss='binary_crossentropy', \n",
    "                  optimizer='RMSprop', \n",
    "                  metrics=['acc'])\n",
    "results = regularized_model.fit(X_train_final, y_train, epochs=50, batch_size=64,\n",
    "                                      validation_data=(X_val_final, y_val))"
   ]
  },
  {
   "cell_type": "code",
   "execution_count": 21,
   "metadata": {
    "scrolled": false
   },
   "outputs": [
    {
     "data": {
      "image/png": "[encoded data removed]",
      "text/plain": [
       "<Figure size 432x288 with 1 Axes>"
      ]
     },
     "metadata": {
      "needs_background": "light"
     },
     "output_type": "display_data"
    },
    {
     "data": {
      "image/png": "[encoded data removed]",
      "text/plain": [
       "<Figure size 432x288 with 1 Axes>"
      ]
     },
     "metadata": {
      "needs_background": "light"
     },
     "output_type": "display_data"
    }
   ],
   "source": [
    "# Visualize the training results\n",
    "visualize_training_results(results)"
   ]
  },
  {
   "cell_type": "markdown",
   "metadata": {},
   "source": [
    "The baseline model is slightly better. I see that the data is overfitting less on the training data, and even more - the graphs for both datasets follow each other a little more closely (especially the loss line graph). Albeit far from perfect, the baseline model has improved, and I will cross-validate the results with Scikit-learn's `KFold` technique to see how generalizable this model is."
   ]
  },
  {
   "cell_type": "markdown",
   "metadata": {},
   "source": [
    "### Cross-Validating the Regularized Baseline Model:"
   ]
  },
  {
   "cell_type": "markdown",
   "metadata": {},
   "source": [
    "I create a function that will build the regularized baseline model in order to cross-validate on it with `KFold`."
   ]
  },
  {
   "cell_type": "code",
   "execution_count": 22,
   "metadata": {},
   "outputs": [],
   "source": [
    "# Create a function that will build the regularized model above\n",
    "def build_reg_model():\n",
    "    regularized_model = Sequential()\n",
    "    regularized_model.add(Dense(32, activation='relu', \n",
    "                            kernel_regularizer=regularizers.l2(0.01), input_shape=(12288, )))\n",
    "    regularized_model.add(Dense(8, activation='relu'))\n",
    "    regularized_model.add(Dense(1, activation = 'sigmoid'))\n",
    "    regularized_model.compile(loss='binary_crossentropy', \n",
    "                  optimizer='RMSprop', \n",
    "                  metrics=['acc'])\n",
    "    return regularized_model"
   ]
  },
  {
   "cell_type": "markdown",
   "metadata": {},
   "source": [
    "I utilize SciKeras, which combines Scikit-learn's machine learning capabilities to further improve Keras's ability to build deep learning models. I'll use `KFold` to cross-validate and produce the average validation score."
   ]
  },
  {
   "cell_type": "code",
   "execution_count": 23,
   "metadata": {},
   "outputs": [
    {
     "name": "stdout",
     "output_type": "stream",
     "text": [
      "Epoch 1/32\n",
      "97/97 - 1s - loss: 0.8153 - acc: 0.6129\n",
      "Epoch 2/32\n",
      "97/97 - 1s - loss: 0.6164 - acc: 0.7553\n",
      "Epoch 3/32\n",
      "97/97 - 1s - loss: 0.6966 - acc: 0.7245\n",
      "Epoch 4/32\n",
      "97/97 - 1s - loss: 0.5639 - acc: 0.7926\n",
      "Epoch 5/32\n",
      "97/97 - 1s - loss: 0.6256 - acc: 0.7829\n",
      "Epoch 6/32\n",
      "97/97 - 1s - loss: 0.5729 - acc: 0.7902\n",
      "Epoch 7/32\n",
      "97/97 - 1s - loss: 0.5478 - acc: 0.8116\n",
      "Epoch 8/32\n",
      "97/97 - 1s - loss: 0.5653 - acc: 0.8127\n",
      "Epoch 9/32\n",
      "97/97 - 1s - loss: 0.5567 - acc: 0.8147\n",
      "Epoch 10/32\n",
      "97/97 - 1s - loss: 0.5352 - acc: 0.8273\n",
      "Epoch 11/32\n",
      "97/97 - 1s - loss: 0.4994 - acc: 0.8427\n",
      "Epoch 12/32\n",
      "97/97 - 1s - loss: 0.6099 - acc: 0.8340\n",
      "Epoch 13/32\n",
      "97/97 - 1s - loss: 0.5387 - acc: 0.8250\n",
      "Epoch 14/32\n",
      "97/97 - 1s - loss: 0.5107 - acc: 0.8398\n",
      "Epoch 15/32\n",
      "97/97 - 1s - loss: 0.5517 - acc: 0.8447\n",
      "Epoch 16/32\n",
      "97/97 - 1s - loss: 0.4784 - acc: 0.8431\n",
      "Epoch 17/32\n",
      "97/97 - 1s - loss: 0.4561 - acc: 0.8548\n",
      "Epoch 18/32\n",
      "97/97 - 1s - loss: 0.4836 - acc: 0.8479\n",
      "Epoch 19/32\n",
      "97/97 - 1s - loss: 0.4485 - acc: 0.8568\n",
      "Epoch 20/32\n",
      "97/97 - 1s - loss: 0.5858 - acc: 0.8569\n",
      "Epoch 21/32\n",
      "97/97 - 1s - loss: 0.4796 - acc: 0.8505\n",
      "Epoch 22/32\n",
      "97/97 - 1s - loss: 0.4420 - acc: 0.8615\n",
      "Epoch 23/32\n",
      "97/97 - 1s - loss: 0.5103 - acc: 0.8253\n",
      "Epoch 24/32\n",
      "97/97 - 1s - loss: 0.4598 - acc: 0.8547\n",
      "Epoch 25/32\n",
      "97/97 - 1s - loss: 0.4730 - acc: 0.8558\n",
      "Epoch 26/32\n",
      "97/97 - 1s - loss: 0.4435 - acc: 0.8668\n",
      "Epoch 27/32\n",
      "97/97 - 1s - loss: 0.4733 - acc: 0.8526\n",
      "Epoch 28/32\n",
      "97/97 - 1s - loss: 0.4448 - acc: 0.8598\n",
      "Epoch 29/32\n",
      "97/97 - 1s - loss: 0.4524 - acc: 0.8598\n",
      "Epoch 30/32\n",
      "97/97 - 1s - loss: 0.4492 - acc: 0.8690\n",
      "Epoch 31/32\n",
      "97/97 - 1s - loss: 0.4079 - acc: 0.8750\n",
      "Epoch 32/32\n",
      "97/97 - 1s - loss: 0.4074 - acc: 0.8713\n",
      "25/25 - 0s - loss: 0.3284 - acc: 0.9103\n",
      "Epoch 1/32\n",
      "97/97 - 1s - loss: 1.2085 - acc: 0.5397\n",
      "Epoch 2/32\n",
      "97/97 - 1s - loss: 0.8461 - acc: 0.5052\n",
      "Epoch 3/32\n",
      "97/97 - 1s - loss: 1.0111 - acc: 0.6118\n",
      "Epoch 4/32\n",
      "97/97 - 1s - loss: 1.0572 - acc: 0.5418\n",
      "Epoch 5/32\n",
      "97/97 - 1s - loss: 0.6087 - acc: 0.7644\n",
      "Epoch 6/32\n",
      "97/97 - 1s - loss: 0.6384 - acc: 0.7785\n",
      "Epoch 7/32\n",
      "97/97 - 1s - loss: 0.7160 - acc: 0.7776\n",
      "Epoch 8/32\n",
      "97/97 - 1s - loss: 0.5325 - acc: 0.8253\n",
      "Epoch 9/32\n",
      "97/97 - 1s - loss: 0.5591 - acc: 0.8174\n",
      "Epoch 10/32\n",
      "97/97 - 1s - loss: 0.6340 - acc: 0.7981\n",
      "Epoch 11/32\n",
      "97/97 - 1s - loss: 0.5147 - acc: 0.8219\n",
      "Epoch 12/32\n",
      "97/97 - 1s - loss: 0.5784 - acc: 0.8315\n",
      "Epoch 13/32\n",
      "97/97 - 1s - loss: 0.5513 - acc: 0.8261\n",
      "Epoch 14/32\n",
      "97/97 - 1s - loss: 0.5960 - acc: 0.8044\n",
      "Epoch 15/32\n",
      "97/97 - 1s - loss: 0.5092 - acc: 0.8431\n",
      "Epoch 16/32\n",
      "97/97 - 1s - loss: 0.5189 - acc: 0.8373\n",
      "Epoch 17/32\n",
      "97/97 - 1s - loss: 0.5095 - acc: 0.8460\n",
      "Epoch 18/32\n",
      "97/97 - 1s - loss: 0.5877 - acc: 0.8165\n",
      "Epoch 19/32\n",
      "97/97 - 1s - loss: 0.5084 - acc: 0.8474\n",
      "Epoch 20/32\n",
      "97/97 - 1s - loss: 0.5251 - acc: 0.8361\n",
      "Epoch 21/32\n",
      "97/97 - 1s - loss: 0.4931 - acc: 0.8434\n",
      "Epoch 22/32\n",
      "97/97 - 1s - loss: 0.5052 - acc: 0.8371\n",
      "Epoch 23/32\n",
      "97/97 - 1s - loss: 0.4941 - acc: 0.8453\n",
      "Epoch 24/32\n",
      "97/97 - 1s - loss: 0.5296 - acc: 0.8447\n",
      "Epoch 25/32\n",
      "97/97 - 1s - loss: 0.5160 - acc: 0.8403\n",
      "Epoch 26/32\n",
      "97/97 - 1s - loss: 0.4807 - acc: 0.8500\n",
      "Epoch 27/32\n",
      "97/97 - 1s - loss: 0.5189 - acc: 0.8390\n",
      "Epoch 28/32\n",
      "97/97 - 1s - loss: 0.4810 - acc: 0.8544\n",
      "Epoch 29/32\n",
      "97/97 - 1s - loss: 0.4690 - acc: 0.8527\n",
      "Epoch 30/32\n",
      "97/97 - 1s - loss: 0.4571 - acc: 0.8584\n",
      "Epoch 31/32\n",
      "97/97 - 1s - loss: 0.4929 - acc: 0.8595\n",
      "Epoch 32/32\n",
      "97/97 - 1s - loss: 0.4773 - acc: 0.8552\n",
      "25/25 - 0s - loss: 0.3750 - acc: 0.8923\n",
      "Epoch 1/32\n",
      "97/97 - 1s - loss: 1.3238 - acc: 0.6131\n",
      "Epoch 2/32\n",
      "97/97 - 1s - loss: 0.8099 - acc: 0.7081\n",
      "Epoch 3/32\n",
      "97/97 - 1s - loss: 0.8925 - acc: 0.7445\n",
      "Epoch 4/32\n",
      "97/97 - 1s - loss: 0.6578 - acc: 0.7924\n",
      "Epoch 5/32\n",
      "97/97 - 1s - loss: 0.6854 - acc: 0.8052\n",
      "Epoch 6/32\n",
      "97/97 - 1s - loss: 0.7218 - acc: 0.8171\n",
      "Epoch 7/32\n",
      "97/97 - 1s - loss: 0.5080 - acc: 0.8571\n",
      "Epoch 8/32\n",
      "97/97 - 1s - loss: 0.5796 - acc: 0.8098\n",
      "Epoch 9/32\n",
      "97/97 - 1s - loss: 0.5689 - acc: 0.8200\n",
      "Epoch 10/32\n",
      "97/97 - 1s - loss: 0.5377 - acc: 0.8553\n",
      "Epoch 11/32\n",
      "97/97 - 1s - loss: 0.5465 - acc: 0.8315\n",
      "Epoch 12/32\n",
      "97/97 - 1s - loss: 0.6561 - acc: 0.8468\n",
      "Epoch 13/32\n",
      "97/97 - 1s - loss: 0.5235 - acc: 0.8444\n",
      "Epoch 14/32\n",
      "97/97 - 1s - loss: 0.4869 - acc: 0.8624\n",
      "Epoch 15/32\n",
      "97/97 - 1s - loss: 0.4479 - acc: 0.8726\n",
      "Epoch 16/32\n",
      "97/97 - 1s - loss: 0.5585 - acc: 0.8471\n",
      "Epoch 17/32\n",
      "97/97 - 1s - loss: 0.5291 - acc: 0.8360\n",
      "Epoch 18/32\n",
      "97/97 - 1s - loss: 0.5400 - acc: 0.8526\n",
      "Epoch 19/32\n",
      "97/97 - 1s - loss: 0.4351 - acc: 0.8782\n",
      "Epoch 20/32\n",
      "97/97 - 1s - loss: 0.5760 - acc: 0.8487\n",
      "Epoch 21/32\n",
      "97/97 - 1s - loss: 0.4823 - acc: 0.8760\n",
      "Epoch 22/32\n",
      "97/97 - 1s - loss: 0.5565 - acc: 0.8490\n",
      "Epoch 23/32\n",
      "97/97 - 1s - loss: 0.4500 - acc: 0.8818\n",
      "Epoch 24/32\n",
      "97/97 - 1s - loss: 0.4507 - acc: 0.8655\n",
      "Epoch 25/32\n",
      "97/97 - 1s - loss: 0.5310 - acc: 0.8694\n",
      "Epoch 26/32\n",
      "97/97 - 1s - loss: 0.5464 - acc: 0.8518\n",
      "Epoch 27/32\n",
      "97/97 - 1s - loss: 0.4205 - acc: 0.8866\n",
      "Epoch 28/32\n",
      "97/97 - 1s - loss: 0.4886 - acc: 0.8695\n",
      "Epoch 29/32\n",
      "97/97 - 1s - loss: 0.4353 - acc: 0.8750\n",
      "Epoch 30/32\n",
      "97/97 - 1s - loss: 0.5748 - acc: 0.8611\n",
      "Epoch 31/32\n",
      "97/97 - 1s - loss: 0.4528 - acc: 0.8655\n",
      "Epoch 32/32\n",
      "97/97 - 1s - loss: 0.3912 - acc: 0.8882\n",
      "25/25 - 0s - loss: 0.3161 - acc: 0.9194\n",
      "Epoch 1/32\n",
      "97/97 - 1s - loss: 1.1265 - acc: 0.5216\n",
      "Epoch 2/32\n",
      "97/97 - 1s - loss: 1.2707 - acc: 0.5608\n",
      "Epoch 3/32\n",
      "97/97 - 1s - loss: 0.8487 - acc: 0.6455\n",
      "Epoch 4/32\n",
      "97/97 - 1s - loss: 0.7803 - acc: 0.6469\n",
      "Epoch 5/32\n",
      "97/97 - 1s - loss: 0.7824 - acc: 0.5655\n",
      "Epoch 6/32\n",
      "97/97 - 2s - loss: 0.7116 - acc: 0.6677\n",
      "Epoch 7/32\n",
      "97/97 - 1s - loss: 0.8808 - acc: 0.5484\n",
      "Epoch 8/32\n",
      "97/97 - 1s - loss: 0.7284 - acc: 0.4968\n",
      "Epoch 9/32\n",
      "97/97 - 1s - loss: 0.8750 - acc: 0.5211\n",
      "Epoch 10/32\n",
      "97/97 - 1s - loss: 0.7443 - acc: 0.6300\n",
      "Epoch 11/32\n",
      "97/97 - 1s - loss: 0.7297 - acc: 0.5556\n",
      "Epoch 12/32\n",
      "97/97 - 2s - loss: 1.4611 - acc: 0.5044\n",
      "Epoch 13/32\n",
      "97/97 - 1s - loss: 1.3690 - acc: 0.6613\n",
      "Epoch 14/32\n",
      "97/97 - 1s - loss: 1.1171 - acc: 0.7166\n",
      "Epoch 15/32\n",
      "97/97 - 1s - loss: 0.7519 - acc: 0.7303\n",
      "Epoch 16/32\n",
      "97/97 - 1s - loss: 0.7705 - acc: 0.6779\n",
      "Epoch 17/32\n",
      "97/97 - 1s - loss: 0.7744 - acc: 0.5024\n",
      "Epoch 18/32\n",
      "97/97 - 1s - loss: 0.8733 - acc: 0.5308\n",
      "Epoch 19/32\n",
      "97/97 - 1s - loss: 0.7660 - acc: 0.5532\n",
      "Epoch 20/32\n",
      "97/97 - 1s - loss: 0.7636 - acc: 0.4990\n",
      "Epoch 21/32\n",
      "97/97 - 1s - loss: 2.4422 - acc: 0.5284\n",
      "Epoch 22/32\n",
      "97/97 - 1s - loss: 1.4158 - acc: 0.6906\n",
      "Epoch 23/32\n",
      "97/97 - 1s - loss: 0.8545 - acc: 0.7229\n",
      "Epoch 24/32\n",
      "97/97 - 2s - loss: 0.8990 - acc: 0.4952\n",
      "Epoch 25/32\n",
      "97/97 - 1s - loss: 0.7044 - acc: 0.4994\n",
      "Epoch 26/32\n",
      "97/97 - 1s - loss: 0.8970 - acc: 0.6721\n",
      "Epoch 27/32\n",
      "97/97 - 1s - loss: 0.6287 - acc: 0.7710\n",
      "Epoch 28/32\n",
      "97/97 - 1s - loss: 0.7625 - acc: 0.7400\n",
      "Epoch 29/32\n",
      "97/97 - 1s - loss: 1.0884 - acc: 0.6987\n",
      "Epoch 30/32\n",
      "97/97 - 1s - loss: 0.5530 - acc: 0.8056\n",
      "Epoch 31/32\n",
      "97/97 - 1s - loss: 0.5223 - acc: 0.8297\n",
      "Epoch 32/32\n",
      "97/97 - 1s - loss: 0.6051 - acc: 0.7861\n",
      "25/25 - 0s - loss: 0.5773 - acc: 0.7077\n",
      "Epoch 1/32\n",
      "97/97 - 1s - loss: 1.0042 - acc: 0.5063\n",
      "Epoch 2/32\n",
      "97/97 - 1s - loss: 0.9996 - acc: 0.5461\n",
      "Epoch 3/32\n",
      "97/97 - 1s - loss: 0.8507 - acc: 0.4985\n",
      "Epoch 4/32\n",
      "97/97 - 1s - loss: 0.7229 - acc: 0.5137\n",
      "Epoch 5/32\n",
      "97/97 - 1s - loss: 1.6003 - acc: 0.5710\n",
      "Epoch 6/32\n",
      "97/97 - 1s - loss: 1.2443 - acc: 0.6581\n",
      "Epoch 7/32\n",
      "97/97 - 1s - loss: 1.0343 - acc: 0.7100\n",
      "Epoch 8/32\n",
      "97/97 - 1s - loss: 1.2748 - acc: 0.5597\n",
      "Epoch 9/32\n",
      "97/97 - 1s - loss: 0.6087 - acc: 0.7739\n",
      "Epoch 10/32\n",
      "97/97 - 1s - loss: 1.1447 - acc: 0.6818\n",
      "Epoch 11/32\n",
      "97/97 - 1s - loss: 0.8098 - acc: 0.6902\n",
      "Epoch 12/32\n",
      "97/97 - 1s - loss: 0.8285 - acc: 0.5410\n",
      "Epoch 13/32\n",
      "97/97 - 1s - loss: 1.3892 - acc: 0.5281\n",
      "Epoch 14/32\n",
      "97/97 - 1s - loss: 1.0922 - acc: 0.6921\n",
      "Epoch 15/32\n",
      "97/97 - 1s - loss: 0.9281 - acc: 0.7455\n",
      "Epoch 16/32\n",
      "97/97 - 1s - loss: 0.5137 - acc: 0.8252\n",
      "Epoch 17/32\n",
      "97/97 - 1s - loss: 0.7677 - acc: 0.7926\n",
      "Epoch 18/32\n",
      "97/97 - 1s - loss: 0.5582 - acc: 0.8271\n",
      "Epoch 19/32\n",
      "97/97 - 1s - loss: 0.4794 - acc: 0.8531\n",
      "Epoch 20/32\n",
      "97/97 - 1s - loss: 0.5528 - acc: 0.8258\n",
      "Epoch 21/32\n",
      "97/97 - 1s - loss: 0.4893 - acc: 0.8548\n",
      "Epoch 22/32\n",
      "97/97 - 1s - loss: 0.4284 - acc: 0.8706\n",
      "Epoch 23/32\n",
      "97/97 - 1s - loss: 0.5116 - acc: 0.8539\n",
      "Epoch 24/32\n",
      "97/97 - 1s - loss: 0.5114 - acc: 0.8671\n",
      "Epoch 25/32\n",
      "97/97 - 1s - loss: 0.8561 - acc: 0.5776\n",
      "Epoch 26/32\n",
      "97/97 - 1s - loss: 0.7333 - acc: 0.5105\n",
      "Epoch 27/32\n",
      "97/97 - 1s - loss: 0.9233 - acc: 0.6276\n",
      "Epoch 28/32\n",
      "97/97 - 1s - loss: 0.6609 - acc: 0.7326\n"
     ]
    },
    {
     "name": "stdout",
     "output_type": "stream",
     "text": [
      "Epoch 29/32\n",
      "97/97 - 1s - loss: 0.5794 - acc: 0.7748\n",
      "Epoch 30/32\n",
      "97/97 - 1s - loss: 0.5570 - acc: 0.8134\n",
      "Epoch 31/32\n",
      "97/97 - 1s - loss: 0.6220 - acc: 0.8124\n",
      "Epoch 32/32\n",
      "97/97 - 1s - loss: 0.6252 - acc: 0.7955\n",
      "25/25 - 0s - loss: 0.7954 - acc: 0.6671\n"
     ]
    }
   ],
   "source": [
    "# Cross-validate using scikit-learn tools\n",
    "keras_model = scikit_learn.KerasClassifier(build_reg_model,\n",
    "                                          epochs=32,\n",
    "                                          batch_size=64,\n",
    "                                          verbose=2)\n",
    "kfold = KFold(shuffle=True, random_state=seed)\n",
    "validation_scores = cross_val_score(keras_model, X_train_final, y_train, cv=kfold)"
   ]
  },
  {
   "cell_type": "code",
   "execution_count": 24,
   "metadata": {},
   "outputs": [
    {
     "data": {
      "text/plain": [
       "0.8193548440933227"
      ]
     },
     "execution_count": 24,
     "metadata": {},
     "output_type": "execute_result"
    }
   ],
   "source": [
    "# Calculate the training data's average validation score\n",
    "validation_scores.mean()"
   ]
  },
  {
   "cell_type": "markdown",
   "metadata": {},
   "source": [
    "Despite the slight improvement, the validation score being .819 suggests this model might have some promise, but still would not generalize well. Fortunately, this is just my foundation and a tool for comparison. \n",
    "\n",
    "For business purposes, it is also important I build a model that will cut down on the amount of false negatives (e.g, predicting a patient to be healthy when they actually have pneumonia). I plot a confusion matrix based on the test data to also compare at the end of my modeling process."
   ]
  },
  {
   "cell_type": "code",
   "execution_count": 25,
   "metadata": {},
   "outputs": [
    {
     "data": {
      "image/png": "[encoded data removed]",
      "text/plain": [
       "<Figure size 720x576 with 1 Axes>"
      ]
     },
     "metadata": {
      "needs_background": "light"
     },
     "output_type": "display_data"
    }
   ],
   "source": [
    "# Generate predictions and \"round\" the values\n",
    "y_hat_test = regularized_model.predict(X_test_final)\n",
    "y_test_baseline = test_generator.classes\n",
    "y_hat_test[y_hat_test > 0.5] = 1\n",
    "y_hat_test[y_hat_test < 0.5] = 0\n",
    "\n",
    "# Plot a confusion matrix of the test data\n",
    "plt.figure(figsize=(10, 8))\n",
    "sns.heatmap(confusion_matrix(y_test_baseline, y_hat_test), annot=True,\n",
    "           fmt='.3g', xticklabels=['Normal', 'Pneumonia'],\n",
    "           yticklabels=['Normal', 'Pneumonia'], cmap='OrRd', cbar=False)\n",
    "plt.xlabel(\"Predicted Labels\")\n",
    "plt.ylabel(\"True Labels\")\n",
    "plt.show()"
   ]
  },
  {
   "cell_type": "markdown",
   "metadata": {},
   "source": [
    "Although our model does well at recognizing pneumonia patients, the same cannot be said for healthy patients. In addition, the false negative count, which is 121, is pretty high. This also confirms the need for further work. "
   ]
  },
  {
   "cell_type": "markdown",
   "metadata": {},
   "source": [
    "## Further Modeling\n",
    "### Convolutional Neural Network (CNN):\n",
    "The next model I'd like to apply is a Convolutional Neural Network (CNN). The benefits to CNN models are that they're regularized, and are very efficient in analyzing image data. I start with my `Sequential` function, but then apply 3 convolutional layers with two different kernel shapes (`(3, 3)` and `(4, 4)`), and ReLu activation functions. After building my base, I apply `Flatten` and two `Dense` functions to produce a hidden layer before my output layer. I compile and fit the model before visualizing the results."
   ]
  },
  {
   "cell_type": "code",
   "execution_count": 26,
   "metadata": {},
   "outputs": [],
   "source": [
    "# Construct the CNN model's framework\n",
    "CNNmodel = Sequential()\n",
    "CNNmodel.add(Conv2D(32, (3, 3), activation='relu',\n",
    "                        input_shape=(64 ,64,  3)))\n",
    "CNNmodel.add(MaxPooling2D((2, 2)))\n",
    "\n",
    "CNNmodel.add(Conv2D(32, (4, 4), activation='relu'))\n",
    "CNNmodel.add(MaxPooling2D((2, 2)))\n",
    "\n",
    "CNNmodel.add(Conv2D(64, (3, 3), activation='relu'))\n",
    "CNNmodel.add(MaxPooling2D((2, 2)))\n",
    "\n",
    "CNNmodel.add(Flatten())\n",
    "CNNmodel.add(Dense(64, activation='relu'))\n",
    "CNNmodel.add(Dense(1, activation='sigmoid'))\n",
    "\n",
    "CNNmodel.compile(loss='binary_crossentropy',\n",
    "              optimizer=\"RMSprop\",\n",
    "              metrics=['acc'])"
   ]
  },
  {
   "cell_type": "code",
   "execution_count": 27,
   "metadata": {
    "scrolled": true
   },
   "outputs": [
    {
     "name": "stdout",
     "output_type": "stream",
     "text": [
      "Epoch 1/50\n",
      "122/122 [==============================] - 23s 187ms/step - loss: 2.6914 - acc: 0.7579 - val_loss: 2.5803 - val_acc: 0.1466\n",
      "Epoch 2/50\n",
      "122/122 [==============================] - 22s 183ms/step - loss: 0.2538 - acc: 0.9075 - val_loss: 5.8810 - val_acc: 0.3621\n",
      "Epoch 3/50\n",
      "122/122 [==============================] - 22s 182ms/step - loss: 0.1936 - acc: 0.9430 - val_loss: 5.8408 - val_acc: 0.2672\n",
      "Epoch 4/50\n",
      "122/122 [==============================] - 22s 182ms/step - loss: 0.1240 - acc: 0.9604 - val_loss: 6.8643 - val_acc: 0.2759\n",
      "Epoch 5/50\n",
      "122/122 [==============================] - 22s 182ms/step - loss: 0.0926 - acc: 0.9703 - val_loss: 8.6874 - val_acc: 0.2155\n",
      "Epoch 6/50\n",
      "122/122 [==============================] - 22s 182ms/step - loss: 0.1393 - acc: 0.9728 - val_loss: 9.4028 - val_acc: 0.2759\n",
      "Epoch 7/50\n",
      "122/122 [==============================] - 22s 180ms/step - loss: 0.0900 - acc: 0.9738 - val_loss: 7.5760 - val_acc: 0.2586\n",
      "Epoch 8/50\n",
      "122/122 [==============================] - 22s 181ms/step - loss: 0.0687 - acc: 0.9787 - val_loss: 13.4383 - val_acc: 0.2069\n",
      "Epoch 9/50\n",
      "122/122 [==============================] - 22s 180ms/step - loss: 0.0589 - acc: 0.9835 - val_loss: 8.9869 - val_acc: 0.3707\n",
      "Epoch 10/50\n",
      "122/122 [==============================] - 22s 181ms/step - loss: 0.0746 - acc: 0.9830 - val_loss: 10.6941 - val_acc: 0.3448\n",
      "Epoch 11/50\n",
      "122/122 [==============================] - 22s 180ms/step - loss: 0.0446 - acc: 0.9871 - val_loss: 11.0192 - val_acc: 0.2845\n",
      "Epoch 12/50\n",
      "122/122 [==============================] - 22s 179ms/step - loss: 0.0427 - acc: 0.9877 - val_loss: 12.7296 - val_acc: 0.3793\n",
      "Epoch 13/50\n",
      "122/122 [==============================] - 22s 181ms/step - loss: 0.0448 - acc: 0.9884 - val_loss: 13.9994 - val_acc: 0.3362\n",
      "Epoch 14/50\n",
      "122/122 [==============================] - 22s 181ms/step - loss: 0.0324 - acc: 0.9902 - val_loss: 18.6039 - val_acc: 0.3103\n",
      "Epoch 15/50\n",
      "122/122 [==============================] - 22s 180ms/step - loss: 0.0298 - acc: 0.9903 - val_loss: 20.0287 - val_acc: 0.2586\n",
      "Epoch 16/50\n",
      "122/122 [==============================] - 22s 181ms/step - loss: 0.0272 - acc: 0.9911 - val_loss: 18.1526 - val_acc: 0.3103\n",
      "Epoch 17/50\n",
      "122/122 [==============================] - 23s 185ms/step - loss: 0.0273 - acc: 0.9929 - val_loss: 13.8439 - val_acc: 0.3362\n",
      "Epoch 18/50\n",
      "122/122 [==============================] - 22s 182ms/step - loss: 0.0469 - acc: 0.9911 - val_loss: 39.2271 - val_acc: 0.4914\n",
      "Epoch 19/50\n",
      "122/122 [==============================] - 22s 184ms/step - loss: 0.0708 - acc: 0.9898 - val_loss: 28.8840 - val_acc: 0.3534\n",
      "Epoch 20/50\n",
      "122/122 [==============================] - 22s 182ms/step - loss: 0.1092 - acc: 0.9884 - val_loss: 31.8404 - val_acc: 0.2672\n",
      "Epoch 21/50\n",
      "122/122 [==============================] - 22s 181ms/step - loss: 0.0203 - acc: 0.9952 - val_loss: 20.3731 - val_acc: 0.3103\n",
      "Epoch 22/50\n",
      "122/122 [==============================] - 22s 180ms/step - loss: 0.0431 - acc: 0.9934 - val_loss: 25.9255 - val_acc: 0.3448\n",
      "Epoch 23/50\n",
      "122/122 [==============================] - 22s 180ms/step - loss: 0.0157 - acc: 0.9946 - val_loss: 28.7227 - val_acc: 0.3362\n",
      "Epoch 24/50\n",
      "122/122 [==============================] - 22s 180ms/step - loss: 0.0254 - acc: 0.9942 - val_loss: 28.1832 - val_acc: 0.3966\n",
      "Epoch 25/50\n",
      "122/122 [==============================] - 22s 181ms/step - loss: 0.0120 - acc: 0.9955 - val_loss: 31.8322 - val_acc: 0.3190\n",
      "Epoch 26/50\n",
      "122/122 [==============================] - 22s 180ms/step - loss: 0.0199 - acc: 0.9960 - val_loss: 30.6136 - val_acc: 0.3448s - loss: 0.0221 - acc: 0 - ETA: 3s - loss: 0.\n",
      "Epoch 27/50\n",
      "122/122 [==============================] - 22s 182ms/step - loss: 0.0240 - acc: 0.9950 - val_loss: 40.8509 - val_acc: 0.3534\n",
      "Epoch 28/50\n",
      "122/122 [==============================] - 22s 181ms/step - loss: 0.0246 - acc: 0.9969 - val_loss: 34.4185 - val_acc: 0.3190\n",
      "Epoch 29/50\n",
      "122/122 [==============================] - 22s 181ms/step - loss: 0.0221 - acc: 0.9957 - val_loss: 38.2063 - val_acc: 0.3190\n",
      "Epoch 30/50\n",
      "122/122 [==============================] - 22s 182ms/step - loss: 0.0618 - acc: 0.9960 - val_loss: 40.0625 - val_acc: 0.3362\n",
      "Epoch 31/50\n",
      "122/122 [==============================] - 22s 184ms/step - loss: 0.0176 - acc: 0.9969 - val_loss: 45.2362 - val_acc: 0.3793\n",
      "Epoch 32/50\n",
      "122/122 [==============================] - 22s 182ms/step - loss: 0.0340 - acc: 0.9960 - val_loss: 67.5025 - val_acc: 0.3534\n",
      "Epoch 33/50\n",
      "122/122 [==============================] - 22s 181ms/step - loss: 0.1249 - acc: 0.9947 - val_loss: 41.3170 - val_acc: 0.3103\n",
      "Epoch 34/50\n",
      "122/122 [==============================] - 22s 182ms/step - loss: 0.0269 - acc: 0.9955 - val_loss: 37.3839 - val_acc: 0.3103\n",
      "Epoch 35/50\n",
      "122/122 [==============================] - 22s 182ms/step - loss: 0.0495 - acc: 0.9943 - val_loss: 37.2397 - val_acc: 0.3448\n",
      "Epoch 36/50\n",
      "122/122 [==============================] - 22s 180ms/step - loss: 0.0114 - acc: 0.9981 - val_loss: 51.0303 - val_acc: 0.3621\n",
      "Epoch 37/50\n",
      "122/122 [==============================] - 22s 180ms/step - loss: 0.0228 - acc: 0.9966 - val_loss: 42.4249 - val_acc: 0.3103\n",
      "Epoch 38/50\n",
      "122/122 [==============================] - 22s 181ms/step - loss: 0.0187 - acc: 0.9969 - val_loss: 37.7145 - val_acc: 0.3793 ETA: 2s - loss: 0.01\n",
      "Epoch 39/50\n",
      "122/122 [==============================] - 22s 181ms/step - loss: 0.0852 - acc: 0.9943 - val_loss: 62.8870 - val_acc: 0.3276\n",
      "Epoch 40/50\n",
      "122/122 [==============================] - 22s 181ms/step - loss: 0.0165 - acc: 0.9974 - val_loss: 51.2246 - val_acc: 0.2759\n",
      "Epoch 41/50\n",
      "122/122 [==============================] - 22s 183ms/step - loss: 0.0575 - acc: 0.9960 - val_loss: 60.8246 - val_acc: 0.3448\n",
      "Epoch 42/50\n",
      "122/122 [==============================] - 22s 180ms/step - loss: 0.0287 - acc: 0.9975 - val_loss: 57.0753 - val_acc: 0.2845\n",
      "Epoch 43/50\n",
      "122/122 [==============================] - 22s 180ms/step - loss: 0.0221 - acc: 0.9977 - val_loss: 55.5145 - val_acc: 0.3190\n",
      "Epoch 44/50\n",
      "122/122 [==============================] - 22s 183ms/step - loss: 0.0557 - acc: 0.9945 - val_loss: 55.0039 - val_acc: 0.2414\n",
      "Epoch 45/50\n",
      "122/122 [==============================] - 22s 181ms/step - loss: 0.0112 - acc: 0.9977 - val_loss: 66.4528 - val_acc: 0.3017\n",
      "Epoch 46/50\n",
      "122/122 [==============================] - 22s 180ms/step - loss: 0.1035 - acc: 0.9943 - val_loss: 102.1085 - val_acc: 0.1638\n",
      "Epoch 47/50\n",
      "122/122 [==============================] - 22s 180ms/step - loss: 0.0426 - acc: 0.9979 - val_loss: 63.0335 - val_acc: 0.3190\n",
      "Epoch 48/50\n",
      "122/122 [==============================] - 22s 181ms/step - loss: 0.0068 - acc: 0.9992 - val_loss: 57.4704 - val_acc: 0.3103\n",
      "Epoch 49/50\n",
      "122/122 [==============================] - 22s 180ms/step - loss: 0.0327 - acc: 0.9964 - val_loss: 56.5365 - val_acc: 0.3017\n",
      "Epoch 50/50\n",
      "122/122 [==============================] - 23s 188ms/step - loss: 0.0241 - acc: 0.9973 - val_loss: 60.6149 - val_acc: 0.2759\n"
     ]
    }
   ],
   "source": [
    "# Fit the CNN model\n",
    "CNNresults = CNNmodel.fit(sampled_train_images,\n",
    "                    y_train,\n",
    "                    epochs=50,\n",
    "                    batch_size=64,\n",
    "                    validation_data=(val_images, y_val))"
   ]
  },
  {
   "cell_type": "markdown",
   "metadata": {},
   "source": [
    "The plots below exhibit some overfitting, once again. The accuracy plot shows a wide gap between the training and validation accuracies, while the loss plots show the training loss increasing as the number of epochs does too. Therefore, while the CNN model has improved the scores, the overfitting is still an issue. With CNN algorithms having built-in regularization methods, I'll look to combat this overfitting by adding more data. "
   ]
  },
  {
   "cell_type": "code",
   "execution_count": 28,
   "metadata": {},
   "outputs": [
    {
     "data": {
      "image/png": "[encoded data removed]",
      "text/plain": [
       "<Figure size 432x288 with 1 Axes>"
      ]
     },
     "metadata": {
      "needs_background": "light"
     },
     "output_type": "display_data"
    },
    {
     "data": {
      "image/png": "[encoded data removed]",
      "text/plain": [
       "<Figure size 432x288 with 1 Axes>"
      ]
     },
     "metadata": {
      "needs_background": "light"
     },
     "output_type": "display_data"
    }
   ],
   "source": [
    "# Visualize the training results\n",
    "visualize_training_results(CNNresults)"
   ]
  },
  {
   "cell_type": "markdown",
   "metadata": {},
   "source": [
    "### Data Augmentation\n",
    "In order to improve my model further, I'll increase my training size by applying data augmentation. However, in order to preserve the class balance I established earlier, I'll be using a class I obtained from prior research (the link is provided at the bottom of the notebook). The class `BalancedDataGenerator` takes in the unbalanced data and applies both data augmentation and `RandomOverSampling` to create more data while preserving the class balance. \n",
    "\n",
    "Considering the images are X-rays, I select my parameters within `ImageDataGenerator` carefully and logically (i.e., increasing brightness to better detect abstract features, zooming in, flipping the image, etc.). I'll reload the training images with these new parameters, as well as the validation and test images (which will also be standardized). "
   ]
  },
  {
   "cell_type": "code",
   "execution_count": 29,
   "metadata": {},
   "outputs": [],
   "source": [
    "# Reshape the training data for augmentation \n",
    "train_datagen = ImageDataGenerator(rescale=1./255, \n",
    "                                   rotation_range=15, \n",
    "                                   width_shift_range=0.2, \n",
    "                                   height_shift_range=0.2, \n",
    "                                   brightness_range=[1, 1.5], \n",
    "                                   zoom_range=0.2, \n",
    "                                   horizontal_flip=True)"
   ]
  },
  {
   "cell_type": "code",
   "execution_count": 30,
   "metadata": {},
   "outputs": [],
   "source": [
    "# Create the BalancedDataGenerator class (obtained from research)\n",
    "class BalancedDataGenerator(Sequence):\n",
    "    # Data augmentation and RandomOversampling\n",
    "    def __init__(self, x, y, datagen, batch_size=32):\n",
    "        self.datagen = datagen\n",
    "        self.batch_size = min(batch_size, x.shape[0])\n",
    "        datagen.fit(x)\n",
    "        self.gen, self.steps_per_epoch = balanced_batch_generator(\n",
    "            x.reshape(x.shape[0], -1), y, sampler=RandomOverSampler(),\n",
    "            batch_size=self.batch_size, keep_sparse=True)\n",
    "        self._shape = (self.steps_per_epoch * batch_size, *x.shape[1:])\n",
    "        \n",
    "    def __len__(self):\n",
    "        return self.steps_per_epoch\n",
    "\n",
    "    def __getitem__(self, idx):\n",
    "        x_batch, y_batch = self.gen.__next__()\n",
    "        x_batch = x_batch.reshape(-1, *self._shape[1:])\n",
    "        return self.datagen.flow(x_batch, y_batch, batch_size=self.batch_size).next()"
   ]
  },
  {
   "cell_type": "code",
   "execution_count": 31,
   "metadata": {},
   "outputs": [],
   "source": [
    "# Reshape the training labels\n",
    "y_unbalanced = np.reshape(train_labels[:, 0], (5216, 1))"
   ]
  },
  {
   "cell_type": "code",
   "execution_count": 32,
   "metadata": {},
   "outputs": [
    {
     "name": "stdout",
     "output_type": "stream",
     "text": [
      "Found 524 images belonging to 2 classes.\n",
      "Found 116 images belonging to 2 classes.\n"
     ]
    }
   ],
   "source": [
    "# Oversample and augment the training data\n",
    "balanced_generator = BalancedDataGenerator(train_images, y_unbalanced, train_datagen, batch_size=32)\n",
    "\n",
    "# Get all the data in the test directory and standardize\n",
    "test_generator = ImageDataGenerator(rescale=1./255).flow_from_directory(\n",
    "    test_data_dir, target_size=(64, 64), \n",
    "    batch_size = 524, seed=seed, class_mode='binary') \n",
    "\n",
    "# Get all the data in the validation directory (in batches) and standardize\n",
    "val_generator = ImageDataGenerator(rescale=1./255).flow_from_directory(\n",
    "    validation_dir, target_size=(64, 64),\n",
    "    batch_size = 116, seed=seed, class_mode='binary')"
   ]
  },
  {
   "cell_type": "markdown",
   "metadata": {},
   "source": [
    "Now that the images have been loaded again, I will rebuild my CNN model; however, I will also alter the learning rate in order to improve my CNN model further. "
   ]
  },
  {
   "cell_type": "code",
   "execution_count": 33,
   "metadata": {},
   "outputs": [],
   "source": [
    "# Build a CNN model framework using the augmented training data\n",
    "augCNNmodel = Sequential()\n",
    "augCNNmodel.add(Conv2D(32, (3, 3), activation='relu',\n",
    "                        input_shape=(64 ,64,  3)))\n",
    "augCNNmodel.add(MaxPooling2D((2, 2)))\n",
    "\n",
    "augCNNmodel.add(Conv2D(32, (4, 4), activation='relu'))\n",
    "augCNNmodel.add(MaxPooling2D((2, 2)))\n",
    "\n",
    "augCNNmodel.add(Conv2D(64, (3, 3), activation='relu'))\n",
    "augCNNmodel.add(MaxPooling2D((2, 2)))\n",
    "\n",
    "augCNNmodel.add(Flatten())\n",
    "augCNNmodel.add(Dense(64, activation='relu'))\n",
    "augCNNmodel.add(Dense(1, activation='sigmoid'))\n",
    "\n",
    "augCNNmodel.compile(loss='binary_crossentropy',\n",
    "              optimizer=optimizers.RMSprop(learning_rate=0.01),\n",
    "              metrics=['acc'])"
   ]
  },
  {
   "cell_type": "markdown",
   "metadata": {},
   "source": [
    "I'm also going to create a stopping condition, due to the runtime given the size of the dataset and number of epochs. I'll set that stopping point as a checkpoint with `ModelCheckpoint`, so that I can evaluate the saved model further along the process. Once my conditions have been set, I'll fit the model with these callbacks."
   ]
  },
  {
   "cell_type": "code",
   "execution_count": 34,
   "metadata": {},
   "outputs": [],
   "source": [
    "# Create a file name object for the best model checkpoint\n",
    "model_filepath = 'best_aug_model.h5'\n",
    "\n",
    "# Set early stopping and model checkpoint conditions\n",
    "early_stopping = [EarlyStopping(monitor='val_loss', patience=5), \n",
    "                  ModelCheckpoint(filepath=model_filepath, monitor='val_loss', save_best_only=True)]"
   ]
  },
  {
   "cell_type": "code",
   "execution_count": 35,
   "metadata": {},
   "outputs": [
    {
     "name": "stdout",
     "output_type": "stream",
     "text": [
      "Epoch 1/32\n",
      "242/242 [==============================] - 33s 137ms/step - loss: 2.2481 - acc: 0.6485 - val_loss: 1.2938 - val_acc: 0.3534\n",
      "Epoch 2/32\n",
      "242/242 [==============================] - 33s 136ms/step - loss: 0.5805 - acc: 0.7292 - val_loss: 1.3879 - val_acc: 0.3707\n",
      "Epoch 3/32\n",
      "242/242 [==============================] - 33s 136ms/step - loss: 0.5241 - acc: 0.7473 - val_loss: 1.3022 - val_acc: 0.3103\n",
      "Epoch 4/32\n",
      "242/242 [==============================] - 33s 134ms/step - loss: 0.4389 - acc: 0.7994 - val_loss: 1.7904 - val_acc: 0.2241\n",
      "Epoch 5/32\n",
      "242/242 [==============================] - 33s 138ms/step - loss: 0.3981 - acc: 0.8304 - val_loss: 1.6123 - val_acc: 0.1638\n",
      "Epoch 6/32\n",
      "242/242 [==============================] - 33s 136ms/step - loss: 0.3817 - acc: 0.8465 - val_loss: 2.2738 - val_acc: 0.1983\n"
     ]
    }
   ],
   "source": [
    "# Fit the data-augmented CNN model\n",
    "augCNNresults = augCNNmodel.fit(balanced_generator,\n",
    "                                epochs=32,\n",
    "                                callbacks=early_stopping,\n",
    "                                validation_data=val_generator)"
   ]
  },
  {
   "cell_type": "markdown",
   "metadata": {},
   "source": [
    "The data-augmented CNN model stopped at 6 epochs, suggesting that is the best point in the model where the validation loss plateaus. The model is saved as `'best_aug_model.h5'`, and I'll load the model in order to evaluate both the training and validation datasets."
   ]
  },
  {
   "cell_type": "code",
   "execution_count": 36,
   "metadata": {},
   "outputs": [
    {
     "name": "stdout",
     "output_type": "stream",
     "text": [
      "242/242 [==============================] - 18s 74ms/step - loss: 0.7032 - acc: 0.7332\n",
      "Training Loss: 0.703 \n",
      "Training Accuracy: 0.733\n",
      "----------\n",
      "1/1 [==============================] - 0s 2ms/step - loss: 1.2938 - acc: 0.3534\n",
      "Validation Loss: 1.29 \n",
      "Validation Accuracy: 0.353\n"
     ]
    }
   ],
   "source": [
    "# Load the best (saved) model for the augmented data\n",
    "saved_model = load_model(model_filepath)\n",
    "\n",
    "# Calculate the loss and accuracy scores for both training datasets\n",
    "results_train = saved_model.evaluate(balanced_generator)\n",
    "print(f'Training Loss: {results_train[0]:.3} \\nTraining Accuracy: {results_train[1]:.3}')\n",
    "\n",
    "print('----------')\n",
    "\n",
    "results_val = saved_model.evaluate(val_generator)\n",
    "print(f'Validation Loss: {results_val[0]:.3} \\nValidation Accuracy: {results_val[1]:.3}')"
   ]
  },
  {
   "cell_type": "code",
   "execution_count": 37,
   "metadata": {
    "scrolled": false
   },
   "outputs": [
    {
     "data": {
      "image/png": "[encoded data removed]",
      "text/plain": [
       "<Figure size 432x288 with 1 Axes>"
      ]
     },
     "metadata": {
      "needs_background": "light"
     },
     "output_type": "display_data"
    },
    {
     "data": {
      "image/png": "[encoded data removed]",
      "text/plain": [
       "<Figure size 432x288 with 1 Axes>"
      ]
     },
     "metadata": {
      "needs_background": "light"
     },
     "output_type": "display_data"
    }
   ],
   "source": [
    "# Plot the training results\n",
    "visualize_training_results(augCNNresults)"
   ]
  },
  {
   "cell_type": "markdown",
   "metadata": {},
   "source": [
    "While the validation data's accuracy increased to 35.3%, the results are still horrible. The gaps between the accuracies has narrowed as well, which conveys this model is combatting the overfitting issue better than the previous model. \n",
    "\n",
    "I also visualize the training results above. One can see the validation metrics are plotted much cleaner, and with less \"noise\"; however, by no means is this a reliable algorithm. The two metrics seem to almost mimic each other in their directions to begin the accuracy plots, but then diverge. With further tuning, they might reflect each other better. "
   ]
  },
  {
   "cell_type": "markdown",
   "metadata": {},
   "source": [
    "### Transfer Learning Approach:\n",
    "One last approach I want to test out is the transfer learning approach. Transfer learning allows me to utilize pre-trained networks as a base to my model, with the option to build additional layers for specific feature extraction or fine tuning. I researched various pre-trained networks, and selected `ResNet50` due to its high accuracy and application in medical imaging (link to research located at the bottom). \n",
    "\n",
    "I print the summary, after instantiating the network, to examine the number of parameters my model will be training - shown to be 23,534,592 parameters!"
   ]
  },
  {
   "cell_type": "code",
   "execution_count": 38,
   "metadata": {
    "scrolled": true
   },
   "outputs": [
    {
     "name": "stdout",
     "output_type": "stream",
     "text": [
      "Model: \"resnet50\"\n",
      "__________________________________________________________________________________________________\n",
      "Layer (type)                    Output Shape         Param #     Connected to                     \n",
      "==================================================================================================\n",
      "input_1 (InputLayer)            [(None, 64, 64, 3)]  0                                            \n",
      "__________________________________________________________________________________________________\n",
      "conv1_pad (ZeroPadding2D)       (None, 70, 70, 3)    0           input_1[0][0]                    \n",
      "__________________________________________________________________________________________________\n",
      "conv1_conv (Conv2D)             (None, 32, 32, 64)   9472        conv1_pad[0][0]                  \n",
      "__________________________________________________________________________________________________\n",
      "conv1_bn (BatchNormalization)   (None, 32, 32, 64)   256         conv1_conv[0][0]                 \n",
      "__________________________________________________________________________________________________\n",
      "conv1_relu (Activation)         (None, 32, 32, 64)   0           conv1_bn[0][0]                   \n",
      "__________________________________________________________________________________________________\n",
      "pool1_pad (ZeroPadding2D)       (None, 34, 34, 64)   0           conv1_relu[0][0]                 \n",
      "__________________________________________________________________________________________________\n",
      "pool1_pool (MaxPooling2D)       (None, 16, 16, 64)   0           pool1_pad[0][0]                  \n",
      "__________________________________________________________________________________________________\n",
      "conv2_block1_1_conv (Conv2D)    (None, 16, 16, 64)   4160        pool1_pool[0][0]                 \n",
      "__________________________________________________________________________________________________\n",
      "conv2_block1_1_bn (BatchNormali (None, 16, 16, 64)   256         conv2_block1_1_conv[0][0]        \n",
      "__________________________________________________________________________________________________\n",
      "conv2_block1_1_relu (Activation (None, 16, 16, 64)   0           conv2_block1_1_bn[0][0]          \n",
      "__________________________________________________________________________________________________\n",
      "conv2_block1_2_conv (Conv2D)    (None, 16, 16, 64)   36928       conv2_block1_1_relu[0][0]        \n",
      "__________________________________________________________________________________________________\n",
      "conv2_block1_2_bn (BatchNormali (None, 16, 16, 64)   256         conv2_block1_2_conv[0][0]        \n",
      "__________________________________________________________________________________________________\n",
      "conv2_block1_2_relu (Activation (None, 16, 16, 64)   0           conv2_block1_2_bn[0][0]          \n",
      "__________________________________________________________________________________________________\n",
      "conv2_block1_0_conv (Conv2D)    (None, 16, 16, 256)  16640       pool1_pool[0][0]                 \n",
      "__________________________________________________________________________________________________\n",
      "conv2_block1_3_conv (Conv2D)    (None, 16, 16, 256)  16640       conv2_block1_2_relu[0][0]        \n",
      "__________________________________________________________________________________________________\n",
      "conv2_block1_0_bn (BatchNormali (None, 16, 16, 256)  1024        conv2_block1_0_conv[0][0]        \n",
      "__________________________________________________________________________________________________\n",
      "conv2_block1_3_bn (BatchNormali (None, 16, 16, 256)  1024        conv2_block1_3_conv[0][0]        \n",
      "__________________________________________________________________________________________________\n",
      "conv2_block1_add (Add)          (None, 16, 16, 256)  0           conv2_block1_0_bn[0][0]          \n",
      "                                                                 conv2_block1_3_bn[0][0]          \n",
      "__________________________________________________________________________________________________\n",
      "conv2_block1_out (Activation)   (None, 16, 16, 256)  0           conv2_block1_add[0][0]           \n",
      "__________________________________________________________________________________________________\n",
      "conv2_block2_1_conv (Conv2D)    (None, 16, 16, 64)   16448       conv2_block1_out[0][0]           \n",
      "__________________________________________________________________________________________________\n",
      "conv2_block2_1_bn (BatchNormali (None, 16, 16, 64)   256         conv2_block2_1_conv[0][0]        \n",
      "__________________________________________________________________________________________________\n",
      "conv2_block2_1_relu (Activation (None, 16, 16, 64)   0           conv2_block2_1_bn[0][0]          \n",
      "__________________________________________________________________________________________________\n",
      "conv2_block2_2_conv (Conv2D)    (None, 16, 16, 64)   36928       conv2_block2_1_relu[0][0]        \n",
      "__________________________________________________________________________________________________\n",
      "conv2_block2_2_bn (BatchNormali (None, 16, 16, 64)   256         conv2_block2_2_conv[0][0]        \n",
      "__________________________________________________________________________________________________\n",
      "conv2_block2_2_relu (Activation (None, 16, 16, 64)   0           conv2_block2_2_bn[0][0]          \n",
      "__________________________________________________________________________________________________\n",
      "conv2_block2_3_conv (Conv2D)    (None, 16, 16, 256)  16640       conv2_block2_2_relu[0][0]        \n",
      "__________________________________________________________________________________________________\n",
      "conv2_block2_3_bn (BatchNormali (None, 16, 16, 256)  1024        conv2_block2_3_conv[0][0]        \n",
      "__________________________________________________________________________________________________\n",
      "conv2_block2_add (Add)          (None, 16, 16, 256)  0           conv2_block1_out[0][0]           \n",
      "                                                                 conv2_block2_3_bn[0][0]          \n",
      "__________________________________________________________________________________________________\n",
      "conv2_block2_out (Activation)   (None, 16, 16, 256)  0           conv2_block2_add[0][0]           \n",
      "__________________________________________________________________________________________________\n",
      "conv2_block3_1_conv (Conv2D)    (None, 16, 16, 64)   16448       conv2_block2_out[0][0]           \n",
      "__________________________________________________________________________________________________\n",
      "conv2_block3_1_bn (BatchNormali (None, 16, 16, 64)   256         conv2_block3_1_conv[0][0]        \n",
      "__________________________________________________________________________________________________\n",
      "conv2_block3_1_relu (Activation (None, 16, 16, 64)   0           conv2_block3_1_bn[0][0]          \n",
      "__________________________________________________________________________________________________\n",
      "conv2_block3_2_conv (Conv2D)    (None, 16, 16, 64)   36928       conv2_block3_1_relu[0][0]        \n",
      "__________________________________________________________________________________________________\n",
      "conv2_block3_2_bn (BatchNormali (None, 16, 16, 64)   256         conv2_block3_2_conv[0][0]        \n",
      "__________________________________________________________________________________________________\n",
      "conv2_block3_2_relu (Activation (None, 16, 16, 64)   0           conv2_block3_2_bn[0][0]          \n",
      "__________________________________________________________________________________________________\n",
      "conv2_block3_3_conv (Conv2D)    (None, 16, 16, 256)  16640       conv2_block3_2_relu[0][0]        \n",
      "__________________________________________________________________________________________________\n",
      "conv2_block3_3_bn (BatchNormali (None, 16, 16, 256)  1024        conv2_block3_3_conv[0][0]        \n",
      "__________________________________________________________________________________________________\n",
      "conv2_block3_add (Add)          (None, 16, 16, 256)  0           conv2_block2_out[0][0]           \n",
      "                                                                 conv2_block3_3_bn[0][0]          \n",
      "__________________________________________________________________________________________________\n",
      "conv2_block3_out (Activation)   (None, 16, 16, 256)  0           conv2_block3_add[0][0]           \n",
      "__________________________________________________________________________________________________\n",
      "conv3_block1_1_conv (Conv2D)    (None, 8, 8, 128)    32896       conv2_block3_out[0][0]           \n",
      "__________________________________________________________________________________________________\n",
      "conv3_block1_1_bn (BatchNormali (None, 8, 8, 128)    512         conv3_block1_1_conv[0][0]        \n",
      "__________________________________________________________________________________________________\n",
      "conv3_block1_1_relu (Activation (None, 8, 8, 128)    0           conv3_block1_1_bn[0][0]          \n",
      "__________________________________________________________________________________________________\n",
      "conv3_block1_2_conv (Conv2D)    (None, 8, 8, 128)    147584      conv3_block1_1_relu[0][0]        \n",
      "__________________________________________________________________________________________________\n",
      "conv3_block1_2_bn (BatchNormali (None, 8, 8, 128)    512         conv3_block1_2_conv[0][0]        \n",
      "__________________________________________________________________________________________________\n",
      "conv3_block1_2_relu (Activation (None, 8, 8, 128)    0           conv3_block1_2_bn[0][0]          \n",
      "__________________________________________________________________________________________________\n",
      "conv3_block1_0_conv (Conv2D)    (None, 8, 8, 512)    131584      conv2_block3_out[0][0]           \n",
      "__________________________________________________________________________________________________\n",
      "conv3_block1_3_conv (Conv2D)    (None, 8, 8, 512)    66048       conv3_block1_2_relu[0][0]        \n",
      "__________________________________________________________________________________________________\n",
      "conv3_block1_0_bn (BatchNormali (None, 8, 8, 512)    2048        conv3_block1_0_conv[0][0]        \n",
      "__________________________________________________________________________________________________\n",
      "conv3_block1_3_bn (BatchNormali (None, 8, 8, 512)    2048        conv3_block1_3_conv[0][0]        \n",
      "__________________________________________________________________________________________________\n",
      "conv3_block1_add (Add)          (None, 8, 8, 512)    0           conv3_block1_0_bn[0][0]          \n",
      "                                                                 conv3_block1_3_bn[0][0]          \n",
      "__________________________________________________________________________________________________\n",
      "conv3_block1_out (Activation)   (None, 8, 8, 512)    0           conv3_block1_add[0][0]           \n",
      "__________________________________________________________________________________________________\n",
      "conv3_block2_1_conv (Conv2D)    (None, 8, 8, 128)    65664       conv3_block1_out[0][0]           \n",
      "__________________________________________________________________________________________________\n",
      "conv3_block2_1_bn (BatchNormali (None, 8, 8, 128)    512         conv3_block2_1_conv[0][0]        \n",
      "__________________________________________________________________________________________________\n",
      "conv3_block2_1_relu (Activation (None, 8, 8, 128)    0           conv3_block2_1_bn[0][0]          \n",
      "__________________________________________________________________________________________________\n",
      "conv3_block2_2_conv (Conv2D)    (None, 8, 8, 128)    147584      conv3_block2_1_relu[0][0]        \n",
      "__________________________________________________________________________________________________\n",
      "conv3_block2_2_bn (BatchNormali (None, 8, 8, 128)    512         conv3_block2_2_conv[0][0]        \n",
      "__________________________________________________________________________________________________\n",
      "conv3_block2_2_relu (Activation (None, 8, 8, 128)    0           conv3_block2_2_bn[0][0]          \n",
      "__________________________________________________________________________________________________\n",
      "conv3_block2_3_conv (Conv2D)    (None, 8, 8, 512)    66048       conv3_block2_2_relu[0][0]        \n",
      "__________________________________________________________________________________________________\n",
      "conv3_block2_3_bn (BatchNormali (None, 8, 8, 512)    2048        conv3_block2_3_conv[0][0]        \n",
      "__________________________________________________________________________________________________\n",
      "conv3_block2_add (Add)          (None, 8, 8, 512)    0           conv3_block1_out[0][0]           \n",
      "                                                                 conv3_block2_3_bn[0][0]          \n",
      "__________________________________________________________________________________________________\n",
      "conv3_block2_out (Activation)   (None, 8, 8, 512)    0           conv3_block2_add[0][0]           \n",
      "__________________________________________________________________________________________________\n",
      "conv3_block3_1_conv (Conv2D)    (None, 8, 8, 128)    65664       conv3_block2_out[0][0]           \n",
      "__________________________________________________________________________________________________\n",
      "conv3_block3_1_bn (BatchNormali (None, 8, 8, 128)    512         conv3_block3_1_conv[0][0]        \n",
      "__________________________________________________________________________________________________\n",
      "conv3_block3_1_relu (Activation (None, 8, 8, 128)    0           conv3_block3_1_bn[0][0]          \n",
      "__________________________________________________________________________________________________\n",
      "conv3_block3_2_conv (Conv2D)    (None, 8, 8, 128)    147584      conv3_block3_1_relu[0][0]        \n",
      "__________________________________________________________________________________________________\n",
      "conv3_block3_2_bn (BatchNormali (None, 8, 8, 128)    512         conv3_block3_2_conv[0][0]        \n",
      "__________________________________________________________________________________________________\n",
      "conv3_block3_2_relu (Activation (None, 8, 8, 128)    0           conv3_block3_2_bn[0][0]          \n",
      "__________________________________________________________________________________________________\n",
      "conv3_block3_3_conv (Conv2D)    (None, 8, 8, 512)    66048       conv3_block3_2_relu[0][0]        \n",
      "__________________________________________________________________________________________________\n",
      "conv3_block3_3_bn (BatchNormali (None, 8, 8, 512)    2048        conv3_block3_3_conv[0][0]        \n",
      "__________________________________________________________________________________________________\n",
      "conv3_block3_add (Add)          (None, 8, 8, 512)    0           conv3_block2_out[0][0]           \n",
      "                                                                 conv3_block3_3_bn[0][0]          \n",
      "__________________________________________________________________________________________________\n",
      "conv3_block3_out (Activation)   (None, 8, 8, 512)    0           conv3_block3_add[0][0]           \n",
      "__________________________________________________________________________________________________\n",
      "conv3_block4_1_conv (Conv2D)    (None, 8, 8, 128)    65664       conv3_block3_out[0][0]           \n",
      "__________________________________________________________________________________________________\n",
      "conv3_block4_1_bn (BatchNormali (None, 8, 8, 128)    512         conv3_block4_1_conv[0][0]        \n",
      "__________________________________________________________________________________________________\n",
      "conv3_block4_1_relu (Activation (None, 8, 8, 128)    0           conv3_block4_1_bn[0][0]          \n",
      "__________________________________________________________________________________________________\n",
      "conv3_block4_2_conv (Conv2D)    (None, 8, 8, 128)    147584      conv3_block4_1_relu[0][0]        \n",
      "__________________________________________________________________________________________________\n",
      "conv3_block4_2_bn (BatchNormali (None, 8, 8, 128)    512         conv3_block4_2_conv[0][0]        \n",
      "__________________________________________________________________________________________________\n",
      "conv3_block4_2_relu (Activation (None, 8, 8, 128)    0           conv3_block4_2_bn[0][0]          \n",
      "__________________________________________________________________________________________________\n",
      "conv3_block4_3_conv (Conv2D)    (None, 8, 8, 512)    66048       conv3_block4_2_relu[0][0]        \n",
      "__________________________________________________________________________________________________\n",
      "conv3_block4_3_bn (BatchNormali (None, 8, 8, 512)    2048        conv3_block4_3_conv[0][0]        \n",
      "__________________________________________________________________________________________________\n",
      "conv3_block4_add (Add)          (None, 8, 8, 512)    0           conv3_block3_out[0][0]           \n",
      "                                                                 conv3_block4_3_bn[0][0]          \n",
      "__________________________________________________________________________________________________\n",
      "conv3_block4_out (Activation)   (None, 8, 8, 512)    0           conv3_block4_add[0][0]           \n",
      "__________________________________________________________________________________________________\n",
      "conv4_block1_1_conv (Conv2D)    (None, 4, 4, 256)    131328      conv3_block4_out[0][0]           \n",
      "__________________________________________________________________________________________________\n",
      "conv4_block1_1_bn (BatchNormali (None, 4, 4, 256)    1024        conv4_block1_1_conv[0][0]        \n",
      "__________________________________________________________________________________________________\n",
      "conv4_block1_1_relu (Activation (None, 4, 4, 256)    0           conv4_block1_1_bn[0][0]          \n",
      "__________________________________________________________________________________________________\n",
      "conv4_block1_2_conv (Conv2D)    (None, 4, 4, 256)    590080      conv4_block1_1_relu[0][0]        \n",
      "__________________________________________________________________________________________________\n",
      "conv4_block1_2_bn (BatchNormali (None, 4, 4, 256)    1024        conv4_block1_2_conv[0][0]        \n",
      "__________________________________________________________________________________________________\n",
      "conv4_block1_2_relu (Activation (None, 4, 4, 256)    0           conv4_block1_2_bn[0][0]          \n",
      "__________________________________________________________________________________________________\n",
      "conv4_block1_0_conv (Conv2D)    (None, 4, 4, 1024)   525312      conv3_block4_out[0][0]           \n",
      "__________________________________________________________________________________________________\n",
      "conv4_block1_3_conv (Conv2D)    (None, 4, 4, 1024)   263168      conv4_block1_2_relu[0][0]        \n",
      "__________________________________________________________________________________________________\n",
      "conv4_block1_0_bn (BatchNormali (None, 4, 4, 1024)   4096        conv4_block1_0_conv[0][0]        \n",
      "__________________________________________________________________________________________________\n",
      "conv4_block1_3_bn (BatchNormali (None, 4, 4, 1024)   4096        conv4_block1_3_conv[0][0]        \n",
      "__________________________________________________________________________________________________\n",
      "conv4_block1_add (Add)          (None, 4, 4, 1024)   0           conv4_block1_0_bn[0][0]          \n",
      "                                                                 conv4_block1_3_bn[0][0]          \n",
      "__________________________________________________________________________________________________\n",
      "conv4_block1_out (Activation)   (None, 4, 4, 1024)   0           conv4_block1_add[0][0]           \n",
      "__________________________________________________________________________________________________\n",
      "conv4_block2_1_conv (Conv2D)    (None, 4, 4, 256)    262400      conv4_block1_out[0][0]           \n",
      "__________________________________________________________________________________________________\n",
      "conv4_block2_1_bn (BatchNormali (None, 4, 4, 256)    1024        conv4_block2_1_conv[0][0]        \n",
      "__________________________________________________________________________________________________\n",
      "conv4_block2_1_relu (Activation (None, 4, 4, 256)    0           conv4_block2_1_bn[0][0]          \n",
      "__________________________________________________________________________________________________\n",
      "conv4_block2_2_conv (Conv2D)    (None, 4, 4, 256)    590080      conv4_block2_1_relu[0][0]        \n",
      "__________________________________________________________________________________________________\n",
      "conv4_block2_2_bn (BatchNormali (None, 4, 4, 256)    1024        conv4_block2_2_conv[0][0]        \n",
      "__________________________________________________________________________________________________\n",
      "conv4_block2_2_relu (Activation (None, 4, 4, 256)    0           conv4_block2_2_bn[0][0]          \n",
      "__________________________________________________________________________________________________\n",
      "conv4_block2_3_conv (Conv2D)    (None, 4, 4, 1024)   263168      conv4_block2_2_relu[0][0]        \n",
      "__________________________________________________________________________________________________\n",
      "conv4_block2_3_bn (BatchNormali (None, 4, 4, 1024)   4096        conv4_block2_3_conv[0][0]        \n",
      "__________________________________________________________________________________________________\n",
      "conv4_block2_add (Add)          (None, 4, 4, 1024)   0           conv4_block1_out[0][0]           \n",
      "                                                                 conv4_block2_3_bn[0][0]          \n",
      "__________________________________________________________________________________________________\n",
      "conv4_block2_out (Activation)   (None, 4, 4, 1024)   0           conv4_block2_add[0][0]           \n",
      "__________________________________________________________________________________________________\n",
      "conv4_block3_1_conv (Conv2D)    (None, 4, 4, 256)    262400      conv4_block2_out[0][0]           \n",
      "__________________________________________________________________________________________________\n",
      "conv4_block3_1_bn (BatchNormali (None, 4, 4, 256)    1024        conv4_block3_1_conv[0][0]        \n",
      "__________________________________________________________________________________________________\n",
      "conv4_block3_1_relu (Activation (None, 4, 4, 256)    0           conv4_block3_1_bn[0][0]          \n",
      "__________________________________________________________________________________________________\n",
      "conv4_block3_2_conv (Conv2D)    (None, 4, 4, 256)    590080      conv4_block3_1_relu[0][0]        \n",
      "__________________________________________________________________________________________________\n",
      "conv4_block3_2_bn (BatchNormali (None, 4, 4, 256)    1024        conv4_block3_2_conv[0][0]        \n",
      "__________________________________________________________________________________________________\n",
      "conv4_block3_2_relu (Activation (None, 4, 4, 256)    0           conv4_block3_2_bn[0][0]          \n",
      "__________________________________________________________________________________________________\n",
      "conv4_block3_3_conv (Conv2D)    (None, 4, 4, 1024)   263168      conv4_block3_2_relu[0][0]        \n",
      "__________________________________________________________________________________________________\n",
      "conv4_block3_3_bn (BatchNormali (None, 4, 4, 1024)   4096        conv4_block3_3_conv[0][0]        \n",
      "__________________________________________________________________________________________________\n",
      "conv4_block3_add (Add)          (None, 4, 4, 1024)   0           conv4_block2_out[0][0]           \n",
      "                                                                 conv4_block3_3_bn[0][0]          \n",
      "__________________________________________________________________________________________________\n",
      "conv4_block3_out (Activation)   (None, 4, 4, 1024)   0           conv4_block3_add[0][0]           \n",
      "__________________________________________________________________________________________________\n",
      "conv4_block4_1_conv (Conv2D)    (None, 4, 4, 256)    262400      conv4_block3_out[0][0]           \n",
      "__________________________________________________________________________________________________\n",
      "conv4_block4_1_bn (BatchNormali (None, 4, 4, 256)    1024        conv4_block4_1_conv[0][0]        \n",
      "__________________________________________________________________________________________________\n",
      "conv4_block4_1_relu (Activation (None, 4, 4, 256)    0           conv4_block4_1_bn[0][0]          \n",
      "__________________________________________________________________________________________________\n",
      "conv4_block4_2_conv (Conv2D)    (None, 4, 4, 256)    590080      conv4_block4_1_relu[0][0]        \n",
      "__________________________________________________________________________________________________\n",
      "conv4_block4_2_bn (BatchNormali (None, 4, 4, 256)    1024        conv4_block4_2_conv[0][0]        \n",
      "__________________________________________________________________________________________________\n",
      "conv4_block4_2_relu (Activation (None, 4, 4, 256)    0           conv4_block4_2_bn[0][0]          \n",
      "__________________________________________________________________________________________________\n",
      "conv4_block4_3_conv (Conv2D)    (None, 4, 4, 1024)   263168      conv4_block4_2_relu[0][0]        \n",
      "__________________________________________________________________________________________________\n",
      "conv4_block4_3_bn (BatchNormali (None, 4, 4, 1024)   4096        conv4_block4_3_conv[0][0]        \n",
      "__________________________________________________________________________________________________\n",
      "conv4_block4_add (Add)          (None, 4, 4, 1024)   0           conv4_block3_out[0][0]           \n",
      "                                                                 conv4_block4_3_bn[0][0]          \n",
      "__________________________________________________________________________________________________\n",
      "conv4_block4_out (Activation)   (None, 4, 4, 1024)   0           conv4_block4_add[0][0]           \n",
      "__________________________________________________________________________________________________\n",
      "conv4_block5_1_conv (Conv2D)    (None, 4, 4, 256)    262400      conv4_block4_out[0][0]           \n",
      "__________________________________________________________________________________________________\n",
      "conv4_block5_1_bn (BatchNormali (None, 4, 4, 256)    1024        conv4_block5_1_conv[0][0]        \n",
      "__________________________________________________________________________________________________\n",
      "conv4_block5_1_relu (Activation (None, 4, 4, 256)    0           conv4_block5_1_bn[0][0]          \n",
      "__________________________________________________________________________________________________\n",
      "conv4_block5_2_conv (Conv2D)    (None, 4, 4, 256)    590080      conv4_block5_1_relu[0][0]        \n",
      "__________________________________________________________________________________________________\n",
      "conv4_block5_2_bn (BatchNormali (None, 4, 4, 256)    1024        conv4_block5_2_conv[0][0]        \n",
      "__________________________________________________________________________________________________\n",
      "conv4_block5_2_relu (Activation (None, 4, 4, 256)    0           conv4_block5_2_bn[0][0]          \n",
      "__________________________________________________________________________________________________\n",
      "conv4_block5_3_conv (Conv2D)    (None, 4, 4, 1024)   263168      conv4_block5_2_relu[0][0]        \n",
      "__________________________________________________________________________________________________\n",
      "conv4_block5_3_bn (BatchNormali (None, 4, 4, 1024)   4096        conv4_block5_3_conv[0][0]        \n",
      "__________________________________________________________________________________________________\n",
      "conv4_block5_add (Add)          (None, 4, 4, 1024)   0           conv4_block4_out[0][0]           \n",
      "                                                                 conv4_block5_3_bn[0][0]          \n",
      "__________________________________________________________________________________________________\n",
      "conv4_block5_out (Activation)   (None, 4, 4, 1024)   0           conv4_block5_add[0][0]           \n",
      "__________________________________________________________________________________________________\n",
      "conv4_block6_1_conv (Conv2D)    (None, 4, 4, 256)    262400      conv4_block5_out[0][0]           \n",
      "__________________________________________________________________________________________________\n",
      "conv4_block6_1_bn (BatchNormali (None, 4, 4, 256)    1024        conv4_block6_1_conv[0][0]        \n",
      "__________________________________________________________________________________________________\n",
      "conv4_block6_1_relu (Activation (None, 4, 4, 256)    0           conv4_block6_1_bn[0][0]          \n",
      "__________________________________________________________________________________________________\n",
      "conv4_block6_2_conv (Conv2D)    (None, 4, 4, 256)    590080      conv4_block6_1_relu[0][0]        \n",
      "__________________________________________________________________________________________________\n",
      "conv4_block6_2_bn (BatchNormali (None, 4, 4, 256)    1024        conv4_block6_2_conv[0][0]        \n",
      "__________________________________________________________________________________________________\n",
      "conv4_block6_2_relu (Activation (None, 4, 4, 256)    0           conv4_block6_2_bn[0][0]          \n",
      "__________________________________________________________________________________________________\n",
      "conv4_block6_3_conv (Conv2D)    (None, 4, 4, 1024)   263168      conv4_block6_2_relu[0][0]        \n",
      "__________________________________________________________________________________________________\n",
      "conv4_block6_3_bn (BatchNormali (None, 4, 4, 1024)   4096        conv4_block6_3_conv[0][0]        \n",
      "__________________________________________________________________________________________________\n",
      "conv4_block6_add (Add)          (None, 4, 4, 1024)   0           conv4_block5_out[0][0]           \n",
      "                                                                 conv4_block6_3_bn[0][0]          \n",
      "__________________________________________________________________________________________________\n",
      "conv4_block6_out (Activation)   (None, 4, 4, 1024)   0           conv4_block6_add[0][0]           \n",
      "__________________________________________________________________________________________________\n",
      "conv5_block1_1_conv (Conv2D)    (None, 2, 2, 512)    524800      conv4_block6_out[0][0]           \n",
      "__________________________________________________________________________________________________\n",
      "conv5_block1_1_bn (BatchNormali (None, 2, 2, 512)    2048        conv5_block1_1_conv[0][0]        \n",
      "__________________________________________________________________________________________________\n",
      "conv5_block1_1_relu (Activation (None, 2, 2, 512)    0           conv5_block1_1_bn[0][0]          \n",
      "__________________________________________________________________________________________________\n",
      "conv5_block1_2_conv (Conv2D)    (None, 2, 2, 512)    2359808     conv5_block1_1_relu[0][0]        \n",
      "__________________________________________________________________________________________________\n",
      "conv5_block1_2_bn (BatchNormali (None, 2, 2, 512)    2048        conv5_block1_2_conv[0][0]        \n",
      "__________________________________________________________________________________________________\n",
      "conv5_block1_2_relu (Activation (None, 2, 2, 512)    0           conv5_block1_2_bn[0][0]          \n",
      "__________________________________________________________________________________________________\n",
      "conv5_block1_0_conv (Conv2D)    (None, 2, 2, 2048)   2099200     conv4_block6_out[0][0]           \n",
      "__________________________________________________________________________________________________\n",
      "conv5_block1_3_conv (Conv2D)    (None, 2, 2, 2048)   1050624     conv5_block1_2_relu[0][0]        \n",
      "__________________________________________________________________________________________________\n",
      "conv5_block1_0_bn (BatchNormali (None, 2, 2, 2048)   8192        conv5_block1_0_conv[0][0]        \n",
      "__________________________________________________________________________________________________\n",
      "conv5_block1_3_bn (BatchNormali (None, 2, 2, 2048)   8192        conv5_block1_3_conv[0][0]        \n",
      "__________________________________________________________________________________________________\n",
      "conv5_block1_add (Add)          (None, 2, 2, 2048)   0           conv5_block1_0_bn[0][0]          \n",
      "                                                                 conv5_block1_3_bn[0][0]          \n",
      "__________________________________________________________________________________________________\n",
      "conv5_block1_out (Activation)   (None, 2, 2, 2048)   0           conv5_block1_add[0][0]           \n",
      "__________________________________________________________________________________________________\n",
      "conv5_block2_1_conv (Conv2D)    (None, 2, 2, 512)    1049088     conv5_block1_out[0][0]           \n",
      "__________________________________________________________________________________________________\n",
      "conv5_block2_1_bn (BatchNormali (None, 2, 2, 512)    2048        conv5_block2_1_conv[0][0]        \n",
      "__________________________________________________________________________________________________\n",
      "conv5_block2_1_relu (Activation (None, 2, 2, 512)    0           conv5_block2_1_bn[0][0]          \n",
      "__________________________________________________________________________________________________\n",
      "conv5_block2_2_conv (Conv2D)    (None, 2, 2, 512)    2359808     conv5_block2_1_relu[0][0]        \n",
      "__________________________________________________________________________________________________\n",
      "conv5_block2_2_bn (BatchNormali (None, 2, 2, 512)    2048        conv5_block2_2_conv[0][0]        \n",
      "__________________________________________________________________________________________________\n",
      "conv5_block2_2_relu (Activation (None, 2, 2, 512)    0           conv5_block2_2_bn[0][0]          \n",
      "__________________________________________________________________________________________________\n",
      "conv5_block2_3_conv (Conv2D)    (None, 2, 2, 2048)   1050624     conv5_block2_2_relu[0][0]        \n",
      "__________________________________________________________________________________________________\n",
      "conv5_block2_3_bn (BatchNormali (None, 2, 2, 2048)   8192        conv5_block2_3_conv[0][0]        \n",
      "__________________________________________________________________________________________________\n",
      "conv5_block2_add (Add)          (None, 2, 2, 2048)   0           conv5_block1_out[0][0]           \n",
      "                                                                 conv5_block2_3_bn[0][0]          \n",
      "__________________________________________________________________________________________________\n",
      "conv5_block2_out (Activation)   (None, 2, 2, 2048)   0           conv5_block2_add[0][0]           \n",
      "__________________________________________________________________________________________________\n",
      "conv5_block3_1_conv (Conv2D)    (None, 2, 2, 512)    1049088     conv5_block2_out[0][0]           \n",
      "__________________________________________________________________________________________________\n",
      "conv5_block3_1_bn (BatchNormali (None, 2, 2, 512)    2048        conv5_block3_1_conv[0][0]        \n",
      "__________________________________________________________________________________________________\n",
      "conv5_block3_1_relu (Activation (None, 2, 2, 512)    0           conv5_block3_1_bn[0][0]          \n",
      "__________________________________________________________________________________________________\n",
      "conv5_block3_2_conv (Conv2D)    (None, 2, 2, 512)    2359808     conv5_block3_1_relu[0][0]        \n",
      "__________________________________________________________________________________________________\n",
      "conv5_block3_2_bn (BatchNormali (None, 2, 2, 512)    2048        conv5_block3_2_conv[0][0]        \n",
      "__________________________________________________________________________________________________\n",
      "conv5_block3_2_relu (Activation (None, 2, 2, 512)    0           conv5_block3_2_bn[0][0]          \n",
      "__________________________________________________________________________________________________\n",
      "conv5_block3_3_conv (Conv2D)    (None, 2, 2, 2048)   1050624     conv5_block3_2_relu[0][0]        \n",
      "__________________________________________________________________________________________________\n",
      "conv5_block3_3_bn (BatchNormali (None, 2, 2, 2048)   8192        conv5_block3_3_conv[0][0]        \n",
      "__________________________________________________________________________________________________\n",
      "conv5_block3_add (Add)          (None, 2, 2, 2048)   0           conv5_block2_out[0][0]           \n",
      "                                                                 conv5_block3_3_bn[0][0]          \n",
      "__________________________________________________________________________________________________\n",
      "conv5_block3_out (Activation)   (None, 2, 2, 2048)   0           conv5_block3_add[0][0]           \n",
      "==================================================================================================\n",
      "Total params: 23,587,712\n",
      "Trainable params: 23,534,592\n",
      "Non-trainable params: 53,120\n",
      "__________________________________________________________________________________________________\n"
     ]
    }
   ],
   "source": [
    "# Instantiate the CNN base object\n",
    "cnn_base = ResNet50(weights='imagenet', \n",
    "                 include_top=False, \n",
    "                 input_shape=(64, 64, 3))\n",
    "\n",
    "# Preview the various parameters that will be trained\n",
    "cnn_base.summary()"
   ]
  },
  {
   "cell_type": "markdown",
   "metadata": {},
   "source": [
    "After building the CNN base, I add additional layers (specifically 1 hidden and the output) in order to better analyze the more abstract features within my images. Then, I freeze the base model, and compile my model to fit on the training data (and evaluated by the validation data). I list all the trainable layers and weights as a sanity check to review my work."
   ]
  },
  {
   "cell_type": "code",
   "execution_count": 39,
   "metadata": {},
   "outputs": [
    {
     "name": "stdout",
     "output_type": "stream",
     "text": [
      "resnet50 False\n",
      "flatten_2 True\n",
      "dense_25 True\n",
      "dense_26 True\n",
      "Trainable weights: 4\n",
      "\n",
      "Model: \"sequential_9\"\n",
      "_________________________________________________________________\n",
      "Layer (type)                 Output Shape              Param #   \n",
      "=================================================================\n",
      "resnet50 (Functional)        (None, 2, 2, 2048)        23587712  \n",
      "_________________________________________________________________\n",
      "flatten_2 (Flatten)          (None, 8192)              0         \n",
      "_________________________________________________________________\n",
      "dense_25 (Dense)             (None, 256)               2097408   \n",
      "_________________________________________________________________\n",
      "dense_26 (Dense)             (None, 1)                 257       \n",
      "=================================================================\n",
      "Total params: 25,685,377\n",
      "Trainable params: 2,097,665\n",
      "Non-trainable params: 23,587,712\n",
      "_________________________________________________________________\n"
     ]
    }
   ],
   "source": [
    "# Build a network with the CNN base\n",
    "resnet_model = Sequential()\n",
    "resnet_model.add(cnn_base)\n",
    "resnet_model.add(Flatten())\n",
    "resnet_model.add(Dense(256, activation='relu'))\n",
    "resnet_model.add(Dense(1, activation='sigmoid'))\n",
    "\n",
    "# Freeze the base model\n",
    "cnn_base.trainable = False\n",
    "\n",
    "# List all the trainable layers\n",
    "for layer in resnet_model.layers:\n",
    "    print(layer.name, layer.trainable)\n",
    "    \n",
    "# Similarly, check how many trainable weights are in the model \n",
    "print(f'Trainable weights: {len(resnet_model.trainable_weights)}\\n')\n",
    "\n",
    "# Preview the various parameters and output shapes, once again\n",
    "resnet_model.summary()"
   ]
  },
  {
   "cell_type": "markdown",
   "metadata": {},
   "source": [
    "> Note: I only run the model for 10 epochs in order to cut on the training time."
   ]
  },
  {
   "cell_type": "code",
   "execution_count": 40,
   "metadata": {
    "scrolled": true
   },
   "outputs": [
    {
     "name": "stdout",
     "output_type": "stream",
     "text": [
      "Epoch 1/10\n",
      "242/242 [==============================] - 88s 363ms/step - loss: 0.7497 - acc: 0.6797 - val_loss: 1.3751 - val_acc: 0.1552\n",
      "Epoch 2/10\n",
      "242/242 [==============================] - 85s 352ms/step - loss: 0.5144 - acc: 0.7476 - val_loss: 1.5548 - val_acc: 0.2586\n",
      "Epoch 3/10\n",
      "242/242 [==============================] - 89s 368ms/step - loss: 0.4861 - acc: 0.7691 - val_loss: 1.9027 - val_acc: 0.2069\n",
      "Epoch 4/10\n",
      "242/242 [==============================] - 86s 354ms/step - loss: 0.4659 - acc: 0.7801 - val_loss: 1.7360 - val_acc: 0.1724\n",
      "Epoch 5/10\n",
      "242/242 [==============================] - 85s 351ms/step - loss: 0.4745 - acc: 0.7779 - val_loss: 1.6041 - val_acc: 0.1983\n",
      "Epoch 6/10\n",
      "242/242 [==============================] - 90s 373ms/step - loss: 0.4704 - acc: 0.7788 - val_loss: 1.8178 - val_acc: 0.2155\n",
      "Epoch 7/10\n",
      "242/242 [==============================] - 87s 358ms/step - loss: 0.4597 - acc: 0.7850 - val_loss: 2.2639 - val_acc: 0.3276\n",
      "Epoch 8/10\n",
      "242/242 [==============================] - 88s 365ms/step - loss: 0.4507 - acc: 0.7954 - val_loss: 1.9794 - val_acc: 0.1293\n",
      "Epoch 9/10\n",
      "242/242 [==============================] - 87s 360ms/step - loss: 0.4478 - acc: 0.7967 - val_loss: 1.7552 - val_acc: 0.1552\n",
      "Epoch 10/10\n",
      "242/242 [==============================] - 87s 358ms/step - loss: 0.4516 - acc: 0.7911 - val_loss: 1.7358 - val_acc: 0.2586\n"
     ]
    }
   ],
   "source": [
    "# Compile the transfer learning model\n",
    "resnet_model.compile(loss='binary_crossentropy',\n",
    "              optimizer=optimizers.RMSprop(learning_rate=0.01),\n",
    "              metrics=['acc'])\n",
    "\n",
    "# Fit the model\n",
    "resnet_results = resnet_model.fit(balanced_generator,\n",
    "                              epochs=10,\n",
    "                              validation_data=val_generator)"
   ]
  },
  {
   "cell_type": "markdown",
   "metadata": {},
   "source": [
    "Now that the model has been run, I plot the training results with different markers to better exhibit how the model performed."
   ]
  },
  {
   "cell_type": "code",
   "execution_count": 41,
   "metadata": {},
   "outputs": [
    {
     "data": {
      "image/png": "[encoded data removed]",
      "text/plain": [
       "<Figure size 432x288 with 1 Axes>"
      ]
     },
     "metadata": {
      "needs_background": "light"
     },
     "output_type": "display_data"
    },
    {
     "data": {
      "image/png": "[encoded data removed]",
      "text/plain": [
       "<Figure size 432x288 with 1 Axes>"
      ]
     },
     "metadata": {
      "needs_background": "light"
     },
     "output_type": "display_data"
    }
   ],
   "source": [
    "# Plot the training results using different markers\n",
    "resnet_train_acc = resnet_results.history['acc']\n",
    "resnet_val_acc = resnet_results.history['val_acc']\n",
    "resnet_train_loss = resnet_results.history['loss']\n",
    "resnet_val_loss = resnet_results.history['val_loss']\n",
    "epch = range(1, len(resnet_train_acc) + 1)\n",
    "\n",
    "plt.plot(epch, resnet_train_acc, 'r.', label='Training Accuracy')\n",
    "plt.plot(epch, resnet_val_acc, 'b', label='Validation Accuracy')\n",
    "plt.title('Accuracy')\n",
    "plt.legend()\n",
    "plt.figure()\n",
    "plt.plot(epch, resnet_train_loss, 'r.', label='Training Loss')\n",
    "plt.plot(epch, resnet_val_loss, 'b', label='Validation Loss')\n",
    "plt.title('Loss')\n",
    "plt.legend()\n",
    "plt.show()"
   ]
  },
  {
   "cell_type": "markdown",
   "metadata": {},
   "source": [
    "As shown above, the transfer learning model did worse than our CNN model, even with the data augmentation approach! The validation accuracy and loss gets \"noisier\", and alternates between decreasing and increasing slopes. Compared to the training data, the validation data suggests the model needs to be tuned further, or perhaps needs another pre-trained network to build off of."
   ]
  },
  {
   "cell_type": "markdown",
   "metadata": {},
   "source": [
    "## Deployment & Evaluation\n",
    "After reviewing the training and validation scores, I've determined the CNN model with the augmented data is the best at classifying my X-ray images. Fortunately, this model was saved by `ModelCheckpoint`, and loaded earlier in the notebook; therefore, evaluating the testing dataset is simple."
   ]
  },
  {
   "cell_type": "code",
   "execution_count": 42,
   "metadata": {},
   "outputs": [
    {
     "name": "stdout",
     "output_type": "stream",
     "text": [
      "1/1 [==============================] - 0s 2ms/step - loss: 1.1847 - acc: 0.4027\n",
      "Generated 524 predictions\n",
      "test acc: 0.402671754360199\n"
     ]
    }
   ],
   "source": [
    "# Evaluate the test data and list testing accuracy\n",
    "test_loss, test_acc = saved_model.evaluate(test_generator)\n",
    "y_hat_test = saved_model.predict(test_generator)\n",
    "print('Generated {} predictions'.format(len(y_hat_test)))\n",
    "print('test acc:', test_acc)"
   ]
  },
  {
   "cell_type": "markdown",
   "metadata": {},
   "source": [
    "My saved model is 40.3% accurate after analyzing the testing data, which is decent given the validation accuracies performing worse, but obviously leaves room for improvement. Below I plot the confusion matrix to get a further look at how the model performed. "
   ]
  },
  {
   "cell_type": "code",
   "execution_count": 43,
   "metadata": {},
   "outputs": [
    {
     "data": {
      "image/png": "[encoded data removed]",
      "text/plain": [
       "<Figure size 720x576 with 1 Axes>"
      ]
     },
     "metadata": {
      "needs_background": "light"
     },
     "output_type": "display_data"
    }
   ],
   "source": [
    "# Set conditions to make plotting the confusion matrix easier\n",
    "y_test = test_generator.classes\n",
    "y_hat_test[y_hat_test > 0.5] = 1\n",
    "y_hat_test[y_hat_test < 0.5] = 0\n",
    "\n",
    "# Plot a confusion matrix of the test data\n",
    "plt.figure(figsize=(10, 8))\n",
    "sns.heatmap(confusion_matrix(y_test, y_hat_test), annot=True,\n",
    "           fmt='.3g', xticklabels=['Normal', 'Pneumonia'],\n",
    "           yticklabels=['Normal', 'Pneumonia'], cmap='OrRd', cbar=False)\n",
    "plt.xlabel(\"Predicted Labels\")\n",
    "plt.ylabel(\"True Labels\")\n",
    "plt.show()"
   ]
  },
  {
   "cell_type": "markdown",
   "metadata": {},
   "source": [
    "The visual above further confirms this model needs to be improved, especially in its false negative count (predicting \"Normal\" when the patient actually has pneumonia!). Unfortunately, the count rose from our baseline model, 121, to 176 in our final model. However, the positive class is being identified correctly, suggesting that the class imbalance is still affecting the models. However, after some further tuning, I'm confident the model can be generalized to a level where it can be deployed for use."
   ]
  },
  {
   "cell_type": "markdown",
   "metadata": {},
   "source": [
    "## Conclusion"
   ]
  },
  {
   "cell_type": "markdown",
   "metadata": {},
   "source": [
    "This analysis leads to the following conclusions:\n",
    "\n",
    "1. The Convolutional Neural Network (CNN) model performs the best in image classification; specifically, when the data has been augmented. \n",
    "\n",
    "\n",
    "2. The model is 40.3% accurate when testing and classifying chest X-ray images for pneumonia."
   ]
  },
  {
   "cell_type": "markdown",
   "metadata": {},
   "source": [
    "## Limitations & Further Work"
   ]
  },
  {
   "cell_type": "markdown",
   "metadata": {},
   "source": [
    "This project is limited in a few ways, the first being the lack of data. It wasn't until I augmented my data that the model began to train better, and yield efficient results. If given more image data, the model could effectively learn more of the abstract features within the X-ray images to better identify between the two groups of patients. Also, training the models with a more balanced class distribution so that I can tackle the issue of false negatives. In addition, computational constraints limit my ability to iterate the model with more epochs. If I were to increase my epochs, or even add more GPUs for modeling, I could potentially improve my results. There are other hyperparameters I could test, as well, which might also improve the algorithm's performance.\n",
    "\n",
    "Further analyses could yield a more effective classifier, and possibly improve the algorithm's performance. Some possible courses of action I could take include training with other pre-trained networks. The research I found led me to pre-select a base model; however, I could train a few more that may examine the training images better, and improve my results. In addition, I could balance my class distribution better, which would reduce the amount of \"noise\" shown in my visuals for the validation data's metrics, but also give me a better idea on how to further develop my classifier."
   ]
  },
  {
   "cell_type": "markdown",
   "metadata": {},
   "source": [
    "## Sources\n",
    "\n",
    "**Original dataset:**\n",
    "1. https://www.kaggle.com/datasets/paultimothymooney/chest-xray-pneumonia\n",
    "\n",
    "\n",
    "**Research that led to parameter preselection (i.e. optimizer, loss function, etc.):**\n",
    "1. https://www.sciencedirect.com/science/article/pii/S2214785321013316/pdfft?md5=e75aaffc3f03bcc370288811c870b7d9&pid=1-s2.0-S2214785321013316-main.pdf\n",
    "    \n",
    "2. https://towardsai.net/p/l/impact-of-optimizers-in-image-classifiers    \n",
    "\n",
    "\n",
    "**Source of the `BalancedDataGenerator()` class:**\n",
    "1. https://gist.github.com/arnaldog12/16efc663c869b35e2479bd607d56c1da"
   ]
  }
 ],
 "metadata": {
  "kernelspec": {
   "display_name": "Python 3",
   "language": "python",
   "name": "python3"
  },
  "language_info": {
   "codemirror_mode": {
    "name": "ipython",
    "version": 3
   },
   "file_extension": ".py",
   "mimetype": "text/x-python",
   "name": "python",
   "nbconvert_exporter": "python",
   "pygments_lexer": "ipython3",
   "version": "3.8.5"
  }
 },
 "nbformat": 4,
 "nbformat_minor": 4
}
