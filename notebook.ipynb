{
 "cells": [
  {
   "cell_type": "markdown",
   "metadata": {},
   "source": [
    "# Identifying Pneumonia with Deep Learning\n",
    "***\n",
    "Author: Andre Layton\n",
    "***"
   ]
  },
  {
   "cell_type": "markdown",
   "metadata": {},
   "source": [
    "# Overview\n",
    "......."
   ]
  },
  {
   "cell_type": "markdown",
   "metadata": {},
   "source": [
    "# Business Problem\n",
    "........"
   ]
  },
  {
   "cell_type": "markdown",
   "metadata": {},
   "source": [
    "***\n",
    "<img src=\"https://media.licdn.com/dms/image/D4D12AQEqfniioS4KVQ/article-cover_image-shrink_720_1280/0/1677311223167?e=2147483647&v=beta&t=loMCjRjjqYyKI72mjdbVk5_XbxRdzonIKz0qRn-BcXo\" style=\"height:500px; width:875px\" />"
   ]
  },
  {
   "cell_type": "markdown",
   "metadata": {},
   "source": [
    "## Data Understanding"
   ]
  },
  {
   "cell_type": "code",
   "execution_count": 1,
   "metadata": {},
   "outputs": [],
   "source": [
    "# Import all the necessary libraries\n",
    "from sklearn.model_selection import cross_val_score\n",
    "from sklearn.metrics import accuracy_score, confusion_matrix\n",
    "import numpy as np\n",
    "import pandas as pd\n",
    "import seaborn as sns\n",
    "import matplotlib.pyplot as plt\n",
    "%matplotlib inline\n",
    "\n",
    "from tensorflow.keras.utils import get_file\n",
    "from tensorflow.keras.preprocessing.image import ImageDataGenerator, array_to_img, img_to_array, load_img\n",
    "from tensorflow.keras.models import Sequential\n",
    "from tensorflow.keras.layers import Dense\n",
    "from tensorflow.keras.wrappers import scikit_learn\n",
    "import os"
   ]
  },
  {
   "cell_type": "code",
   "execution_count": 2,
   "metadata": {},
   "outputs": [
    {
     "name": "stdout",
     "output_type": "stream",
     "text": [
      "Found 5216 images belonging to 2 classes.\n",
      "Found 624 images belonging to 2 classes.\n",
      "Found 16 images belonging to 2 classes.\n"
     ]
    }
   ],
   "source": [
    "# Create directory path objects\n",
    "train_data_dir = 'data/chest_xray/train'\n",
    "test_data_dir = 'data/chest_xray/test'\n",
    "validation_dir = 'data/chest_xray/val'\n",
    "\n",
    "# Gather and reshape the data in each directory object\n",
    "train_generator = ImageDataGenerator().flow_from_directory(train_data_dir, target_size=(64, 64), batch_size=5216,\n",
    "                                                           seed=24)\n",
    "test_generator = ImageDataGenerator().flow_from_directory(test_data_dir, target_size=(64, 64), batch_size=624,\n",
    "                                                           seed=24)\n",
    "val_generator = ImageDataGenerator().flow_from_directory(validation_dir, target_size=(64, 64), batch_size=16,\n",
    "                                                           seed=24)\n",
    "\n",
    "# Create the datasets\n",
    "train_images, train_labels = next(train_generator)\n",
    "test_images, test_labels = next(test_generator)\n",
    "val_images, val_labels = next(val_generator)"
   ]
  },
  {
   "cell_type": "code",
   "execution_count": 3,
   "metadata": {},
   "outputs": [
    {
     "data": {
      "image/png": "[encoded data removed]",
      "text/plain": [
       "<PIL.Image.Image image mode=RGB size=64x64 at 0x1AD608052E0>"
      ]
     },
     "metadata": {},
     "output_type": "display_data"
    },
    {
     "data": {
      "image/png": "[encoded data removed]",
      "text/plain": [
       "<PIL.Image.Image image mode=RGB size=64x64 at 0x1AD60801A30>"
      ]
     },
     "execution_count": 3,
     "metadata": {},
     "output_type": "execute_result"
    }
   ],
   "source": [
    "# Preview some images\n",
    "display(array_to_img(train_images[17]))\n",
    "array_to_img(train_images[4200])"
   ]
  },
  {
   "cell_type": "code",
   "execution_count": 4,
   "metadata": {},
   "outputs": [
    {
     "name": "stdout",
     "output_type": "stream",
     "text": [
      "Train Data Shape:\n",
      "(5216, 64, 64, 3)\n",
      "(5216, 2)\n",
      "\n",
      "Test Data Shape:\n",
      "(624, 64, 64, 3)\n",
      "(624, 2)\n",
      "\n",
      "Validation Data Shape:\n",
      "(16, 64, 64, 3)\n",
      "(16, 2)\n"
     ]
    }
   ],
   "source": [
    "# Preview the shape of the data\n",
    "print(\"Train Data Shape:\")\n",
    "print(np.shape(train_images))\n",
    "print(np.shape(train_labels))\n",
    "print(\"\\nTest Data Shape:\")\n",
    "print(np.shape(test_images))\n",
    "print(np.shape(test_labels))\n",
    "print(\"\\nValidation Data Shape:\")\n",
    "print(np.shape(val_images))\n",
    "print(np.shape(val_labels))"
   ]
  },
  {
   "cell_type": "code",
   "execution_count": null,
   "metadata": {},
   "outputs": [],
   "source": [
    "# Reshape the train, test, and validation images \n",
    "#train_img_unrow = train_images.reshape(5216, -1).T\n",
    "#test_img_unrow = test_images.reshape(624, -1).T\n",
    "#val_img_unrow = val_images.reshape(16, -1).T\n",
    "\n",
    "# Preview the shape of each newly-formed objects\n",
    "#print(np.shape(train_img_unrow))\n",
    "#print(np.shape(test_img_unrow))\n",
    "#print(np.shape(val_img_unrow))"
   ]
  },
  {
   "cell_type": "code",
   "execution_count": 5,
   "metadata": {},
   "outputs": [
    {
     "data": {
      "text/plain": [
       "{'NORMAL': 0, 'PNEUMONIA': 1}"
      ]
     },
     "execution_count": 5,
     "metadata": {},
     "output_type": "execute_result"
    }
   ],
   "source": [
    "train_generator.class_indices"
   ]
  },
  {
   "cell_type": "code",
   "execution_count": 6,
   "metadata": {},
   "outputs": [
    {
     "name": "stdout",
     "output_type": "stream",
     "text": [
      "(1, 5216)\n",
      "(1, 624)\n",
      "(1, 16)\n"
     ]
    }
   ],
   "source": [
    "# Reshape the label datasets, and select the 'PNEUMONIA' column\n",
    "y_train_labels = train_labels.T[[1]]\n",
    "y_test_labels = test_labels.T[[1]]\n",
    "y_val_labels = val_labels.T[[1]]\n",
    "\n",
    "# Check the shape of the transformed labels \n",
    "print(np.shape(y_train_labels))\n",
    "print(np.shape(y_test_labels))\n",
    "print(np.shape(y_val_labels))"
   ]
  },
  {
   "cell_type": "code",
   "execution_count": 7,
   "metadata": {},
   "outputs": [
    {
     "data": {
      "image/png": "[encoded data removed]",
      "text/plain": [
       "<PIL.Image.Image image mode=RGB size=64x64 at 0x1AD6080B5B0>"
      ]
     },
     "metadata": {},
     "output_type": "display_data"
    },
    {
     "name": "stdout",
     "output_type": "stream",
     "text": [
      "[0.]\n"
     ]
    }
   ],
   "source": [
    "# Confirm if the image matches the corresponding label\n",
    "display(array_to_img(train_images[1400]))\n",
    "print(y_train_labels[:, 1400])"
   ]
  },
  {
   "cell_type": "code",
   "execution_count": 8,
   "metadata": {},
   "outputs": [
    {
     "data": {
      "image/png": "[encoded data removed]",
      "text/plain": [
       "<PIL.Image.Image image mode=RGB size=64x64 at 0x1AD6080B6A0>"
      ]
     },
     "metadata": {},
     "output_type": "display_data"
    },
    {
     "name": "stdout",
     "output_type": "stream",
     "text": [
      "[1.]\n"
     ]
    }
   ],
   "source": [
    "# Confirm if the image matches the corresponding label\n",
    "display(array_to_img(train_images[14]))\n",
    "print(y_train_labels[:, 14])"
   ]
  },
  {
   "cell_type": "markdown",
   "metadata": {},
   "source": [
    "## Modeling\n",
    "\n",
    "### Baseline Model:"
   ]
  },
  {
   "cell_type": "code",
   "execution_count": 9,
   "metadata": {},
   "outputs": [
    {
     "name": "stdout",
     "output_type": "stream",
     "text": [
      "(5216, 12288)\n",
      "(624, 12288)\n",
      "(16, 12288)\n"
     ]
    }
   ],
   "source": [
    "# Reshape the train, test, and validation images for modeling\n",
    "X_train = train_images.reshape(5216, -1)\n",
    "X_test = test_images.reshape(624, -1)\n",
    "X_val = val_images.reshape(16, -1)\n",
    "\n",
    "# Preview the shape of each newly-formed objects\n",
    "print(np.shape(X_train))\n",
    "print(np.shape(X_test))\n",
    "print(np.shape(X_val))"
   ]
  },
  {
   "cell_type": "code",
   "execution_count": 10,
   "metadata": {},
   "outputs": [],
   "source": [
    "# Standardize the datasets\n",
    "X_train_final = X_train/255\n",
    "X_test_final = X_test/255\n",
    "X_val_final = X_val/255"
   ]
  },
  {
   "cell_type": "code",
   "execution_count": 11,
   "metadata": {},
   "outputs": [
    {
     "name": "stdout",
     "output_type": "stream",
     "text": [
      "(5216, 1)\n",
      "(624, 1)\n",
      "(16, 1)\n"
     ]
    }
   ],
   "source": [
    "# Reshape the label datasets for modeling\n",
    "y_train = np.reshape(train_labels[:, 0], (5216, 1))\n",
    "y_test = np.reshape(test_labels[:, 0], (624, 1))\n",
    "y_val = np.reshape(val_labels[:, 0], (16, 1))\n",
    "\n",
    "# Check the shape of the transformed labels \n",
    "print(np.shape(y_train))\n",
    "print(np.shape(y_test))\n",
    "print(np.shape(y_val))"
   ]
  },
  {
   "cell_type": "code",
   "execution_count": 12,
   "metadata": {},
   "outputs": [],
   "source": [
    "baseline_model = Sequential()\n",
    "baseline_model.add(Dense(42, activation='relu', input_shape=(12288, )))\n",
    "baseline_model.add(Dense(1, activation='sigmoid'))"
   ]
  },
  {
   "cell_type": "code",
   "execution_count": 13,
   "metadata": {},
   "outputs": [],
   "source": [
    "baseline_model.compile(loss='binary_crossentropy', optimizer='RMSprop', metrics=['acc'])"
   ]
  },
  {
   "cell_type": "code",
   "execution_count": 14,
   "metadata": {},
   "outputs": [
    {
     "name": "stdout",
     "output_type": "stream",
     "text": [
      "Model: \"sequential\"\n",
      "_________________________________________________________________\n",
      "Layer (type)                 Output Shape              Param #   \n",
      "=================================================================\n",
      "dense (Dense)                (None, 42)                516138    \n",
      "_________________________________________________________________\n",
      "dense_1 (Dense)              (None, 1)                 43        \n",
      "=================================================================\n",
      "Total params: 516,181\n",
      "Trainable params: 516,181\n",
      "Non-trainable params: 0\n",
      "_________________________________________________________________\n"
     ]
    }
   ],
   "source": [
    "baseline_model.summary()"
   ]
  },
  {
   "cell_type": "code",
   "execution_count": 15,
   "metadata": {
    "scrolled": false
   },
   "outputs": [
    {
     "name": "stdout",
     "output_type": "stream",
     "text": [
      "Epoch 1/75\n",
      "17/17 [==============================] - 1s 39ms/step - loss: 3.6253 - acc: 0.6210 - val_loss: 7.6388 - val_acc: 0.5000\n",
      "Epoch 2/75\n",
      "17/17 [==============================] - 0s 21ms/step - loss: 1.3971 - acc: 0.7168 - val_loss: 0.9004 - val_acc: 0.6250\n",
      "Epoch 3/75\n",
      "17/17 [==============================] - 0s 21ms/step - loss: 1.2400 - acc: 0.7046 - val_loss: 0.8498 - val_acc: 0.6875\n",
      "Epoch 4/75\n",
      "17/17 [==============================] - 0s 21ms/step - loss: 0.8775 - acc: 0.7742 - val_loss: 0.5429 - val_acc: 0.7500\n",
      "Epoch 5/75\n",
      "17/17 [==============================] - 0s 20ms/step - loss: 0.8861 - acc: 0.7586 - val_loss: 0.9711 - val_acc: 0.6250\n",
      "Epoch 6/75\n",
      "17/17 [==============================] - 0s 29ms/step - loss: 0.7631 - acc: 0.8108 - val_loss: 3.5772 - val_acc: 0.5000\n",
      "Epoch 7/75\n",
      "17/17 [==============================] - 1s 42ms/step - loss: 0.8258 - acc: 0.7910 - val_loss: 0.6028 - val_acc: 0.7500\n",
      "Epoch 8/75\n",
      "17/17 [==============================] - 1s 38ms/step - loss: 0.6550 - acc: 0.8357 - val_loss: 2.6131 - val_acc: 0.5000\n",
      "Epoch 9/75\n",
      "17/17 [==============================] - 1s 43ms/step - loss: 0.7154 - acc: 0.7908 - val_loss: 0.5562 - val_acc: 0.8125\n",
      "Epoch 10/75\n",
      "17/17 [==============================] - 1s 46ms/step - loss: 0.6414 - acc: 0.8073 - val_loss: 1.5373 - val_acc: 0.5625\n",
      "Epoch 11/75\n",
      "17/17 [==============================] - 1s 41ms/step - loss: 0.5918 - acc: 0.8146 - val_loss: 0.5130 - val_acc: 0.8125\n",
      "Epoch 12/75\n",
      "17/17 [==============================] - 1s 42ms/step - loss: 0.5461 - acc: 0.8292 - val_loss: 0.8867 - val_acc: 0.6875\n",
      "Epoch 13/75\n",
      "17/17 [==============================] - 1s 44ms/step - loss: 0.4811 - acc: 0.8602 - val_loss: 5.0837 - val_acc: 0.5000\n",
      "Epoch 14/75\n",
      "17/17 [==============================] - 1s 49ms/step - loss: 0.6538 - acc: 0.8501 - val_loss: 0.5656 - val_acc: 0.8750\n",
      "Epoch 15/75\n",
      "17/17 [==============================] - 1s 45ms/step - loss: 0.4048 - acc: 0.8850 - val_loss: 0.6015 - val_acc: 0.8750\n",
      "Epoch 16/75\n",
      "17/17 [==============================] - 1s 53ms/step - loss: 0.4199 - acc: 0.8631 - val_loss: 0.6415 - val_acc: 0.8125\n",
      "Epoch 17/75\n",
      "17/17 [==============================] - 1s 46ms/step - loss: 0.3938 - acc: 0.8944 - val_loss: 0.7245 - val_acc: 0.6875\n",
      "Epoch 18/75\n",
      "17/17 [==============================] - 1s 49ms/step - loss: 0.4967 - acc: 0.8524 - val_loss: 0.3753 - val_acc: 0.8125\n",
      "Epoch 19/75\n",
      "17/17 [==============================] - 1s 44ms/step - loss: 0.3634 - acc: 0.8714 - val_loss: 0.3887 - val_acc: 0.8750\n",
      "Epoch 20/75\n",
      "17/17 [==============================] - 1s 51ms/step - loss: 0.4454 - acc: 0.8712 - val_loss: 3.4014 - val_acc: 0.5000\n",
      "Epoch 21/75\n",
      "17/17 [==============================] - 1s 54ms/step - loss: 0.4631 - acc: 0.8775 - val_loss: 0.6105 - val_acc: 0.8125\n",
      "Epoch 22/75\n",
      "17/17 [==============================] - 1s 50ms/step - loss: 0.2868 - acc: 0.9059 - val_loss: 0.4156 - val_acc: 0.8750\n",
      "Epoch 23/75\n",
      "17/17 [==============================] - 1s 60ms/step - loss: 0.3731 - acc: 0.9041 - val_loss: 1.0855 - val_acc: 0.6875\n",
      "Epoch 24/75\n",
      "17/17 [==============================] - 1s 55ms/step - loss: 0.3614 - acc: 0.8846 - val_loss: 2.5618 - val_acc: 0.5000\n",
      "Epoch 25/75\n",
      "17/17 [==============================] - 1s 53ms/step - loss: 0.3471 - acc: 0.8823 - val_loss: 2.7561 - val_acc: 0.5000\n",
      "Epoch 26/75\n",
      "17/17 [==============================] - 1s 53ms/step - loss: 0.3616 - acc: 0.8656 - val_loss: 0.3256 - val_acc: 0.8750\n",
      "Epoch 27/75\n",
      "17/17 [==============================] - 1s 53ms/step - loss: 0.3258 - acc: 0.8792 - val_loss: 1.1146 - val_acc: 0.6250\n",
      "Epoch 28/75\n",
      "17/17 [==============================] - ETA: 0s - loss: 0.2961 - acc: 0.884 - 1s 50ms/step - loss: 0.2961 - acc: 0.8848 - val_loss: 0.4892 - val_acc: 0.8125\n",
      "Epoch 29/75\n",
      "17/17 [==============================] - 1s 48ms/step - loss: 0.3055 - acc: 0.8855 - val_loss: 1.4820 - val_acc: 0.5000\n",
      "Epoch 30/75\n",
      "17/17 [==============================] - 1s 47ms/step - loss: 0.3099 - acc: 0.8779 - val_loss: 0.3636 - val_acc: 0.8125\n",
      "Epoch 31/75\n",
      "17/17 [==============================] - 1s 52ms/step - loss: 0.1665 - acc: 0.9344 - val_loss: 3.2143 - val_acc: 0.5000\n",
      "Epoch 32/75\n",
      "17/17 [==============================] - 1s 47ms/step - loss: 0.3011 - acc: 0.8942 - val_loss: 0.4117 - val_acc: 0.8750\n",
      "Epoch 33/75\n",
      "17/17 [==============================] - 1s 45ms/step - loss: 0.3242 - acc: 0.8829 - val_loss: 0.4903 - val_acc: 0.8750\n",
      "Epoch 34/75\n",
      "17/17 [==============================] - 1s 52ms/step - loss: 0.2548 - acc: 0.9020 - val_loss: 0.2921 - val_acc: 0.8750\n",
      "Epoch 35/75\n",
      "17/17 [==============================] - 1s 48ms/step - loss: 0.2560 - acc: 0.8963 - val_loss: 0.3543 - val_acc: 0.8750\n",
      "Epoch 36/75\n",
      "17/17 [==============================] - 1s 44ms/step - loss: 0.2261 - acc: 0.9153 - val_loss: 0.3919 - val_acc: 0.8750\n",
      "Epoch 37/75\n",
      "17/17 [==============================] - 1s 48ms/step - loss: 0.2508 - acc: 0.9078 - val_loss: 0.3215 - val_acc: 0.8750\n",
      "Epoch 38/75\n",
      "17/17 [==============================] - 1s 48ms/step - loss: 0.2412 - acc: 0.9084 - val_loss: 0.5174 - val_acc: 0.8125\n",
      "Epoch 39/75\n",
      "17/17 [==============================] - 1s 53ms/step - loss: 0.2357 - acc: 0.9147 - val_loss: 0.9905 - val_acc: 0.6875\n",
      "Epoch 40/75\n",
      "17/17 [==============================] - 1s 64ms/step - loss: 0.2282 - acc: 0.9086 - val_loss: 0.2873 - val_acc: 0.9375\n",
      "Epoch 41/75\n",
      "17/17 [==============================] - 1s 55ms/step - loss: 0.2236 - acc: 0.9141 - val_loss: 0.3720 - val_acc: 0.8125\n",
      "Epoch 42/75\n",
      "17/17 [==============================] - 1s 49ms/step - loss: 0.2784 - acc: 0.8963 - val_loss: 0.6904 - val_acc: 0.7500\n",
      "Epoch 43/75\n",
      "17/17 [==============================] - 1s 51ms/step - loss: 0.2009 - acc: 0.9201 - val_loss: 0.2669 - val_acc: 0.9375\n",
      "Epoch 44/75\n",
      "17/17 [==============================] - 1s 55ms/step - loss: 0.2159 - acc: 0.9191 - val_loss: 0.3378 - val_acc: 0.8750\n",
      "Epoch 45/75\n",
      "17/17 [==============================] - 1s 57ms/step - loss: 0.2018 - acc: 0.9225 - val_loss: 0.4506 - val_acc: 0.8750\n",
      "Epoch 46/75\n",
      "17/17 [==============================] - 1s 66ms/step - loss: 0.2131 - acc: 0.9174 - val_loss: 0.2772 - val_acc: 0.8125\n",
      "Epoch 47/75\n",
      "17/17 [==============================] - 1s 51ms/step - loss: 0.2237 - acc: 0.9068 - val_loss: 0.3311 - val_acc: 0.8125\n",
      "Epoch 48/75\n",
      "17/17 [==============================] - 1s 42ms/step - loss: 0.1910 - acc: 0.9231 - val_loss: 1.7992 - val_acc: 0.5000\n",
      "Epoch 49/75\n",
      "17/17 [==============================] - 1s 51ms/step - loss: 0.2090 - acc: 0.9185 - val_loss: 0.3583 - val_acc: 0.8750\n",
      "Epoch 50/75\n",
      "17/17 [==============================] - 1s 46ms/step - loss: 0.1773 - acc: 0.9340 - val_loss: 0.7674 - val_acc: 0.6875\n",
      "Epoch 51/75\n",
      "17/17 [==============================] - 1s 46ms/step - loss: 0.2102 - acc: 0.9168 - val_loss: 1.3741 - val_acc: 0.5625\n",
      "Epoch 52/75\n",
      "17/17 [==============================] - 1s 51ms/step - loss: 0.1844 - acc: 0.9243 - val_loss: 1.3877 - val_acc: 0.5625\n",
      "Epoch 53/75\n",
      "17/17 [==============================] - 1s 44ms/step - loss: 0.2029 - acc: 0.9187 - val_loss: 0.2725 - val_acc: 0.8125\n",
      "Epoch 54/75\n",
      "17/17 [==============================] - 1s 49ms/step - loss: 0.1969 - acc: 0.9216 - val_loss: 1.3949 - val_acc: 0.5625\n",
      "Epoch 55/75\n",
      "17/17 [==============================] - 1s 48ms/step - loss: 0.1625 - acc: 0.9354 - val_loss: 0.2559 - val_acc: 0.9375\n",
      "Epoch 56/75\n",
      "17/17 [==============================] - 1s 39ms/step - loss: 0.2185 - acc: 0.9176 - val_loss: 0.3216 - val_acc: 0.8125\n",
      "Epoch 57/75\n",
      "17/17 [==============================] - 1s 43ms/step - loss: 0.2174 - acc: 0.9166 - val_loss: 0.7810 - val_acc: 0.6875\n",
      "Epoch 58/75\n",
      "17/17 [==============================] - 1s 42ms/step - loss: 0.1644 - acc: 0.9335 - val_loss: 0.3164 - val_acc: 0.9375\n",
      "Epoch 59/75\n",
      "17/17 [==============================] - 1s 42ms/step - loss: 0.1908 - acc: 0.9264 - val_loss: 0.2645 - val_acc: 0.9375\n",
      "Epoch 60/75\n",
      "17/17 [==============================] - 1s 49ms/step - loss: 0.1931 - acc: 0.9222 - val_loss: 0.7223 - val_acc: 0.6875\n",
      "Epoch 61/75\n",
      "17/17 [==============================] - 1s 45ms/step - loss: 0.1640 - acc: 0.9350 - val_loss: 0.3472 - val_acc: 0.8125\n",
      "Epoch 62/75\n",
      "17/17 [==============================] - 1s 45ms/step - loss: 0.1822 - acc: 0.9199 - val_loss: 0.4186 - val_acc: 0.8750\n"
     ]
    },
    {
     "name": "stdout",
     "output_type": "stream",
     "text": [
      "Epoch 63/75\n",
      "17/17 [==============================] - 1s 50ms/step - loss: 0.1881 - acc: 0.9241 - val_loss: 0.2618 - val_acc: 0.8125\n",
      "Epoch 64/75\n",
      "17/17 [==============================] - 1s 45ms/step - loss: 0.1928 - acc: 0.9201 - val_loss: 0.4177 - val_acc: 0.8125\n",
      "Epoch 65/75\n",
      "17/17 [==============================] - 1s 44ms/step - loss: 0.1794 - acc: 0.9294 - val_loss: 0.5555 - val_acc: 0.7500\n",
      "Epoch 66/75\n",
      "17/17 [==============================] - 1s 48ms/step - loss: 0.1821 - acc: 0.9260 - val_loss: 0.2612 - val_acc: 0.9375\n",
      "Epoch 67/75\n",
      "17/17 [==============================] - 1s 45ms/step - loss: 0.1643 - acc: 0.9314 - val_loss: 0.2340 - val_acc: 0.9375\n",
      "Epoch 68/75\n",
      "17/17 [==============================] - 1s 47ms/step - loss: 0.1726 - acc: 0.9354 - val_loss: 0.7217 - val_acc: 0.7500\n",
      "Epoch 69/75\n",
      "17/17 [==============================] - 1s 53ms/step - loss: 0.1772 - acc: 0.9281 - val_loss: 0.3776 - val_acc: 0.8750\n",
      "Epoch 70/75\n",
      "17/17 [==============================] - 1s 61ms/step - loss: 0.1685 - acc: 0.9314 - val_loss: 0.5205 - val_acc: 0.8125\n",
      "Epoch 71/75\n",
      "17/17 [==============================] - 1s 49ms/step - loss: 0.1651 - acc: 0.9350 - val_loss: 0.2749 - val_acc: 0.9375\n",
      "Epoch 72/75\n",
      "17/17 [==============================] - 1s 52ms/step - loss: 0.1536 - acc: 0.9377 - val_loss: 2.7871 - val_acc: 0.5000\n",
      "Epoch 73/75\n",
      "17/17 [==============================] - 1s 43ms/step - loss: 0.1908 - acc: 0.9329 - val_loss: 0.2250 - val_acc: 0.9375\n",
      "Epoch 74/75\n",
      "17/17 [==============================] - 1s 49ms/step - loss: 0.1911 - acc: 0.9256 - val_loss: 0.3214 - val_acc: 0.9375\n",
      "Epoch 75/75\n",
      "17/17 [==============================] - 1s 48ms/step - loss: 0.1580 - acc: 0.9381 - val_loss: 0.5585 - val_acc: 0.8125\n"
     ]
    }
   ],
   "source": [
    "baseline = baseline_model.fit(X_train_final, y_train, epochs=75, batch_size=320,\n",
    "                                      validation_data=(X_val_final, y_val))"
   ]
  },
  {
   "cell_type": "code",
   "execution_count": 16,
   "metadata": {},
   "outputs": [
    {
     "data": {
      "image/png": "[encoded data removed]",
      "text/plain": [
       "<Figure size 432x288 with 1 Axes>"
      ]
     },
     "metadata": {
      "needs_background": "light"
     },
     "output_type": "display_data"
    },
    {
     "data": {
      "image/png": "[encoded data removed]",
      "text/plain": [
       "<Figure size 432x288 with 1 Axes>"
      ]
     },
     "metadata": {
      "needs_background": "light"
     },
     "output_type": "display_data"
    }
   ],
   "source": [
    "import matplotlib.pyplot as plt\n",
    "%matplotlib inline \n",
    "\n",
    "acc = baseline.history['acc']\n",
    "val_acc = baseline.history['val_acc']\n",
    "loss = baseline.history['loss']\n",
    "val_loss = baseline.history['val_loss']\n",
    "epochs = range(len(acc))\n",
    "plt.plot(epochs, acc, 'r', label='Training acc')\n",
    "plt.plot(epochs, val_acc, 'b', label='Validation acc')\n",
    "plt.title('Training and validation accuracy')\n",
    "plt.legend()\n",
    "plt.figure()\n",
    "plt.plot(epochs, loss, 'r', label='Training loss')\n",
    "plt.plot(epochs, val_loss, 'b', label='Validation loss')\n",
    "plt.title('Training and validation loss')\n",
    "plt.legend()\n",
    "plt.show()"
   ]
  },
  {
   "cell_type": "markdown",
   "metadata": {},
   "source": [
    "### Cross-Validating the Baseline Model:"
   ]
  },
  {
   "cell_type": "code",
   "execution_count": 17,
   "metadata": {},
   "outputs": [],
   "source": [
    "def build_model():\n",
    "    model = Sequential()\n",
    "    model.add(Dense(42, activation='relu', input_shape=(12288, )))\n",
    "    model.add(Dense(1, activation = 'sigmoid'))\n",
    "\n",
    "    model.compile(loss='binary_crossentropy', \n",
    "                  optimizer='RMSprop', \n",
    "                  metrics=['acc'])\n",
    "    return model"
   ]
  },
  {
   "cell_type": "code",
   "execution_count": 19,
   "metadata": {
    "scrolled": true
   },
   "outputs": [
    {
     "name": "stdout",
     "output_type": "stream",
     "text": [
      "Epoch 1/45\n",
      "14/14 - 0s - loss: 4.0307 - acc: 0.6194\n",
      "Epoch 2/45\n",
      "14/14 - 0s - loss: 0.5308 - acc: 0.7512\n",
      "Epoch 3/45\n",
      "14/14 - 0s - loss: 0.4798 - acc: 0.7452\n",
      "Epoch 4/45\n",
      "14/14 - 0s - loss: 0.4576 - acc: 0.7570\n",
      "Epoch 5/45\n",
      "14/14 - 0s - loss: 0.4114 - acc: 0.7543\n",
      "Epoch 6/45\n",
      "14/14 - 0s - loss: 0.3910 - acc: 0.8217\n",
      "Epoch 7/45\n",
      "14/14 - 0s - loss: 0.3664 - acc: 0.8492\n",
      "Epoch 8/45\n",
      "14/14 - 0s - loss: 0.3613 - acc: 0.8476\n",
      "Epoch 9/45\n",
      "14/14 - 0s - loss: 0.3511 - acc: 0.8591\n",
      "Epoch 10/45\n",
      "14/14 - 0s - loss: 0.3402 - acc: 0.8691\n",
      "Epoch 11/45\n",
      "14/14 - 0s - loss: 0.3295 - acc: 0.8794\n",
      "Epoch 12/45\n",
      "14/14 - 0s - loss: 0.3221 - acc: 0.8893\n",
      "Epoch 13/45\n",
      "14/14 - 0s - loss: 0.3128 - acc: 0.8936\n",
      "Epoch 14/45\n",
      "14/14 - 0s - loss: 0.3077 - acc: 0.8981\n",
      "Epoch 15/45\n",
      "14/14 - 0s - loss: 0.3054 - acc: 0.8984\n",
      "Epoch 16/45\n",
      "14/14 - 0s - loss: 0.2980 - acc: 0.9036\n",
      "Epoch 17/45\n",
      "14/14 - 0s - loss: 0.2883 - acc: 0.9080\n",
      "Epoch 18/45\n",
      "14/14 - 0s - loss: 0.2892 - acc: 0.9092\n",
      "Epoch 19/45\n",
      "14/14 - 0s - loss: 0.2814 - acc: 0.9132\n",
      "Epoch 20/45\n",
      "14/14 - 0s - loss: 0.2809 - acc: 0.9166\n",
      "Epoch 21/45\n",
      "14/14 - 0s - loss: 0.2739 - acc: 0.9173\n",
      "Epoch 22/45\n",
      "14/14 - 0s - loss: 0.2731 - acc: 0.9178\n",
      "Epoch 23/45\n",
      "14/14 - 0s - loss: 0.2566 - acc: 0.9283\n",
      "Epoch 24/45\n",
      "14/14 - 0s - loss: 0.2629 - acc: 0.9274\n",
      "Epoch 25/45\n",
      "14/14 - 0s - loss: 0.2568 - acc: 0.9271\n",
      "Epoch 26/45\n",
      "14/14 - 0s - loss: 0.2591 - acc: 0.9238\n",
      "Epoch 27/45\n",
      "14/14 - 0s - loss: 0.2504 - acc: 0.9307\n",
      "Epoch 28/45\n",
      "14/14 - 0s - loss: 0.2633 - acc: 0.9190\n",
      "Epoch 29/45\n",
      "14/14 - 0s - loss: 0.2473 - acc: 0.9305\n",
      "Epoch 30/45\n",
      "14/14 - 0s - loss: 0.2482 - acc: 0.9283\n",
      "Epoch 31/45\n",
      "14/14 - 0s - loss: 0.2481 - acc: 0.9267\n",
      "Epoch 32/45\n",
      "14/14 - 0s - loss: 0.2444 - acc: 0.9322\n",
      "Epoch 33/45\n",
      "14/14 - 0s - loss: 0.2322 - acc: 0.9406\n",
      "Epoch 34/45\n",
      "14/14 - 0s - loss: 0.2357 - acc: 0.9362\n",
      "Epoch 35/45\n",
      "14/14 - 0s - loss: 0.2262 - acc: 0.9418\n",
      "Epoch 36/45\n",
      "14/14 - 0s - loss: 0.2363 - acc: 0.9343\n",
      "Epoch 37/45\n",
      "14/14 - 0s - loss: 0.2254 - acc: 0.9365\n",
      "Epoch 38/45\n",
      "14/14 - 0s - loss: 0.2285 - acc: 0.9382\n",
      "Epoch 39/45\n",
      "14/14 - 0s - loss: 0.2147 - acc: 0.9458\n",
      "Epoch 40/45\n",
      "14/14 - 0s - loss: 0.2230 - acc: 0.9370\n",
      "Epoch 41/45\n",
      "14/14 - 0s - loss: 0.2285 - acc: 0.9382\n",
      "Epoch 42/45\n",
      "14/14 - 0s - loss: 0.2189 - acc: 0.9396\n",
      "Epoch 43/45\n",
      "14/14 - 0s - loss: 0.2194 - acc: 0.9386\n",
      "Epoch 44/45\n",
      "14/14 - 0s - loss: 0.2187 - acc: 0.9406\n",
      "Epoch 45/45\n",
      "14/14 - 0s - loss: 0.2112 - acc: 0.9439\n",
      "4/4 - 0s - loss: 0.2010 - acc: 0.9626\n",
      "Epoch 1/45\n",
      "14/14 - 0s - loss: 2.1105 - acc: 0.6127\n",
      "Epoch 2/45\n",
      "14/14 - 0s - loss: 0.5406 - acc: 0.7477\n",
      "Epoch 3/45\n",
      "14/14 - 0s - loss: 0.4951 - acc: 0.7522\n",
      "Epoch 4/45\n",
      "14/14 - 0s - loss: 0.4601 - acc: 0.7565\n",
      "Epoch 5/45\n",
      "14/14 - 0s - loss: 0.4206 - acc: 0.7673\n",
      "Epoch 6/45\n",
      "14/14 - 0s - loss: 0.3988 - acc: 0.7776\n",
      "Epoch 7/45\n",
      "14/14 - 0s - loss: 0.3778 - acc: 0.8267\n",
      "Epoch 8/45\n",
      "14/14 - 0s - loss: 0.3649 - acc: 0.8529\n",
      "Epoch 9/45\n",
      "14/14 - 0s - loss: 0.3506 - acc: 0.8620\n",
      "Epoch 10/45\n",
      "14/14 - 0s - loss: 0.3389 - acc: 0.8644\n",
      "Epoch 11/45\n",
      "14/14 - 0s - loss: 0.3281 - acc: 0.8797\n",
      "Epoch 12/45\n",
      "14/14 - 0s - loss: 0.3256 - acc: 0.8804\n",
      "Epoch 13/45\n",
      "14/14 - 0s - loss: 0.3135 - acc: 0.8934\n",
      "Epoch 14/45\n",
      "14/14 - 0s - loss: 0.3051 - acc: 0.9003\n",
      "Epoch 15/45\n",
      "14/14 - 0s - loss: 0.3004 - acc: 0.9034\n",
      "Epoch 16/45\n",
      "14/14 - 0s - loss: 0.2968 - acc: 0.9027\n",
      "Epoch 17/45\n",
      "14/14 - 0s - loss: 0.2847 - acc: 0.9137\n",
      "Epoch 18/45\n",
      "14/14 - 0s - loss: 0.2840 - acc: 0.9130\n",
      "Epoch 19/45\n",
      "14/14 - 0s - loss: 0.2931 - acc: 0.9156\n",
      "Epoch 20/45\n",
      "14/14 - 0s - loss: 0.2738 - acc: 0.9183\n",
      "Epoch 21/45\n",
      "14/14 - 0s - loss: 0.2721 - acc: 0.9192\n",
      "Epoch 22/45\n",
      "14/14 - 0s - loss: 0.2595 - acc: 0.9327\n",
      "Epoch 23/45\n",
      "14/14 - 0s - loss: 0.2622 - acc: 0.9319\n",
      "Epoch 24/45\n",
      "14/14 - 0s - loss: 0.2547 - acc: 0.9288\n",
      "Epoch 25/45\n",
      "14/14 - 0s - loss: 0.2569 - acc: 0.9288\n",
      "Epoch 26/45\n",
      "14/14 - 0s - loss: 0.2542 - acc: 0.9298\n",
      "Epoch 27/45\n",
      "14/14 - 0s - loss: 0.2540 - acc: 0.9307\n",
      "Epoch 28/45\n",
      "14/14 - 0s - loss: 0.2511 - acc: 0.9310\n",
      "Epoch 29/45\n",
      "14/14 - 0s - loss: 0.2420 - acc: 0.9324\n",
      "Epoch 30/45\n",
      "14/14 - 0s - loss: 0.2329 - acc: 0.9415\n",
      "Epoch 31/45\n",
      "14/14 - 0s - loss: 0.2492 - acc: 0.9305\n",
      "Epoch 32/45\n",
      "14/14 - 0s - loss: 0.2316 - acc: 0.9391\n",
      "Epoch 33/45\n",
      "14/14 - 0s - loss: 0.2381 - acc: 0.9353\n",
      "Epoch 34/45\n",
      "14/14 - 0s - loss: 0.2380 - acc: 0.9303\n",
      "Epoch 35/45\n",
      "14/14 - 0s - loss: 0.2385 - acc: 0.9367\n",
      "Epoch 36/45\n",
      "14/14 - 0s - loss: 0.2330 - acc: 0.9372\n",
      "Epoch 37/45\n",
      "14/14 - 0s - loss: 0.2326 - acc: 0.9372\n",
      "Epoch 38/45\n",
      "14/14 - 0s - loss: 0.2136 - acc: 0.9470\n",
      "Epoch 39/45\n",
      "14/14 - 0s - loss: 0.2276 - acc: 0.9351\n",
      "Epoch 40/45\n",
      "14/14 - 0s - loss: 0.2268 - acc: 0.9396\n",
      "Epoch 41/45\n",
      "14/14 - 0s - loss: 0.2224 - acc: 0.9391\n",
      "Epoch 42/45\n",
      "14/14 - 0s - loss: 0.2088 - acc: 0.9502\n",
      "Epoch 43/45\n",
      "14/14 - 0s - loss: 0.2265 - acc: 0.9370\n",
      "Epoch 44/45\n",
      "14/14 - 0s - loss: 0.2234 - acc: 0.9387\n",
      "Epoch 45/45\n",
      "14/14 - 0s - loss: 0.2142 - acc: 0.9444\n",
      "4/4 - 0s - loss: 0.2037 - acc: 0.9559\n",
      "Epoch 1/45\n",
      "14/14 - 0s - loss: 3.9699 - acc: 0.6259\n",
      "Epoch 2/45\n",
      "14/14 - 0s - loss: 1.4679 - acc: 0.7038\n",
      "Epoch 3/45\n",
      "14/14 - 0s - loss: 1.0940 - acc: 0.7472\n",
      "Epoch 4/45\n",
      "14/14 - 0s - loss: 1.2241 - acc: 0.7489\n",
      "Epoch 5/45\n",
      "14/14 - 0s - loss: 1.0060 - acc: 0.7527\n",
      "Epoch 6/45\n",
      "14/14 - 0s - loss: 0.9391 - acc: 0.7721\n",
      "Epoch 7/45\n",
      "14/14 - 0s - loss: 0.5769 - acc: 0.8426\n",
      "Epoch 8/45\n",
      "14/14 - 0s - loss: 1.0121 - acc: 0.7918\n",
      "Epoch 9/45\n",
      "14/14 - 0s - loss: 0.6548 - acc: 0.8323\n",
      "Epoch 10/45\n",
      "14/14 - 0s - loss: 0.8266 - acc: 0.7867\n",
      "Epoch 11/45\n",
      "14/14 - 0s - loss: 0.7493 - acc: 0.7788\n",
      "Epoch 12/45\n",
      "14/14 - 0s - loss: 0.5344 - acc: 0.8126\n",
      "Epoch 13/45\n",
      "14/14 - 0s - loss: 0.4555 - acc: 0.8660\n",
      "Epoch 14/45\n",
      "14/14 - 0s - loss: 0.6481 - acc: 0.8313\n",
      "Epoch 15/45\n",
      "14/14 - 0s - loss: 0.4357 - acc: 0.8763\n",
      "Epoch 16/45\n",
      "14/14 - 0s - loss: 0.5782 - acc: 0.8521\n",
      "Epoch 17/45\n",
      "14/14 - 0s - loss: 0.5767 - acc: 0.8397\n",
      "Epoch 18/45\n",
      "14/14 - 0s - loss: 0.4841 - acc: 0.8689\n",
      "Epoch 19/45\n",
      "14/14 - 0s - loss: 0.4080 - acc: 0.8775\n",
      "Epoch 20/45\n",
      "14/14 - 0s - loss: 0.3468 - acc: 0.9142\n",
      "Epoch 21/45\n",
      "14/14 - 0s - loss: 0.5806 - acc: 0.8358\n",
      "Epoch 22/45\n",
      "14/14 - 0s - loss: 0.4803 - acc: 0.8382\n",
      "Epoch 23/45\n",
      "14/14 - 0s - loss: 0.3815 - acc: 0.8601\n",
      "Epoch 24/45\n",
      "14/14 - 0s - loss: 0.4110 - acc: 0.8579\n",
      "Epoch 25/45\n",
      "14/14 - 0s - loss: 0.3001 - acc: 0.8821\n",
      "Epoch 26/45\n",
      "14/14 - 0s - loss: 0.3172 - acc: 0.8982\n",
      "Epoch 27/45\n",
      "14/14 - 0s - loss: 0.3729 - acc: 0.8819\n",
      "Epoch 28/45\n",
      "14/14 - 0s - loss: 0.3691 - acc: 0.8704\n",
      "Epoch 29/45\n",
      "14/14 - 0s - loss: 0.2454 - acc: 0.9015\n",
      "Epoch 30/45\n",
      "14/14 - 0s - loss: 0.3091 - acc: 0.8807\n",
      "Epoch 31/45\n",
      "14/14 - 0s - loss: 0.3031 - acc: 0.8936\n",
      "Epoch 32/45\n",
      "14/14 - 0s - loss: 0.3280 - acc: 0.8747\n",
      "Epoch 33/45\n",
      "14/14 - 0s - loss: 0.2862 - acc: 0.8907\n",
      "Epoch 34/45\n",
      "14/14 - 0s - loss: 0.2941 - acc: 0.8910\n",
      "Epoch 35/45\n",
      "14/14 - 0s - loss: 0.3311 - acc: 0.8855\n",
      "Epoch 36/45\n",
      "14/14 - 0s - loss: 0.2215 - acc: 0.9097\n",
      "Epoch 37/45\n",
      "14/14 - 0s - loss: 0.2615 - acc: 0.8914\n",
      "Epoch 38/45\n",
      "14/14 - 0s - loss: 0.2250 - acc: 0.9075\n",
      "Epoch 39/45\n",
      "14/14 - 0s - loss: 0.2516 - acc: 0.8958\n",
      "Epoch 40/45\n",
      "14/14 - 0s - loss: 0.2553 - acc: 0.9008\n",
      "Epoch 41/45\n",
      "14/14 - 0s - loss: 0.2892 - acc: 0.8900\n",
      "Epoch 42/45\n",
      "14/14 - 0s - loss: 0.2304 - acc: 0.9034\n",
      "Epoch 43/45\n",
      "14/14 - 0s - loss: 0.2046 - acc: 0.9190\n",
      "Epoch 44/45\n",
      "14/14 - 0s - loss: 0.2372 - acc: 0.9113\n",
      "Epoch 45/45\n",
      "14/14 - 0s - loss: 0.2723 - acc: 0.8986\n",
      "4/4 - 0s - loss: 0.5385 - acc: 0.7996\n",
      "Epoch 1/45\n",
      "14/14 - 0s - loss: 3.2604 - acc: 0.5972\n",
      "Epoch 2/45\n",
      "14/14 - 0s - loss: 1.4941 - acc: 0.6619\n",
      "Epoch 3/45\n",
      "14/14 - 0s - loss: 1.5911 - acc: 0.6918\n",
      "Epoch 4/45\n",
      "14/14 - 0s - loss: 0.8410 - acc: 0.7975\n",
      "Epoch 5/45\n",
      "14/14 - 0s - loss: 1.4910 - acc: 0.7175\n",
      "Epoch 6/45\n",
      "14/14 - 0s - loss: 1.0183 - acc: 0.7592\n",
      "Epoch 7/45\n",
      "14/14 - 0s - loss: 1.0979 - acc: 0.7690\n",
      "Epoch 8/45\n",
      "14/14 - 0s - loss: 0.7023 - acc: 0.8083\n",
      "Epoch 9/45\n",
      "14/14 - 0s - loss: 0.6958 - acc: 0.7987\n",
      "Epoch 10/45\n",
      "14/14 - 0s - loss: 0.9508 - acc: 0.7606\n",
      "Epoch 11/45\n",
      "14/14 - 0s - loss: 0.5166 - acc: 0.8555\n",
      "Epoch 12/45\n",
      "14/14 - 0s - loss: 0.7478 - acc: 0.8143\n",
      "Epoch 13/45\n",
      "14/14 - 0s - loss: 0.7304 - acc: 0.8327\n",
      "Epoch 14/45\n",
      "14/14 - 0s - loss: 0.5983 - acc: 0.8358\n",
      "Epoch 15/45\n",
      "14/14 - 0s - loss: 0.6343 - acc: 0.8289\n",
      "Epoch 16/45\n",
      "14/14 - 0s - loss: 0.6357 - acc: 0.8224\n",
      "Epoch 17/45\n",
      "14/14 - 0s - loss: 0.5372 - acc: 0.8581\n",
      "Epoch 18/45\n",
      "14/14 - 0s - loss: 0.5960 - acc: 0.8531\n",
      "Epoch 19/45\n",
      "14/14 - 0s - loss: 0.5889 - acc: 0.8684\n",
      "Epoch 20/45\n",
      "14/14 - 0s - loss: 0.5611 - acc: 0.8680\n",
      "Epoch 21/45\n",
      "14/14 - 0s - loss: 0.5585 - acc: 0.8347\n",
      "Epoch 22/45\n"
     ]
    },
    {
     "name": "stdout",
     "output_type": "stream",
     "text": [
      "14/14 - 0s - loss: 0.4565 - acc: 0.8524\n",
      "Epoch 23/45\n",
      "14/14 - 0s - loss: 0.4528 - acc: 0.8553\n",
      "Epoch 24/45\n",
      "14/14 - 0s - loss: 0.4171 - acc: 0.8855\n",
      "Epoch 25/45\n",
      "14/14 - 0s - loss: 0.5173 - acc: 0.8373\n",
      "Epoch 26/45\n",
      "14/14 - 0s - loss: 0.3400 - acc: 0.8922\n",
      "Epoch 27/45\n",
      "14/14 - 0s - loss: 0.4097 - acc: 0.8792\n",
      "Epoch 28/45\n",
      "14/14 - 0s - loss: 0.4588 - acc: 0.8725\n",
      "Epoch 29/45\n",
      "14/14 - 0s - loss: 0.4329 - acc: 0.8622\n",
      "Epoch 30/45\n",
      "14/14 - 0s - loss: 0.2958 - acc: 0.8943\n",
      "Epoch 31/45\n",
      "14/14 - 0s - loss: 0.3945 - acc: 0.8787\n",
      "Epoch 32/45\n",
      "14/14 - 0s - loss: 0.3941 - acc: 0.8756\n",
      "Epoch 33/45\n",
      "14/14 - 0s - loss: 0.3898 - acc: 0.8795\n",
      "Epoch 34/45\n",
      "14/14 - 0s - loss: 0.3850 - acc: 0.8684\n",
      "Epoch 35/45\n",
      "14/14 - 0s - loss: 0.2919 - acc: 0.8965\n",
      "Epoch 36/45\n",
      "14/14 - 0s - loss: 0.3712 - acc: 0.8953\n",
      "Epoch 37/45\n",
      "14/14 - 0s - loss: 0.3522 - acc: 0.8744\n",
      "Epoch 38/45\n",
      "14/14 - 0s - loss: 0.1424 - acc: 0.9451\n",
      "Epoch 39/45\n",
      "14/14 - 0s - loss: 0.3971 - acc: 0.8948\n",
      "Epoch 40/45\n",
      "14/14 - 0s - loss: 0.2834 - acc: 0.9152\n",
      "Epoch 41/45\n",
      "14/14 - 0s - loss: 0.3341 - acc: 0.8828\n",
      "Epoch 42/45\n",
      "14/14 - 0s - loss: 0.3734 - acc: 0.9010\n",
      "Epoch 43/45\n",
      "14/14 - 0s - loss: 0.1529 - acc: 0.9401\n",
      "Epoch 44/45\n",
      "14/14 - 0s - loss: 0.3597 - acc: 0.8965\n",
      "Epoch 45/45\n",
      "14/14 - 0s - loss: 0.3446 - acc: 0.8900\n",
      "4/4 - 0s - loss: 0.3493 - acc: 0.8744\n",
      "Epoch 1/45\n",
      "14/14 - 0s - loss: 1.8481 - acc: 0.6382\n",
      "Epoch 2/45\n",
      "14/14 - 0s - loss: 0.7191 - acc: 0.7410\n",
      "Epoch 3/45\n",
      "14/14 - 0s - loss: 0.6877 - acc: 0.7410\n",
      "Epoch 4/45\n",
      "14/14 - 0s - loss: 0.6948 - acc: 0.7031\n",
      "Epoch 5/45\n",
      "14/14 - 0s - loss: 0.6813 - acc: 0.7410\n",
      "Epoch 6/45\n",
      "14/14 - 0s - loss: 0.6781 - acc: 0.7410\n",
      "Epoch 7/45\n",
      "14/14 - 0s - loss: 0.6751 - acc: 0.7410\n",
      "Epoch 8/45\n",
      "14/14 - 0s - loss: 0.6721 - acc: 0.7410\n",
      "Epoch 9/45\n",
      "14/14 - 0s - loss: 0.6692 - acc: 0.7410\n",
      "Epoch 10/45\n",
      "14/14 - 0s - loss: 0.6662 - acc: 0.7410\n",
      "Epoch 11/45\n",
      "14/14 - 0s - loss: 0.6633 - acc: 0.7410\n",
      "Epoch 12/45\n",
      "14/14 - 0s - loss: 0.6605 - acc: 0.7410\n",
      "Epoch 13/45\n",
      "14/14 - 0s - loss: 0.6577 - acc: 0.7410\n",
      "Epoch 14/45\n",
      "14/14 - 0s - loss: 0.6551 - acc: 0.7410\n",
      "Epoch 15/45\n",
      "14/14 - 0s - loss: 0.6524 - acc: 0.7410\n",
      "Epoch 16/45\n",
      "14/14 - 0s - loss: 0.6497 - acc: 0.7410\n",
      "Epoch 17/45\n",
      "14/14 - 0s - loss: 0.6473 - acc: 0.7410\n",
      "Epoch 18/45\n",
      "14/14 - 0s - loss: 0.6447 - acc: 0.7410\n",
      "Epoch 19/45\n",
      "14/14 - 0s - loss: 0.6423 - acc: 0.7410\n",
      "Epoch 20/45\n",
      "14/14 - 0s - loss: 0.6398 - acc: 0.7410\n",
      "Epoch 21/45\n",
      "14/14 - 0s - loss: 0.6377 - acc: 0.7410\n",
      "Epoch 22/45\n",
      "14/14 - 0s - loss: 0.6353 - acc: 0.7410\n",
      "Epoch 23/45\n",
      "14/14 - 0s - loss: 0.6331 - acc: 0.7410\n",
      "Epoch 24/45\n",
      "14/14 - 0s - loss: 0.6311 - acc: 0.7410\n",
      "Epoch 25/45\n",
      "14/14 - 0s - loss: 0.6289 - acc: 0.7410\n",
      "Epoch 26/45\n",
      "14/14 - 0s - loss: 0.6268 - acc: 0.7410\n",
      "Epoch 27/45\n",
      "14/14 - 0s - loss: 0.6246 - acc: 0.7410\n",
      "Epoch 28/45\n",
      "14/14 - 0s - loss: 0.6225 - acc: 0.7410\n",
      "Epoch 29/45\n",
      "14/14 - 0s - loss: 0.6206 - acc: 0.7410\n",
      "Epoch 30/45\n",
      "14/14 - 0s - loss: 0.6185 - acc: 0.7410\n",
      "Epoch 31/45\n",
      "14/14 - 0s - loss: 0.6166 - acc: 0.7410\n",
      "Epoch 32/45\n",
      "14/14 - 0s - loss: 0.6147 - acc: 0.7410\n",
      "Epoch 33/45\n",
      "14/14 - 0s - loss: 0.6129 - acc: 0.7410\n",
      "Epoch 34/45\n",
      "14/14 - 0s - loss: 0.6110 - acc: 0.7410\n",
      "Epoch 35/45\n",
      "14/14 - 0s - loss: 0.6093 - acc: 0.7410\n",
      "Epoch 36/45\n",
      "14/14 - 0s - loss: 0.6076 - acc: 0.7410\n",
      "Epoch 37/45\n",
      "14/14 - 0s - loss: 0.6059 - acc: 0.7410\n",
      "Epoch 38/45\n",
      "14/14 - 0s - loss: 0.6043 - acc: 0.7410\n",
      "Epoch 39/45\n",
      "14/14 - 0s - loss: 0.6029 - acc: 0.7410\n",
      "Epoch 40/45\n",
      "14/14 - 0s - loss: 0.6013 - acc: 0.7410\n",
      "Epoch 41/45\n",
      "14/14 - 0s - loss: 0.5998 - acc: 0.7410\n",
      "Epoch 42/45\n",
      "14/14 - 0s - loss: 0.5984 - acc: 0.7410\n",
      "Epoch 43/45\n",
      "14/14 - 0s - loss: 0.5969 - acc: 0.7410\n",
      "Epoch 44/45\n",
      "14/14 - 0s - loss: 0.5956 - acc: 0.7410\n",
      "Epoch 45/45\n",
      "14/14 - 0s - loss: 0.5942 - acc: 0.7410\n",
      "4/4 - 0s - loss: 0.5877 - acc: 0.7507\n"
     ]
    }
   ],
   "source": [
    "keras_model = scikit_learn.KerasClassifier(build_model,\n",
    "                                          epochs=45,\n",
    "                                          batch_size=320,\n",
    "                                          verbose=2)\n",
    "validation_scores = cross_val_score(keras_model, X_train_final, y_train)"
   ]
  },
  {
   "cell_type": "code",
   "execution_count": 20,
   "metadata": {},
   "outputs": [
    {
     "data": {
      "text/plain": [
       "0.8686553001403808"
      ]
     },
     "execution_count": 20,
     "metadata": {},
     "output_type": "execute_result"
    }
   ],
   "source": [
    "validation_scores.mean()"
   ]
  },
  {
   "cell_type": "markdown",
   "metadata": {},
   "source": [
    "### Convolutional Network:"
   ]
  },
  {
   "cell_type": "code",
   "execution_count": null,
   "metadata": {},
   "outputs": [],
   "source": []
  }
 ],
 "metadata": {
  "kernelspec": {
   "display_name": "Python 3",
   "language": "python",
   "name": "python3"
  },
  "language_info": {
   "codemirror_mode": {
    "name": "ipython",
    "version": 3
   },
   "file_extension": ".py",
   "mimetype": "text/x-python",
   "name": "python",
   "nbconvert_exporter": "python",
   "pygments_lexer": "ipython3",
   "version": "3.8.5"
  }
 },
 "nbformat": 4,
 "nbformat_minor": 4
}
