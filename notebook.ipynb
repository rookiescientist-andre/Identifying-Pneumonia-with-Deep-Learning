{
 "cells": [
  {
   "cell_type": "markdown",
   "metadata": {},
   "source": [
    "# Identifying Pneumonia with Deep Learning\n",
    "***\n",
    "Author: Andre Layton\n",
    "***"
   ]
  },
  {
   "cell_type": "markdown",
   "metadata": {},
   "source": [
    "# Overview\n",
    "......."
   ]
  },
  {
   "cell_type": "markdown",
   "metadata": {},
   "source": [
    "# Business Problem\n",
    "........"
   ]
  },
  {
   "cell_type": "markdown",
   "metadata": {},
   "source": [
    "***\n",
    "<img src=\"https://media.licdn.com/dms/image/D4D12AQEqfniioS4KVQ/article-cover_image-shrink_720_1280/0/1677311223167?e=2147483647&v=beta&t=loMCjRjjqYyKI72mjdbVk5_XbxRdzonIKz0qRn-BcXo\" style=\"height:500px; width:875px\" />"
   ]
  },
  {
   "cell_type": "markdown",
   "metadata": {},
   "source": [
    "## Data Understanding"
   ]
  },
  {
   "cell_type": "code",
   "execution_count": 1,
   "metadata": {},
   "outputs": [],
   "source": [
    "# Import all the necessary libraries\n",
    "from sklearn.model_selection import cross_val_score, KFold\n",
    "from sklearn.metrics import accuracy_score, confusion_matrix\n",
    "import numpy as np\n",
    "import pandas as pd\n",
    "import seaborn as sns\n",
    "import matplotlib.pyplot as plt\n",
    "%matplotlib inline\n",
    "\n",
    "from tensorflow.keras.utils import get_file\n",
    "from tensorflow.keras.preprocessing.image import ImageDataGenerator, array_to_img\n",
    "from tensorflow.keras.models import Sequential, load_model\n",
    "from tensorflow.keras.layers import Dense, Conv2D, MaxPooling2D, Flatten\n",
    "from tensorflow.keras.wrappers import scikit_learn\n",
    "from tensorflow.keras.callbacks import EarlyStopping, ModelCheckpoint\n",
    "from tensorflow.keras import regularizers, optimizers\n",
    "from keras.applications import ResNet50\n",
    "import os, shutil, random\n",
    "\n",
    "# Create a seed for reproducibility\n",
    "seed=24"
   ]
  },
  {
   "cell_type": "code",
   "execution_count": 2,
   "metadata": {},
   "outputs": [],
   "source": [
    "# Create directory path objects to begin viewing the data\n",
    "train_pneu = 'data/chest_xray/train/PNEUMONIA'\n",
    "train_normal = 'data/chest_xray/train/NORMAL'\n",
    "\n",
    "val_pneu = 'data/chest_xray/val/PNEUMONIA'\n",
    "val_normal = 'data/chest_xray/val/NORMAL'\n",
    "\n",
    "test_pneu = 'data/chest_xray/test/PNEUMONIA'\n",
    "test_normal = 'data/chest_xray/test/NORMAL'"
   ]
  },
  {
   "cell_type": "code",
   "execution_count": 3,
   "metadata": {},
   "outputs": [
    {
     "name": "stdout",
     "output_type": "stream",
     "text": [
      "There are 3875 PNEUMONIA X-rays in the training set\n",
      "There are 1341 NORMAL X-rays in the train set\n",
      "\n",
      "\n",
      "There are 8 PNEUMONIA X-rays in the validation set\n",
      "There are 8 NORMAL X-rays in the validation set\n",
      "\n",
      "\n",
      "There are 390 PNEUMONIA X-rays in the test set\n",
      "There are 234 NORMAL X-rays in the test set\n"
     ]
    }
   ],
   "source": [
    "# Count the amount of data in each directory's sub-directories\n",
    "print('There are', len(os.listdir(train_pneu)), 'PNEUMONIA X-rays in the training set')\n",
    "print('There are', len(os.listdir(train_normal)), 'NORMAL X-rays in the train set')\n",
    "print('\\n')\n",
    "print('There are', len(os.listdir(val_pneu)), 'PNEUMONIA X-rays in the validation set')\n",
    "print('There are', len(os.listdir(val_normal)), 'NORMAL X-rays in the validation set')\n",
    "print('\\n')\n",
    "print('There are', len(os.listdir(test_pneu)), 'PNEUMONIA X-rays in the test set')\n",
    "print('There are', len(os.listdir(test_normal)), 'NORMAL X-rays in the test set')"
   ]
  },
  {
   "cell_type": "code",
   "execution_count": 4,
   "metadata": {
    "scrolled": true
   },
   "outputs": [
    {
     "name": "stdout",
     "output_type": "stream",
     "text": [
      "There are 9 PNEUMONIA X-rays in the validation set\n",
      "There are 10 PNEUMONIA X-rays in the validation set\n",
      "There are 11 PNEUMONIA X-rays in the validation set\n",
      "There are 12 PNEUMONIA X-rays in the validation set\n",
      "There are 13 PNEUMONIA X-rays in the validation set\n",
      "There are 14 PNEUMONIA X-rays in the validation set\n",
      "There are 15 PNEUMONIA X-rays in the validation set\n",
      "There are 16 PNEUMONIA X-rays in the validation set\n",
      "There are 17 PNEUMONIA X-rays in the validation set\n",
      "There are 18 PNEUMONIA X-rays in the validation set\n",
      "There are 19 PNEUMONIA X-rays in the validation set\n",
      "There are 20 PNEUMONIA X-rays in the validation set\n",
      "There are 21 PNEUMONIA X-rays in the validation set\n",
      "There are 22 PNEUMONIA X-rays in the validation set\n",
      "There are 23 PNEUMONIA X-rays in the validation set\n",
      "There are 24 PNEUMONIA X-rays in the validation set\n",
      "There are 25 PNEUMONIA X-rays in the validation set\n",
      "There are 26 PNEUMONIA X-rays in the validation set\n",
      "There are 27 PNEUMONIA X-rays in the validation set\n",
      "There are 28 PNEUMONIA X-rays in the validation set\n",
      "There are 29 PNEUMONIA X-rays in the validation set\n",
      "There are 30 PNEUMONIA X-rays in the validation set\n",
      "There are 31 PNEUMONIA X-rays in the validation set\n",
      "There are 32 PNEUMONIA X-rays in the validation set\n",
      "There are 33 PNEUMONIA X-rays in the validation set\n",
      "There are 34 PNEUMONIA X-rays in the validation set\n",
      "There are 35 PNEUMONIA X-rays in the validation set\n",
      "There are 36 PNEUMONIA X-rays in the validation set\n",
      "There are 37 PNEUMONIA X-rays in the validation set\n",
      "There are 38 PNEUMONIA X-rays in the validation set\n",
      "There are 39 PNEUMONIA X-rays in the validation set\n",
      "There are 40 PNEUMONIA X-rays in the validation set\n",
      "There are 41 PNEUMONIA X-rays in the validation set\n",
      "There are 42 PNEUMONIA X-rays in the validation set\n",
      "There are 43 PNEUMONIA X-rays in the validation set\n",
      "There are 44 PNEUMONIA X-rays in the validation set\n",
      "There are 45 PNEUMONIA X-rays in the validation set\n",
      "There are 46 PNEUMONIA X-rays in the validation set\n",
      "There are 47 PNEUMONIA X-rays in the validation set\n",
      "There are 48 PNEUMONIA X-rays in the validation set\n",
      "There are 49 PNEUMONIA X-rays in the validation set\n",
      "There are 50 PNEUMONIA X-rays in the validation set\n",
      "There are 51 PNEUMONIA X-rays in the validation set\n",
      "There are 52 PNEUMONIA X-rays in the validation set\n",
      "There are 53 PNEUMONIA X-rays in the validation set\n",
      "There are 54 PNEUMONIA X-rays in the validation set\n",
      "There are 55 PNEUMONIA X-rays in the validation set\n",
      "There are 56 PNEUMONIA X-rays in the validation set\n",
      "There are 57 PNEUMONIA X-rays in the validation set\n",
      "There are 58 PNEUMONIA X-rays in the validation set\n"
     ]
    }
   ],
   "source": [
    "# Move 50 images from the test data to the validation data\n",
    "source_folder = test_pneu\n",
    "destination_folder = val_pneu\n",
    "files_to_move = os.listdir(source_folder)\n",
    "\n",
    "for file in random.sample(files_to_move, 50):\n",
    "    shutil.move(os.path.join(source_folder, file), destination_folder)\n",
    "    print('There are', len(os.listdir(destination_folder)), 'PNEUMONIA X-rays in the validation set')"
   ]
  },
  {
   "cell_type": "code",
   "execution_count": 5,
   "metadata": {
    "scrolled": true
   },
   "outputs": [
    {
     "name": "stdout",
     "output_type": "stream",
     "text": [
      "There are 9 NORMAL X-rays in the validation set\n",
      "There are 10 NORMAL X-rays in the validation set\n",
      "There are 11 NORMAL X-rays in the validation set\n",
      "There are 12 NORMAL X-rays in the validation set\n",
      "There are 13 NORMAL X-rays in the validation set\n",
      "There are 14 NORMAL X-rays in the validation set\n",
      "There are 15 NORMAL X-rays in the validation set\n",
      "There are 16 NORMAL X-rays in the validation set\n",
      "There are 17 NORMAL X-rays in the validation set\n",
      "There are 18 NORMAL X-rays in the validation set\n",
      "There are 19 NORMAL X-rays in the validation set\n",
      "There are 20 NORMAL X-rays in the validation set\n",
      "There are 21 NORMAL X-rays in the validation set\n",
      "There are 22 NORMAL X-rays in the validation set\n",
      "There are 23 NORMAL X-rays in the validation set\n",
      "There are 24 NORMAL X-rays in the validation set\n",
      "There are 25 NORMAL X-rays in the validation set\n",
      "There are 26 NORMAL X-rays in the validation set\n",
      "There are 27 NORMAL X-rays in the validation set\n",
      "There are 28 NORMAL X-rays in the validation set\n",
      "There are 29 NORMAL X-rays in the validation set\n",
      "There are 30 NORMAL X-rays in the validation set\n",
      "There are 31 NORMAL X-rays in the validation set\n",
      "There are 32 NORMAL X-rays in the validation set\n",
      "There are 33 NORMAL X-rays in the validation set\n",
      "There are 34 NORMAL X-rays in the validation set\n",
      "There are 35 NORMAL X-rays in the validation set\n",
      "There are 36 NORMAL X-rays in the validation set\n",
      "There are 37 NORMAL X-rays in the validation set\n",
      "There are 38 NORMAL X-rays in the validation set\n",
      "There are 39 NORMAL X-rays in the validation set\n",
      "There are 40 NORMAL X-rays in the validation set\n",
      "There are 41 NORMAL X-rays in the validation set\n",
      "There are 42 NORMAL X-rays in the validation set\n",
      "There are 43 NORMAL X-rays in the validation set\n",
      "There are 44 NORMAL X-rays in the validation set\n",
      "There are 45 NORMAL X-rays in the validation set\n",
      "There are 46 NORMAL X-rays in the validation set\n",
      "There are 47 NORMAL X-rays in the validation set\n",
      "There are 48 NORMAL X-rays in the validation set\n",
      "There are 49 NORMAL X-rays in the validation set\n",
      "There are 50 NORMAL X-rays in the validation set\n",
      "There are 51 NORMAL X-rays in the validation set\n",
      "There are 52 NORMAL X-rays in the validation set\n",
      "There are 53 NORMAL X-rays in the validation set\n",
      "There are 54 NORMAL X-rays in the validation set\n",
      "There are 55 NORMAL X-rays in the validation set\n",
      "There are 56 NORMAL X-rays in the validation set\n",
      "There are 57 NORMAL X-rays in the validation set\n",
      "There are 58 NORMAL X-rays in the validation set\n"
     ]
    }
   ],
   "source": [
    "# Move another 50 images from the other sub-directory to the appropriate folder\n",
    "source_folder2 = test_normal\n",
    "destination_folder2 = val_normal\n",
    "files_to_move2 = os.listdir(source_folder2)\n",
    "\n",
    "for file in random.sample(files_to_move2, 50):\n",
    "    shutil.move(os.path.join(source_folder2, file), destination_folder2)\n",
    "    print('There are', len(os.listdir(destination_folder2)), 'NORMAL X-rays in the validation set')"
   ]
  },
  {
   "cell_type": "code",
   "execution_count": 6,
   "metadata": {},
   "outputs": [
    {
     "name": "stdout",
     "output_type": "stream",
     "text": [
      "Found 5216 images belonging to 2 classes.\n",
      "Found 524 images belonging to 2 classes.\n",
      "Found 116 images belonging to 2 classes.\n"
     ]
    }
   ],
   "source": [
    "# Create directory path objects\n",
    "train_data_dir = 'data/chest_xray/train'\n",
    "test_data_dir = 'data/chest_xray/test'\n",
    "validation_dir = 'data/chest_xray/val'\n",
    "\n",
    "# Gather and reshape the data in each directory object\n",
    "train_generator = ImageDataGenerator().flow_from_directory(train_data_dir, target_size=(64, 64), batch_size=5216,\n",
    "                                                           seed=seed)\n",
    "test_generator = ImageDataGenerator().flow_from_directory(test_data_dir, target_size=(64, 64), batch_size=524,\n",
    "                                                           seed=seed)\n",
    "val_generator = ImageDataGenerator().flow_from_directory(validation_dir, target_size=(64, 64), batch_size=116,\n",
    "                                                           seed=seed)\n",
    "\n",
    "# Create the datasets\n",
    "train_images, train_labels = next(train_generator)\n",
    "test_images, test_labels = next(test_generator)\n",
    "val_images, val_labels = next(val_generator)"
   ]
  },
  {
   "cell_type": "code",
   "execution_count": 7,
   "metadata": {},
   "outputs": [
    {
     "data": {
      "image/png": "[encoded data removed]",
      "text/plain": [
       "<Figure size 432x288 with 1 Axes>"
      ]
     },
     "metadata": {
      "needs_background": "light"
     },
     "output_type": "display_data"
    },
    {
     "data": {
      "image/png": "[encoded data removed]",
      "text/plain": [
       "<Figure size 432x288 with 1 Axes>"
      ]
     },
     "metadata": {
      "needs_background": "light"
     },
     "output_type": "display_data"
    }
   ],
   "source": [
    "# Plot some images\n",
    "plt.imshow(train_images[17]/255)\n",
    "plt.show()\n",
    "\n",
    "plt.imshow(train_images[4200]/255)\n",
    "plt.show()"
   ]
  },
  {
   "cell_type": "code",
   "execution_count": 8,
   "metadata": {},
   "outputs": [
    {
     "name": "stdout",
     "output_type": "stream",
     "text": [
      "Train Data Shape:\n",
      "(5216, 64, 64, 3)\n",
      "(5216, 2)\n",
      "\n",
      "Test Data Shape:\n",
      "(524, 64, 64, 3)\n",
      "(524, 2)\n",
      "\n",
      "Validation Data Shape:\n",
      "(116, 64, 64, 3)\n",
      "(116, 2)\n"
     ]
    }
   ],
   "source": [
    "# Preview the shape of the data\n",
    "print(\"Train Data Shape:\")\n",
    "print(np.shape(train_images))\n",
    "print(np.shape(train_labels))\n",
    "print(\"\\nTest Data Shape:\")\n",
    "print(np.shape(test_images))\n",
    "print(np.shape(test_labels))\n",
    "print(\"\\nValidation Data Shape:\")\n",
    "print(np.shape(val_images))\n",
    "print(np.shape(val_labels))"
   ]
  },
  {
   "cell_type": "code",
   "execution_count": 9,
   "metadata": {},
   "outputs": [
    {
     "data": {
      "text/plain": [
       "{'NORMAL': 0, 'PNEUMONIA': 1}"
      ]
     },
     "execution_count": 9,
     "metadata": {},
     "output_type": "execute_result"
    }
   ],
   "source": [
    "# List the classes\n",
    "train_generator.class_indices"
   ]
  },
  {
   "cell_type": "code",
   "execution_count": 10,
   "metadata": {},
   "outputs": [
    {
     "name": "stdout",
     "output_type": "stream",
     "text": [
      "(1, 5216)\n",
      "(1, 524)\n",
      "(1, 116)\n"
     ]
    }
   ],
   "source": [
    "# Reshape the labels\n",
    "y_train_labels = train_labels.T[[1]]\n",
    "y_test_labels = test_labels.T[[1]]\n",
    "y_val_labels = val_labels.T[[1]]\n",
    "\n",
    "# Check the shape of the transformed labels \n",
    "print(np.shape(y_train_labels))\n",
    "print(np.shape(y_test_labels))\n",
    "print(np.shape(y_val_labels))"
   ]
  },
  {
   "cell_type": "code",
   "execution_count": 11,
   "metadata": {},
   "outputs": [
    {
     "data": {
      "image/png": "[encoded data removed]",
      "text/plain": [
       "<Figure size 432x288 with 1 Axes>"
      ]
     },
     "metadata": {
      "needs_background": "light"
     },
     "output_type": "display_data"
    },
    {
     "name": "stdout",
     "output_type": "stream",
     "text": [
      "[0.]\n"
     ]
    }
   ],
   "source": [
    "# Confirm that the image matches with its corresponding label\n",
    "plt.imshow(train_images[1400]/255)\n",
    "plt.show()\n",
    "print(y_train_labels[:, 1400])"
   ]
  },
  {
   "cell_type": "code",
   "execution_count": 12,
   "metadata": {},
   "outputs": [
    {
     "data": {
      "image/png": "[encoded data removed]",
      "text/plain": [
       "<Figure size 432x288 with 1 Axes>"
      ]
     },
     "metadata": {
      "needs_background": "light"
     },
     "output_type": "display_data"
    },
    {
     "name": "stdout",
     "output_type": "stream",
     "text": [
      "[1.]\n"
     ]
    }
   ],
   "source": [
    "# Confirm that the image matches with its corresponding label\n",
    "plt.imshow(train_images[14]/255)\n",
    "plt.show()\n",
    "print(y_train_labels[:, 14])"
   ]
  },
  {
   "cell_type": "markdown",
   "metadata": {},
   "source": [
    "## Modeling\n",
    "\n",
    "### Baseline Model:"
   ]
  },
  {
   "cell_type": "code",
   "execution_count": 13,
   "metadata": {},
   "outputs": [
    {
     "name": "stdout",
     "output_type": "stream",
     "text": [
      "(5216, 12288)\n",
      "(524, 12288)\n",
      "(116, 12288)\n"
     ]
    }
   ],
   "source": [
    "# Reshape the train, test, and validation images for modeling\n",
    "X_train = train_images.reshape(5216, -1)\n",
    "X_test = test_images.reshape(524, -1)\n",
    "X_val = val_images.reshape(116, -1)\n",
    "\n",
    "# Preview the shape of each newly-formed objects\n",
    "print(np.shape(X_train))\n",
    "print(np.shape(X_test))\n",
    "print(np.shape(X_val))"
   ]
  },
  {
   "cell_type": "code",
   "execution_count": 14,
   "metadata": {},
   "outputs": [],
   "source": [
    "# Standardize the datasets\n",
    "X_train_final = X_train/255\n",
    "X_test_final = X_test/255\n",
    "X_val_final = X_val/255"
   ]
  },
  {
   "cell_type": "code",
   "execution_count": 15,
   "metadata": {},
   "outputs": [
    {
     "name": "stdout",
     "output_type": "stream",
     "text": [
      "(5216, 1)\n",
      "(524, 1)\n",
      "(116, 1)\n"
     ]
    }
   ],
   "source": [
    "# Reshape the labels for modeling\n",
    "y_train = np.reshape(train_labels[:, 0], (5216, 1))\n",
    "y_test = np.reshape(test_labels[:, 0], (524, 1))\n",
    "y_val = np.reshape(val_labels[:, 0], (116, 1))\n",
    "\n",
    "# Check the shape of the transformed labels \n",
    "print(np.shape(y_train))\n",
    "print(np.shape(y_test))\n",
    "print(np.shape(y_val))"
   ]
  },
  {
   "cell_type": "code",
   "execution_count": 16,
   "metadata": {},
   "outputs": [],
   "source": [
    "# Create a dense baseline neural network\n",
    "baseline_model = Sequential()\n",
    "baseline_model.add(Dense(32, activation='relu', input_shape=(12288, )))\n",
    "baseline_model.add(Dense(8, activation='relu'))\n",
    "baseline_model.add(Dense(1, activation='sigmoid'))"
   ]
  },
  {
   "cell_type": "code",
   "execution_count": 17,
   "metadata": {},
   "outputs": [
    {
     "name": "stdout",
     "output_type": "stream",
     "text": [
      "Model: \"sequential\"\n",
      "_________________________________________________________________\n",
      "Layer (type)                 Output Shape              Param #   \n",
      "=================================================================\n",
      "dense (Dense)                (None, 32)                393248    \n",
      "_________________________________________________________________\n",
      "dense_1 (Dense)              (None, 8)                 264       \n",
      "_________________________________________________________________\n",
      "dense_2 (Dense)              (None, 1)                 9         \n",
      "=================================================================\n",
      "Total params: 393,521\n",
      "Trainable params: 393,521\n",
      "Non-trainable params: 0\n",
      "_________________________________________________________________\n"
     ]
    }
   ],
   "source": [
    "# Compile the baseline model\n",
    "baseline_model.compile(loss='binary_crossentropy', optimizer='RMSprop', metrics=['acc'])\n",
    "\n",
    "# List a summary of the baseline model\n",
    "baseline_model.summary()"
   ]
  },
  {
   "cell_type": "code",
   "execution_count": 18,
   "metadata": {
    "scrolled": true
   },
   "outputs": [
    {
     "name": "stdout",
     "output_type": "stream",
     "text": [
      "Epoch 1/50\n",
      "82/82 [==============================] - 1s 13ms/step - loss: 0.6334 - acc: 0.7809 - val_loss: 0.5459 - val_acc: 0.7414\n",
      "Epoch 2/50\n",
      "82/82 [==============================] - 1s 10ms/step - loss: 0.3736 - acc: 0.8572 - val_loss: 0.5067 - val_acc: 0.7931\n",
      "Epoch 3/50\n",
      "82/82 [==============================] - 1s 10ms/step - loss: 0.3271 - acc: 0.8769 - val_loss: 1.0291 - val_acc: 0.5517\n",
      "Epoch 4/50\n",
      "82/82 [==============================] - 1s 9ms/step - loss: 0.2995 - acc: 0.8963 - val_loss: 0.8023 - val_acc: 0.6552\n",
      "Epoch 5/50\n",
      "82/82 [==============================] - 1s 9ms/step - loss: 0.2757 - acc: 0.9068 - val_loss: 0.6003 - val_acc: 0.7328\n",
      "Epoch 6/50\n",
      "82/82 [==============================] - 1s 10ms/step - loss: 0.2589 - acc: 0.9145 - val_loss: 1.3224 - val_acc: 0.6034\n",
      "Epoch 7/50\n",
      "82/82 [==============================] - 1s 10ms/step - loss: 0.2474 - acc: 0.9178 - val_loss: 1.4699 - val_acc: 0.5862\n",
      "Epoch 8/50\n",
      "82/82 [==============================] - 1s 10ms/step - loss: 0.2246 - acc: 0.9300 - val_loss: 0.4414 - val_acc: 0.8103\n",
      "Epoch 9/50\n",
      "82/82 [==============================] - 1s 10ms/step - loss: 0.2108 - acc: 0.9308 - val_loss: 1.0092 - val_acc: 0.6724\n",
      "Epoch 10/50\n",
      "82/82 [==============================] - 1s 10ms/step - loss: 0.2040 - acc: 0.9337 - val_loss: 0.4940 - val_acc: 0.7931\n",
      "Epoch 11/50\n",
      "82/82 [==============================] - 1s 9ms/step - loss: 0.1945 - acc: 0.9342 - val_loss: 1.1421 - val_acc: 0.6638\n",
      "Epoch 12/50\n",
      "82/82 [==============================] - 1s 9ms/step - loss: 0.1897 - acc: 0.9354 - val_loss: 1.3236 - val_acc: 0.6207\n",
      "Epoch 13/50\n",
      "82/82 [==============================] - 1s 9ms/step - loss: 0.1758 - acc: 0.9394 - val_loss: 0.3763 - val_acc: 0.8362\n",
      "Epoch 14/50\n",
      "82/82 [==============================] - 1s 9ms/step - loss: 0.1750 - acc: 0.9404 - val_loss: 0.4722 - val_acc: 0.8017\n",
      "Epoch 15/50\n",
      "82/82 [==============================] - 1s 9ms/step - loss: 0.1714 - acc: 0.9388 - val_loss: 2.3554 - val_acc: 0.5431\n",
      "Epoch 16/50\n",
      "82/82 [==============================] - 1s 9ms/step - loss: 0.1565 - acc: 0.9461 - val_loss: 0.4928 - val_acc: 0.7845\n",
      "Epoch 17/50\n",
      "82/82 [==============================] - 1s 8ms/step - loss: 0.1642 - acc: 0.9406 - val_loss: 1.3153 - val_acc: 0.6466\n",
      "Epoch 18/50\n",
      "82/82 [==============================] - 1s 9ms/step - loss: 0.1536 - acc: 0.9440 - val_loss: 0.8310 - val_acc: 0.7155\n",
      "Epoch 19/50\n",
      "82/82 [==============================] - 1s 9ms/step - loss: 0.1503 - acc: 0.9475 - val_loss: 1.6041 - val_acc: 0.5948\n",
      "Epoch 20/50\n",
      "82/82 [==============================] - 1s 9ms/step - loss: 0.1538 - acc: 0.9450 - val_loss: 0.8471 - val_acc: 0.7069\n",
      "Epoch 21/50\n",
      "82/82 [==============================] - 1s 11ms/step - loss: 0.1428 - acc: 0.9488 - val_loss: 0.7912 - val_acc: 0.7155\n",
      "Epoch 22/50\n",
      "82/82 [==============================] - 1s 13ms/step - loss: 0.1467 - acc: 0.9459 - val_loss: 0.6688 - val_acc: 0.7328\n",
      "Epoch 23/50\n",
      "82/82 [==============================] - 1s 13ms/step - loss: 0.1460 - acc: 0.9456 - val_loss: 1.2990 - val_acc: 0.6379\n",
      "Epoch 24/50\n",
      "82/82 [==============================] - 1s 11ms/step - loss: 0.1393 - acc: 0.9496 - val_loss: 1.2108 - val_acc: 0.6466\n",
      "Epoch 25/50\n",
      "82/82 [==============================] - 1s 11ms/step - loss: 0.1435 - acc: 0.9492 - val_loss: 1.0016 - val_acc: 0.6466\n",
      "Epoch 26/50\n",
      "82/82 [==============================] - 1s 10ms/step - loss: 0.1449 - acc: 0.9444 - val_loss: 0.7514 - val_acc: 0.7155\n",
      "Epoch 27/50\n",
      "82/82 [==============================] - 1s 11ms/step - loss: 0.1377 - acc: 0.9459 - val_loss: 0.5043 - val_acc: 0.7672\n",
      "Epoch 28/50\n",
      "82/82 [==============================] - 1s 8ms/step - loss: 0.1376 - acc: 0.9477 - val_loss: 1.8478 - val_acc: 0.5862\n",
      "Epoch 29/50\n",
      "82/82 [==============================] - 1s 9ms/step - loss: 0.1314 - acc: 0.9513 - val_loss: 1.5338 - val_acc: 0.6034\n",
      "Epoch 30/50\n",
      "82/82 [==============================] - 1s 9ms/step - loss: 0.1377 - acc: 0.9473 - val_loss: 0.7384 - val_acc: 0.7241\n",
      "Epoch 31/50\n",
      "82/82 [==============================] - 1s 10ms/step - loss: 0.1315 - acc: 0.9517 - val_loss: 0.9697 - val_acc: 0.6724\n",
      "Epoch 32/50\n",
      "82/82 [==============================] - 1s 9ms/step - loss: 0.1372 - acc: 0.9517 - val_loss: 1.9319 - val_acc: 0.5862\n",
      "Epoch 33/50\n",
      "82/82 [==============================] - 1s 8ms/step - loss: 0.1308 - acc: 0.9526 - val_loss: 0.6511 - val_acc: 0.7500\n",
      "Epoch 34/50\n",
      "82/82 [==============================] - 1s 9ms/step - loss: 0.1267 - acc: 0.9534 - val_loss: 0.9504 - val_acc: 0.6724\n",
      "Epoch 35/50\n",
      "82/82 [==============================] - 1s 8ms/step - loss: 0.1325 - acc: 0.9486 - val_loss: 2.2285 - val_acc: 0.5690\n",
      "Epoch 36/50\n",
      "82/82 [==============================] - 1s 9ms/step - loss: 0.1276 - acc: 0.9540 - val_loss: 1.3130 - val_acc: 0.6293\n",
      "Epoch 37/50\n",
      "82/82 [==============================] - 1s 9ms/step - loss: 0.1298 - acc: 0.9513 - val_loss: 0.9620 - val_acc: 0.6466\n",
      "Epoch 38/50\n",
      "82/82 [==============================] - 1s 10ms/step - loss: 0.1224 - acc: 0.9551 - val_loss: 2.0727 - val_acc: 0.5862\n",
      "Epoch 39/50\n",
      "82/82 [==============================] - 1s 8ms/step - loss: 0.1255 - acc: 0.9530 - val_loss: 1.2008 - val_acc: 0.6466\n",
      "Epoch 40/50\n",
      "82/82 [==============================] - 1s 8ms/step - loss: 0.1208 - acc: 0.9538 - val_loss: 1.3031 - val_acc: 0.6379\n",
      "Epoch 41/50\n",
      "82/82 [==============================] - 1s 10ms/step - loss: 0.1158 - acc: 0.9578 - val_loss: 0.9640 - val_acc: 0.6897\n",
      "Epoch 42/50\n",
      "82/82 [==============================] - 1s 10ms/step - loss: 0.1207 - acc: 0.9580 - val_loss: 1.4996 - val_acc: 0.6207\n",
      "Epoch 43/50\n",
      "82/82 [==============================] - 1s 11ms/step - loss: 0.1224 - acc: 0.9553 - val_loss: 2.3249 - val_acc: 0.5862\n",
      "Epoch 44/50\n",
      "82/82 [==============================] - 1s 11ms/step - loss: 0.1131 - acc: 0.9601 - val_loss: 0.6767 - val_acc: 0.7586\n",
      "Epoch 45/50\n",
      "82/82 [==============================] - 1s 12ms/step - loss: 0.1187 - acc: 0.9557 - val_loss: 0.5684 - val_acc: 0.7672\n",
      "Epoch 46/50\n",
      "82/82 [==============================] - 1s 12ms/step - loss: 0.1231 - acc: 0.9528 - val_loss: 0.8278 - val_acc: 0.7155\n",
      "Epoch 47/50\n",
      "82/82 [==============================] - 1s 13ms/step - loss: 0.1154 - acc: 0.9559 - val_loss: 2.6216 - val_acc: 0.5690\n",
      "Epoch 48/50\n",
      "82/82 [==============================] - 1s 9ms/step - loss: 0.1173 - acc: 0.9584 - val_loss: 2.1141 - val_acc: 0.5862\n",
      "Epoch 49/50\n",
      "82/82 [==============================] - 1s 8ms/step - loss: 0.1175 - acc: 0.9555 - val_loss: 1.0239 - val_acc: 0.6638\n",
      "Epoch 50/50\n",
      "82/82 [==============================] - 1s 10ms/step - loss: 0.1177 - acc: 0.9549 - val_loss: 1.7090 - val_acc: 0.6034\n"
     ]
    }
   ],
   "source": [
    "# Fit the baseline model\n",
    "baseline = baseline_model.fit(X_train_final, y_train, epochs=50, batch_size=64,\n",
    "                                      validation_data=(X_val_final, y_val))"
   ]
  },
  {
   "cell_type": "code",
   "execution_count": 19,
   "metadata": {},
   "outputs": [
    {
     "name": "stdout",
     "output_type": "stream",
     "text": [
      "163/163 [==============================] - 1s 3ms/step - loss: 0.1147 - acc: 0.9525\n",
      "Training data results:\n",
      "[0.11472173035144806, 0.9524539709091187]\n",
      "\n",
      "\n",
      "4/4 [==============================] - 0s 3ms/step - loss: 1.7090 - acc: 0.6034\n",
      "Validation data results:\n",
      "[1.709012746810913, 0.6034482717514038]\n"
     ]
    }
   ],
   "source": [
    "# Evaluate the loss and accuracy scores for the training and validation datasets\n",
    "print(f'Training data results:\\n{baseline_model.evaluate(X_train_final, y_train)}')\n",
    "print('\\n')\n",
    "print(f'Validation data results:\\n{baseline_model.evaluate(X_val_final, y_val)}')"
   ]
  },
  {
   "cell_type": "code",
   "execution_count": 20,
   "metadata": {},
   "outputs": [
    {
     "data": {
      "image/png": "[encoded data removed]",
      "text/plain": [
       "<Figure size 432x288 with 1 Axes>"
      ]
     },
     "metadata": {
      "needs_background": "light"
     },
     "output_type": "display_data"
    },
    {
     "data": {
      "image/png": "[encoded data removed]",
      "text/plain": [
       "<Figure size 432x288 with 1 Axes>"
      ]
     },
     "metadata": {
      "needs_background": "light"
     },
     "output_type": "display_data"
    }
   ],
   "source": [
    "# Visualize the training results for both datasets\n",
    "def visualize_training_results(results):\n",
    "    acc = results.history['acc']\n",
    "    val_acc = results.history['val_acc']\n",
    "    loss = results.history['loss']\n",
    "    val_loss = results.history['val_loss']\n",
    "    epochs = range(len(acc))\n",
    "    \n",
    "    plt.figure()\n",
    "    plt.plot(epochs, acc, 'r', label='Training accuracy')\n",
    "    plt.plot(epochs, val_acc, 'b', label='Validation accuracy')\n",
    "    plt.title('Training and Validation Accuracy')\n",
    "    plt.xlabel('Epochs')\n",
    "    plt.ylabel('Accuracy')\n",
    "    plt.legend(loc='center left', bbox_to_anchor=(1, 0.5))\n",
    "    plt.show()\n",
    "    \n",
    "    plt.figure()\n",
    "    plt.plot(epochs, loss, 'r', label='Training loss')\n",
    "    plt.plot(epochs, val_loss, 'b', label='Validation loss')\n",
    "    plt.title('Training and Validation Loss')\n",
    "    plt.xlabel('Epochs')\n",
    "    plt.ylabel('Loss')\n",
    "    plt.legend(loc='center left', bbox_to_anchor=(1, 0.5))\n",
    "    plt.show()\n",
    "\n",
    "visualize_training_results(baseline)"
   ]
  },
  {
   "cell_type": "markdown",
   "metadata": {},
   "source": [
    "### Regularizing the Baseline Model:"
   ]
  },
  {
   "cell_type": "code",
   "execution_count": 21,
   "metadata": {
    "scrolled": true
   },
   "outputs": [
    {
     "name": "stdout",
     "output_type": "stream",
     "text": [
      "Epoch 1/50\n",
      "82/82 [==============================] - 1s 14ms/step - loss: 0.9610 - acc: 0.7053 - val_loss: 1.9344 - val_acc: 0.5000\n",
      "Epoch 2/50\n",
      "82/82 [==============================] - 1s 13ms/step - loss: 0.9494 - acc: 0.7329 - val_loss: 0.8383 - val_acc: 0.5431\n",
      "Epoch 3/50\n",
      "82/82 [==============================] - 1s 12ms/step - loss: 0.8155 - acc: 0.7674 - val_loss: 0.4645 - val_acc: 0.8103\n",
      "Epoch 4/50\n",
      "82/82 [==============================] - 1s 14ms/step - loss: 0.8800 - acc: 0.7847 - val_loss: 1.6457 - val_acc: 0.5086\n",
      "Epoch 5/50\n",
      "82/82 [==============================] - 1s 14ms/step - loss: 0.7504 - acc: 0.7897 - val_loss: 0.9071 - val_acc: 0.5000\n",
      "Epoch 6/50\n",
      "82/82 [==============================] - 1s 14ms/step - loss: 0.7019 - acc: 0.7257 - val_loss: 0.7971 - val_acc: 0.5000\n",
      "Epoch 7/50\n",
      "82/82 [==============================] - 1s 13ms/step - loss: 0.5838 - acc: 0.7521 - val_loss: 0.6449 - val_acc: 0.6121\n",
      "Epoch 8/50\n",
      "82/82 [==============================] - 1s 14ms/step - loss: 0.6234 - acc: 0.7878 - val_loss: 1.2227 - val_acc: 0.5000\n",
      "Epoch 9/50\n",
      "82/82 [==============================] - 1s 14ms/step - loss: 0.7045 - acc: 0.7770 - val_loss: 2.8922 - val_acc: 0.5000\n",
      "Epoch 10/50\n",
      "82/82 [==============================] - 1s 14ms/step - loss: 0.5337 - acc: 0.8102 - val_loss: 1.7938 - val_acc: 0.5000\n",
      "Epoch 11/50\n",
      "82/82 [==============================] - 1s 14ms/step - loss: 0.5490 - acc: 0.7874 - val_loss: 2.2487 - val_acc: 0.5000\n",
      "Epoch 12/50\n",
      "82/82 [==============================] - 1s 13ms/step - loss: 0.5566 - acc: 0.8079 - val_loss: 0.6379 - val_acc: 0.6638\n",
      "Epoch 13/50\n",
      "82/82 [==============================] - 1s 14ms/step - loss: 0.5368 - acc: 0.8179 - val_loss: 0.6149 - val_acc: 0.8362\n",
      "Epoch 14/50\n",
      "82/82 [==============================] - 1s 14ms/step - loss: 0.6113 - acc: 0.7657 - val_loss: 0.4756 - val_acc: 0.8190\n",
      "Epoch 15/50\n",
      "82/82 [==============================] - 1s 15ms/step - loss: 0.5093 - acc: 0.8167 - val_loss: 1.9847 - val_acc: 0.5000\n",
      "Epoch 16/50\n",
      "82/82 [==============================] - 1s 14ms/step - loss: 0.5995 - acc: 0.8313 - val_loss: 1.2705 - val_acc: 0.5172\n",
      "Epoch 17/50\n",
      "82/82 [==============================] - 1s 14ms/step - loss: 0.5818 - acc: 0.8349 - val_loss: 3.3468 - val_acc: 0.5000\n",
      "Epoch 18/50\n",
      "82/82 [==============================] - 1s 15ms/step - loss: 0.4823 - acc: 0.8508 - val_loss: 0.6108 - val_acc: 0.7672\n",
      "Epoch 19/50\n",
      "82/82 [==============================] - 1s 12ms/step - loss: 0.5412 - acc: 0.8445 - val_loss: 0.8164 - val_acc: 0.6207\n",
      "Epoch 20/50\n",
      "82/82 [==============================] - 1s 15ms/step - loss: 0.5920 - acc: 0.8135 - val_loss: 1.1763 - val_acc: 0.5259\n",
      "Epoch 21/50\n",
      "82/82 [==============================] - 1s 14ms/step - loss: 0.5750 - acc: 0.8349 - val_loss: 1.0617 - val_acc: 0.6293\n",
      "Epoch 22/50\n",
      "82/82 [==============================] - 1s 15ms/step - loss: 0.5858 - acc: 0.8501 - val_loss: 0.9047 - val_acc: 0.6466\n",
      "Epoch 23/50\n",
      "82/82 [==============================] - 1s 15ms/step - loss: 0.5140 - acc: 0.8560 - val_loss: 0.8852 - val_acc: 0.6207\n",
      "Epoch 24/50\n",
      "82/82 [==============================] - 1s 13ms/step - loss: 0.5129 - acc: 0.8439 - val_loss: 0.4658 - val_acc: 0.8276\n",
      "Epoch 25/50\n",
      "82/82 [==============================] - 1s 11ms/step - loss: 0.4923 - acc: 0.8633 - val_loss: 1.3139 - val_acc: 0.6379\n",
      "Epoch 26/50\n",
      "82/82 [==============================] - 1s 11ms/step - loss: 0.4073 - acc: 0.8886 - val_loss: 0.4682 - val_acc: 0.8276\n",
      "Epoch 27/50\n",
      "82/82 [==============================] - 1s 15ms/step - loss: 0.4283 - acc: 0.8809 - val_loss: 0.4589 - val_acc: 0.8362\n",
      "Epoch 28/50\n",
      "82/82 [==============================] - 1s 12ms/step - loss: 0.5007 - acc: 0.8564 - val_loss: 0.8274 - val_acc: 0.6552\n",
      "Epoch 29/50\n",
      "82/82 [==============================] - 1s 14ms/step - loss: 0.4426 - acc: 0.8669 - val_loss: 0.4719 - val_acc: 0.8276\n",
      "Epoch 30/50\n",
      "82/82 [==============================] - 1s 14ms/step - loss: 0.4943 - acc: 0.8397 - val_loss: 0.8945 - val_acc: 0.5517\n",
      "Epoch 31/50\n",
      "82/82 [==============================] - 1s 11ms/step - loss: 0.4508 - acc: 0.8758 - val_loss: 0.6848 - val_acc: 0.6638\n",
      "Epoch 32/50\n",
      "82/82 [==============================] - 1s 13ms/step - loss: 0.4843 - acc: 0.8646 - val_loss: 0.4963 - val_acc: 0.8276\n",
      "Epoch 33/50\n",
      "82/82 [==============================] - 1s 15ms/step - loss: 0.4464 - acc: 0.8683 - val_loss: 0.7029 - val_acc: 0.6552\n",
      "Epoch 34/50\n",
      "82/82 [==============================] - 1s 14ms/step - loss: 0.4315 - acc: 0.8802 - val_loss: 1.2898 - val_acc: 0.5862\n",
      "Epoch 35/50\n",
      "82/82 [==============================] - 1s 14ms/step - loss: 0.4579 - acc: 0.8719 - val_loss: 0.5046 - val_acc: 0.8190\n",
      "Epoch 36/50\n",
      "82/82 [==============================] - 1s 14ms/step - loss: 0.4500 - acc: 0.8737 - val_loss: 2.3207 - val_acc: 0.5172\n",
      "Epoch 37/50\n",
      "82/82 [==============================] - 1s 15ms/step - loss: 0.4269 - acc: 0.8731 - val_loss: 0.9187 - val_acc: 0.6724\n",
      "Epoch 38/50\n",
      "82/82 [==============================] - 1s 11ms/step - loss: 0.3996 - acc: 0.8735 - val_loss: 0.5990 - val_acc: 0.7500\n",
      "Epoch 39/50\n",
      "82/82 [==============================] - 1s 15ms/step - loss: 0.4666 - acc: 0.8775 - val_loss: 0.5171 - val_acc: 0.7586\n",
      "Epoch 40/50\n",
      "82/82 [==============================] - 1s 13ms/step - loss: 0.4490 - acc: 0.8840 - val_loss: 1.9257 - val_acc: 0.5259\n",
      "Epoch 41/50\n",
      "82/82 [==============================] - 1s 13ms/step - loss: 0.4221 - acc: 0.8882 - val_loss: 1.0338 - val_acc: 0.6810\n",
      "Epoch 42/50\n",
      "82/82 [==============================] - 1s 14ms/step - loss: 0.4311 - acc: 0.8737 - val_loss: 1.9808 - val_acc: 0.5862\n",
      "Epoch 43/50\n",
      "82/82 [==============================] - 1s 14ms/step - loss: 0.4590 - acc: 0.8719 - val_loss: 1.0509 - val_acc: 0.6724\n",
      "Epoch 44/50\n",
      "82/82 [==============================] - 1s 14ms/step - loss: 0.3701 - acc: 0.8857 - val_loss: 0.8553 - val_acc: 0.6983\n",
      "Epoch 45/50\n",
      "82/82 [==============================] - 1s 12ms/step - loss: 0.4187 - acc: 0.8861 - val_loss: 0.4926 - val_acc: 0.8103\n",
      "Epoch 46/50\n",
      "82/82 [==============================] - 1s 12ms/step - loss: 0.3647 - acc: 0.9007 - val_loss: 2.4072 - val_acc: 0.5000\n",
      "Epoch 47/50\n",
      "82/82 [==============================] - 1s 14ms/step - loss: 0.3994 - acc: 0.8855 - val_loss: 1.8855 - val_acc: 0.5000\n",
      "Epoch 48/50\n",
      "82/82 [==============================] - 1s 14ms/step - loss: 0.4114 - acc: 0.8769 - val_loss: 0.4770 - val_acc: 0.8448\n",
      "Epoch 49/50\n",
      "82/82 [==============================] - 1s 14ms/step - loss: 0.4094 - acc: 0.8888 - val_loss: 1.2498 - val_acc: 0.6379\n",
      "Epoch 50/50\n",
      "82/82 [==============================] - 1s 14ms/step - loss: 0.3866 - acc: 0.8754 - val_loss: 1.3738 - val_acc: 0.5862\n"
     ]
    }
   ],
   "source": [
    "# Regularize the baseline model\n",
    "regularized_model = Sequential()\n",
    "regularized_model.add(Dense(32, activation='relu', \n",
    "                            kernel_regularizer=regularizers.l2(0.01), input_shape=(12288, )))\n",
    "regularized_model.add(Dense(8, activation='relu'))\n",
    "regularized_model.add(Dense(1, activation = 'sigmoid'))\n",
    "regularized_model.compile(loss='binary_crossentropy', \n",
    "                  optimizer='RMSprop', \n",
    "                  metrics=['acc'])\n",
    "results = regularized_model.fit(X_train_final, y_train, epochs=50, batch_size=64,\n",
    "                                      validation_data=(X_val_final, y_val))"
   ]
  },
  {
   "cell_type": "code",
   "execution_count": 22,
   "metadata": {},
   "outputs": [
    {
     "data": {
      "image/png": "[encoded data removed]",
      "text/plain": [
       "<Figure size 432x288 with 1 Axes>"
      ]
     },
     "metadata": {
      "needs_background": "light"
     },
     "output_type": "display_data"
    },
    {
     "data": {
      "image/png": "[encoded data removed]",
      "text/plain": [
       "<Figure size 432x288 with 1 Axes>"
      ]
     },
     "metadata": {
      "needs_background": "light"
     },
     "output_type": "display_data"
    }
   ],
   "source": [
    "# Visualize the training results\n",
    "visualize_training_results(results)"
   ]
  },
  {
   "cell_type": "markdown",
   "metadata": {},
   "source": [
    "### Cross-Validating the Regularized Baseline Model:"
   ]
  },
  {
   "cell_type": "code",
   "execution_count": 26,
   "metadata": {},
   "outputs": [],
   "source": [
    "# Create a function that will build the regularized model above\n",
    "def build_reg_model():\n",
    "    regularized_model = Sequential()\n",
    "    regularized_model.add(Dense(32, activation='relu', \n",
    "                            kernel_regularizer=regularizers.l2(0.01), input_shape=(12288, )))\n",
    "    regularized_model.add(Dense(8, activation='relu'))\n",
    "    regularized_model.add(Dense(1, activation = 'sigmoid'))\n",
    "    regularized_model.compile(loss='binary_crossentropy', \n",
    "                  optimizer='RMSprop', \n",
    "                  metrics=['acc'])\n",
    "    return regularized_model"
   ]
  },
  {
   "cell_type": "code",
   "execution_count": 27,
   "metadata": {},
   "outputs": [
    {
     "name": "stdout",
     "output_type": "stream",
     "text": [
      "Epoch 1/32\n",
      "66/66 - 1s - loss: 1.0355 - acc: 0.7253\n",
      "Epoch 2/32\n",
      "66/66 - 1s - loss: 0.6098 - acc: 0.7514\n",
      "Epoch 3/32\n",
      "66/66 - 1s - loss: 0.5527 - acc: 0.8025\n",
      "Epoch 4/32\n",
      "66/66 - 1s - loss: 0.5907 - acc: 0.7567\n",
      "Epoch 5/32\n",
      "66/66 - 1s - loss: 0.6985 - acc: 0.7313\n",
      "Epoch 6/32\n",
      "66/66 - 1s - loss: 0.5915 - acc: 0.7558\n",
      "Epoch 7/32\n",
      "66/66 - 1s - loss: 0.5191 - acc: 0.8037\n",
      "Epoch 8/32\n",
      "66/66 - 1s - loss: 0.5286 - acc: 0.8080\n",
      "Epoch 9/32\n",
      "66/66 - 1s - loss: 0.5710 - acc: 0.8094\n",
      "Epoch 10/32\n",
      "66/66 - 1s - loss: 0.4689 - acc: 0.8447\n",
      "Epoch 11/32\n",
      "66/66 - 1s - loss: 0.5316 - acc: 0.8253\n",
      "Epoch 12/32\n",
      "66/66 - 1s - loss: 0.4888 - acc: 0.8490\n",
      "Epoch 13/32\n",
      "66/66 - 1s - loss: 0.4817 - acc: 0.8349\n",
      "Epoch 14/32\n",
      "66/66 - 1s - loss: 0.5225 - acc: 0.8327\n",
      "Epoch 15/32\n",
      "66/66 - 1s - loss: 0.4878 - acc: 0.8461\n",
      "Epoch 16/32\n",
      "66/66 - 1s - loss: 0.4947 - acc: 0.8459\n",
      "Epoch 17/32\n",
      "66/66 - 1s - loss: 0.4734 - acc: 0.8528\n",
      "Epoch 18/32\n",
      "66/66 - 1s - loss: 0.4845 - acc: 0.8674\n",
      "Epoch 19/32\n",
      "66/66 - 1s - loss: 0.7837 - acc: 0.8442\n",
      "Epoch 20/32\n",
      "66/66 - 1s - loss: 0.3983 - acc: 0.8847\n",
      "Epoch 21/32\n",
      "66/66 - 1s - loss: 0.4751 - acc: 0.8528\n",
      "Epoch 22/32\n",
      "66/66 - 1s - loss: 0.5580 - acc: 0.8519\n",
      "Epoch 23/32\n",
      "66/66 - 1s - loss: 0.5241 - acc: 0.8610\n",
      "Epoch 24/32\n",
      "66/66 - 1s - loss: 0.4321 - acc: 0.8722\n",
      "Epoch 25/32\n",
      "66/66 - 1s - loss: 0.4828 - acc: 0.8387\n",
      "Epoch 26/32\n",
      "66/66 - 1s - loss: 0.4302 - acc: 0.8710\n",
      "Epoch 27/32\n",
      "66/66 - 1s - loss: 0.3854 - acc: 0.8816\n",
      "Epoch 28/32\n",
      "66/66 - 1s - loss: 0.4187 - acc: 0.8684\n",
      "Epoch 29/32\n",
      "66/66 - 1s - loss: 0.4521 - acc: 0.8660\n",
      "Epoch 30/32\n",
      "66/66 - 1s - loss: 0.5760 - acc: 0.8485\n",
      "Epoch 31/32\n",
      "66/66 - 1s - loss: 0.4420 - acc: 0.8658\n",
      "Epoch 32/32\n",
      "66/66 - 1s - loss: 0.5312 - acc: 0.8130\n",
      "17/17 - 0s - loss: 0.3950 - acc: 0.8937\n",
      "Epoch 1/32\n",
      "66/66 - 1s - loss: 1.1263 - acc: 0.7177\n",
      "Epoch 2/32\n",
      "66/66 - 1s - loss: 0.7201 - acc: 0.7508\n",
      "Epoch 3/32\n",
      "66/66 - 1s - loss: 0.7990 - acc: 0.7088\n",
      "Epoch 4/32\n",
      "66/66 - 1s - loss: 0.6334 - acc: 0.7254\n",
      "Epoch 5/32\n",
      "66/66 - 1s - loss: 0.5788 - acc: 0.7436\n",
      "Epoch 6/32\n",
      "66/66 - 1s - loss: 0.7918 - acc: 0.7412\n",
      "Epoch 7/32\n",
      "66/66 - 1s - loss: 0.8415 - acc: 0.7160\n",
      "Epoch 8/32\n",
      "66/66 - 1s - loss: 0.6771 - acc: 0.7345\n",
      "Epoch 9/32\n",
      "66/66 - 1s - loss: 0.6768 - acc: 0.7369\n",
      "Epoch 10/32\n",
      "66/66 - 1s - loss: 0.6531 - acc: 0.7436\n",
      "Epoch 11/32\n",
      "66/66 - 1s - loss: 0.6402 - acc: 0.7436\n",
      "Epoch 12/32\n",
      "66/66 - 1s - loss: 0.7228 - acc: 0.7223\n",
      "Epoch 13/32\n",
      "66/66 - 1s - loss: 0.5018 - acc: 0.7850\n",
      "Epoch 14/32\n",
      "66/66 - 1s - loss: 0.6767 - acc: 0.7640\n",
      "Epoch 15/32\n",
      "66/66 - 1s - loss: 0.5309 - acc: 0.8100\n",
      "Epoch 16/32\n",
      "66/66 - 1s - loss: 0.6808 - acc: 0.8061\n",
      "Epoch 17/32\n",
      "66/66 - 1s - loss: 0.6650 - acc: 0.7467\n",
      "Epoch 18/32\n",
      "66/66 - 1s - loss: 0.7386 - acc: 0.7347\n",
      "Epoch 19/32\n",
      "66/66 - 1s - loss: 0.6333 - acc: 0.7366\n",
      "Epoch 20/32\n",
      "66/66 - 1s - loss: 0.5901 - acc: 0.7371\n",
      "Epoch 21/32\n",
      "66/66 - 1s - loss: 0.6016 - acc: 0.7414\n",
      "Epoch 22/32\n",
      "66/66 - 1s - loss: 0.6567 - acc: 0.7203\n",
      "Epoch 23/32\n",
      "66/66 - 1s - loss: 0.5441 - acc: 0.7714\n",
      "Epoch 24/32\n",
      "66/66 - 1s - loss: 0.7422 - acc: 0.7038\n",
      "Epoch 25/32\n",
      "66/66 - 1s - loss: 0.5798 - acc: 0.7364\n",
      "Epoch 26/32\n",
      "66/66 - 1s - loss: 0.6059 - acc: 0.7455\n",
      "Epoch 27/32\n",
      "66/66 - 1s - loss: 0.5631 - acc: 0.7357\n",
      "Epoch 28/32\n",
      "66/66 - 1s - loss: 0.5957 - acc: 0.7244\n",
      "Epoch 29/32\n",
      "66/66 - 1s - loss: 0.5556 - acc: 0.7759\n",
      "Epoch 30/32\n",
      "66/66 - 1s - loss: 0.6125 - acc: 0.7759\n",
      "Epoch 31/32\n",
      "66/66 - 1s - loss: 0.6107 - acc: 0.7884\n",
      "Epoch 32/32\n",
      "66/66 - 1s - loss: 0.5053 - acc: 0.8121\n",
      "17/17 - 0s - loss: 0.4110 - acc: 0.8571\n",
      "Epoch 1/32\n",
      "66/66 - 1s - loss: 0.8823 - acc: 0.7431\n",
      "Epoch 2/32\n",
      "66/66 - 1s - loss: 0.5217 - acc: 0.7939\n",
      "Epoch 3/32\n",
      "66/66 - 1s - loss: 0.6436 - acc: 0.7879\n",
      "Epoch 4/32\n",
      "66/66 - 1s - loss: 0.5147 - acc: 0.8176\n",
      "Epoch 5/32\n",
      "66/66 - 1s - loss: 0.5481 - acc: 0.8167\n",
      "Epoch 6/32\n",
      "66/66 - 1s - loss: 0.5515 - acc: 0.8258\n",
      "Epoch 7/32\n",
      "66/66 - 1s - loss: 0.5197 - acc: 0.8363\n",
      "Epoch 8/32\n",
      "66/66 - 1s - loss: 0.5913 - acc: 0.8279\n",
      "Epoch 9/32\n",
      "66/66 - 1s - loss: 0.5118 - acc: 0.8344\n",
      "Epoch 10/32\n",
      "66/66 - 1s - loss: 0.5562 - acc: 0.8347\n",
      "Epoch 11/32\n",
      "66/66 - 1s - loss: 0.4594 - acc: 0.8560\n",
      "Epoch 12/32\n",
      "66/66 - 1s - loss: 0.6163 - acc: 0.8253\n",
      "Epoch 13/32\n",
      "66/66 - 1s - loss: 0.4625 - acc: 0.8584\n",
      "Epoch 14/32\n",
      "66/66 - 1s - loss: 0.5251 - acc: 0.8332\n",
      "Epoch 15/32\n",
      "66/66 - 1s - loss: 0.5370 - acc: 0.8478\n",
      "Epoch 16/32\n",
      "66/66 - 1s - loss: 0.4507 - acc: 0.8553\n",
      "Epoch 17/32\n",
      "66/66 - 1s - loss: 0.5158 - acc: 0.8284\n",
      "Epoch 18/32\n",
      "66/66 - 1s - loss: 0.4943 - acc: 0.8385\n",
      "Epoch 19/32\n",
      "66/66 - 1s - loss: 0.5121 - acc: 0.8198\n",
      "Epoch 20/32\n",
      "66/66 - 1s - loss: 0.4659 - acc: 0.8466\n",
      "Epoch 21/32\n",
      "66/66 - 1s - loss: 0.4445 - acc: 0.8598\n",
      "Epoch 22/32\n",
      "66/66 - 1s - loss: 0.4450 - acc: 0.8586\n",
      "Epoch 23/32\n",
      "66/66 - 1s - loss: 0.4279 - acc: 0.8696\n",
      "Epoch 24/32\n",
      "66/66 - 1s - loss: 0.4508 - acc: 0.8742\n",
      "Epoch 25/32\n",
      "66/66 - 1s - loss: 0.4331 - acc: 0.8728\n",
      "Epoch 26/32\n",
      "66/66 - 1s - loss: 0.4778 - acc: 0.8483\n",
      "Epoch 27/32\n",
      "66/66 - 1s - loss: 0.4043 - acc: 0.8807\n",
      "Epoch 28/32\n",
      "66/66 - 1s - loss: 0.4113 - acc: 0.8761\n",
      "Epoch 29/32\n",
      "66/66 - 1s - loss: 0.4278 - acc: 0.8763\n",
      "Epoch 30/32\n",
      "66/66 - 1s - loss: 0.3822 - acc: 0.8763\n",
      "Epoch 31/32\n",
      "66/66 - 1s - loss: 0.4032 - acc: 0.8706\n",
      "Epoch 32/32\n",
      "66/66 - 1s - loss: 0.3984 - acc: 0.8740\n",
      "17/17 - 0s - loss: 0.7182 - acc: 0.6740\n",
      "Epoch 1/32\n",
      "66/66 - 1s - loss: 1.8217 - acc: 0.6887\n",
      "Epoch 2/32\n",
      "66/66 - 1s - loss: 1.5202 - acc: 0.7256\n",
      "Epoch 3/32\n",
      "66/66 - 1s - loss: 1.2261 - acc: 0.7676\n",
      "Epoch 4/32\n",
      "66/66 - 1s - loss: 0.8538 - acc: 0.7436\n",
      "Epoch 5/32\n",
      "66/66 - 1s - loss: 0.8333 - acc: 0.7438\n",
      "Epoch 6/32\n",
      "66/66 - 1s - loss: 0.6601 - acc: 0.7479\n",
      "Epoch 7/32\n",
      "66/66 - 1s - loss: 0.5481 - acc: 0.7781\n",
      "Epoch 8/32\n",
      "66/66 - 1s - loss: 0.5464 - acc: 0.7918\n",
      "Epoch 9/32\n",
      "66/66 - 1s - loss: 0.5506 - acc: 0.7898\n",
      "Epoch 10/32\n",
      "66/66 - 1s - loss: 0.5319 - acc: 0.7927\n",
      "Epoch 11/32\n",
      "66/66 - 1s - loss: 0.6291 - acc: 0.7884\n",
      "Epoch 12/32\n",
      "66/66 - 1s - loss: 0.5455 - acc: 0.7882\n",
      "Epoch 13/32\n",
      "66/66 - 1s - loss: 0.5090 - acc: 0.8076\n",
      "Epoch 14/32\n",
      "66/66 - 1s - loss: 0.5216 - acc: 0.8136\n",
      "Epoch 15/32\n",
      "66/66 - 1s - loss: 0.5029 - acc: 0.8157\n",
      "Epoch 16/32\n",
      "66/66 - 1s - loss: 0.4877 - acc: 0.8078\n",
      "Epoch 17/32\n",
      "66/66 - 1s - loss: 0.5063 - acc: 0.7987\n",
      "Epoch 18/32\n",
      "66/66 - 1s - loss: 0.4966 - acc: 0.8112\n",
      "Epoch 19/32\n",
      "66/66 - 1s - loss: 0.5071 - acc: 0.8236\n",
      "Epoch 20/32\n",
      "66/66 - 1s - loss: 0.4896 - acc: 0.8231\n",
      "Epoch 21/32\n",
      "66/66 - 1s - loss: 0.4859 - acc: 0.8196\n",
      "Epoch 22/32\n",
      "66/66 - 1s - loss: 0.5009 - acc: 0.8155\n",
      "Epoch 23/32\n",
      "66/66 - 1s - loss: 0.4903 - acc: 0.8315\n",
      "Epoch 24/32\n",
      "66/66 - 1s - loss: 0.4734 - acc: 0.8486\n",
      "Epoch 25/32\n",
      "66/66 - 1s - loss: 0.4525 - acc: 0.8450\n",
      "Epoch 26/32\n",
      "66/66 - 1s - loss: 0.5092 - acc: 0.8078\n",
      "Epoch 27/32\n",
      "66/66 - 1s - loss: 0.4528 - acc: 0.8457\n",
      "Epoch 28/32\n",
      "66/66 - 1s - loss: 0.4752 - acc: 0.8337\n",
      "Epoch 29/32\n",
      "66/66 - 1s - loss: 0.4674 - acc: 0.8349\n",
      "Epoch 30/32\n",
      "66/66 - 1s - loss: 0.4585 - acc: 0.8385\n",
      "Epoch 31/32\n",
      "66/66 - 1s - loss: 0.4423 - acc: 0.8545\n",
      "Epoch 32/32\n",
      "66/66 - 1s - loss: 0.4391 - acc: 0.8646\n",
      "17/17 - 0s - loss: 0.4885 - acc: 0.7709\n",
      "Epoch 1/32\n",
      "66/66 - 1s - loss: 1.2051 - acc: 0.7139\n",
      "Epoch 2/32\n",
      "66/66 - 1s - loss: 0.9697 - acc: 0.7172\n",
      "Epoch 3/32\n",
      "66/66 - 1s - loss: 0.7745 - acc: 0.7244\n",
      "Epoch 4/32\n",
      "66/66 - 1s - loss: 0.9234 - acc: 0.7108\n",
      "Epoch 5/32\n",
      "66/66 - 1s - loss: 0.6700 - acc: 0.7297\n",
      "Epoch 6/32\n",
      "66/66 - 1s - loss: 0.6447 - acc: 0.7400\n",
      "Epoch 7/32\n",
      "66/66 - 1s - loss: 0.7557 - acc: 0.7354\n",
      "Epoch 8/32\n",
      "66/66 - 1s - loss: 0.5501 - acc: 0.8016\n",
      "Epoch 9/32\n",
      "66/66 - 1s - loss: 0.5563 - acc: 0.7800\n",
      "Epoch 10/32\n",
      "66/66 - 1s - loss: 0.8482 - acc: 0.7889\n",
      "Epoch 11/32\n",
      "66/66 - 1s - loss: 1.2967 - acc: 0.7335\n",
      "Epoch 12/32\n",
      "66/66 - 1s - loss: 0.5861 - acc: 0.7956\n",
      "Epoch 13/32\n",
      "66/66 - 1s - loss: 0.6230 - acc: 0.7860\n",
      "Epoch 14/32\n",
      "66/66 - 1s - loss: 0.7901 - acc: 0.7795\n",
      "Epoch 15/32\n",
      "66/66 - 1s - loss: 0.6142 - acc: 0.8229\n",
      "Epoch 16/32\n",
      "66/66 - 1s - loss: 0.6047 - acc: 0.8263\n",
      "Epoch 17/32\n",
      "66/66 - 1s - loss: 0.5298 - acc: 0.8212\n",
      "Epoch 18/32\n",
      "66/66 - 1s - loss: 0.5031 - acc: 0.8404\n",
      "Epoch 19/32\n",
      "66/66 - 1s - loss: 0.6333 - acc: 0.8442\n",
      "Epoch 20/32\n",
      "66/66 - 1s - loss: 0.4875 - acc: 0.8622\n",
      "Epoch 21/32\n",
      "66/66 - 1s - loss: 0.4876 - acc: 0.8545\n",
      "Epoch 22/32\n",
      "66/66 - 1s - loss: 0.5031 - acc: 0.8404\n",
      "Epoch 23/32\n",
      "66/66 - 1s - loss: 0.8311 - acc: 0.8313\n",
      "Epoch 24/32\n",
      "66/66 - 1s - loss: 0.5063 - acc: 0.8414\n",
      "Epoch 25/32\n",
      "66/66 - 1s - loss: 0.5807 - acc: 0.8605\n",
      "Epoch 26/32\n",
      "66/66 - 1s - loss: 0.5220 - acc: 0.8601\n",
      "Epoch 27/32\n",
      "66/66 - 1s - loss: 0.6362 - acc: 0.8421\n",
      "Epoch 28/32\n",
      "66/66 - 1s - loss: 0.5478 - acc: 0.8488\n"
     ]
    },
    {
     "name": "stdout",
     "output_type": "stream",
     "text": [
      "Epoch 29/32\n",
      "66/66 - 1s - loss: 0.4798 - acc: 0.8636\n",
      "Epoch 30/32\n",
      "66/66 - 1s - loss: 0.4608 - acc: 0.8581\n",
      "Epoch 31/32\n",
      "66/66 - 1s - loss: 0.4589 - acc: 0.8622\n",
      "Epoch 32/32\n",
      "66/66 - 1s - loss: 0.4532 - acc: 0.8617\n",
      "17/17 - 0s - loss: 0.4872 - acc: 0.8217\n"
     ]
    }
   ],
   "source": [
    "# Cross-validate using various scikit-learn tools\n",
    "keras_model = scikit_learn.KerasClassifier(build_reg_model,\n",
    "                                          epochs=32,\n",
    "                                          batch_size=64,\n",
    "                                          verbose=2)\n",
    "kfold = KFold(shuffle=True, random_state=seed)\n",
    "validation_scores = cross_val_score(keras_model, X_train_final, y_train, cv=kfold)"
   ]
  },
  {
   "cell_type": "code",
   "execution_count": 28,
   "metadata": {},
   "outputs": [
    {
     "data": {
      "text/plain": [
       "0.8034719705581665"
      ]
     },
     "execution_count": 28,
     "metadata": {},
     "output_type": "execute_result"
    }
   ],
   "source": [
    "# Calculate the training data's average validation score\n",
    "validation_scores.mean()"
   ]
  },
  {
   "cell_type": "markdown",
   "metadata": {},
   "source": [
    "## Further Modeling\n",
    "### Convolutional Neural Network (CNN):"
   ]
  },
  {
   "cell_type": "code",
   "execution_count": 29,
   "metadata": {},
   "outputs": [],
   "source": [
    "# Construct the CNN model's framework\n",
    "CNNmodel = Sequential()\n",
    "CNNmodel.add(Conv2D(32, (3, 3), activation='relu',\n",
    "                        input_shape=(64 ,64,  3)))\n",
    "CNNmodel.add(MaxPooling2D((2, 2)))\n",
    "\n",
    "CNNmodel.add(Conv2D(32, (4, 4), activation='relu'))\n",
    "CNNmodel.add(MaxPooling2D((2, 2)))\n",
    "\n",
    "CNNmodel.add(Conv2D(64, (3, 3), activation='relu'))\n",
    "CNNmodel.add(MaxPooling2D((2, 2)))\n",
    "\n",
    "CNNmodel.add(Flatten())\n",
    "CNNmodel.add(Dense(64, activation='relu'))\n",
    "CNNmodel.add(Dense(1, activation='sigmoid'))\n",
    "\n",
    "CNNmodel.compile(loss='binary_crossentropy',\n",
    "              optimizer=\"RMSprop\",\n",
    "              metrics=['acc'])"
   ]
  },
  {
   "cell_type": "code",
   "execution_count": 30,
   "metadata": {
    "scrolled": true
   },
   "outputs": [
    {
     "name": "stdout",
     "output_type": "stream",
     "text": [
      "Epoch 1/50\n",
      "163/163 [==============================] - 16s 101ms/step - loss: 3.3879 - acc: 0.7673 - val_loss: 1.0889 - val_acc: 0.5948\n",
      "Epoch 2/50\n",
      "163/163 [==============================] - 16s 99ms/step - loss: 0.4431 - acc: 0.8827 - val_loss: 2.4100 - val_acc: 0.5603\n",
      "Epoch 3/50\n",
      "163/163 [==============================] - 16s 96ms/step - loss: 0.2163 - acc: 0.9245 - val_loss: 1.8768 - val_acc: 0.6466\n",
      "Epoch 4/50\n",
      "163/163 [==============================] - 16s 97ms/step - loss: 0.1743 - acc: 0.9517 - val_loss: 1.8350 - val_acc: 0.6466\n",
      "Epoch 5/50\n",
      "163/163 [==============================] - 16s 98ms/step - loss: 0.1356 - acc: 0.9548 - val_loss: 1.6618 - val_acc: 0.6552\n",
      "Epoch 6/50\n",
      "163/163 [==============================] - 16s 98ms/step - loss: 0.1045 - acc: 0.9668 - val_loss: 4.0245 - val_acc: 0.5690\n",
      "Epoch 7/50\n",
      "163/163 [==============================] - 16s 96ms/step - loss: 0.0984 - acc: 0.9697 - val_loss: 2.2107 - val_acc: 0.6724\n",
      "Epoch 8/50\n",
      "163/163 [==============================] - 16s 96ms/step - loss: 0.1223 - acc: 0.9720 - val_loss: 1.3151 - val_acc: 0.6983\n",
      "Epoch 9/50\n",
      "163/163 [==============================] - 16s 96ms/step - loss: 0.0816 - acc: 0.9768 - val_loss: 5.0352 - val_acc: 0.6293\n",
      "Epoch 10/50\n",
      "163/163 [==============================] - 16s 96ms/step - loss: 0.0991 - acc: 0.9774 - val_loss: 3.9523 - val_acc: 0.6034\n",
      "Epoch 11/50\n",
      "163/163 [==============================] - 16s 95ms/step - loss: 0.1596 - acc: 0.9791 - val_loss: 3.1332 - val_acc: 0.6466\n",
      "Epoch 12/50\n",
      "163/163 [==============================] - 16s 96ms/step - loss: 0.0810 - acc: 0.9801 - val_loss: 2.9223 - val_acc: 0.6638\n",
      "Epoch 13/50\n",
      "163/163 [==============================] - 16s 96ms/step - loss: 0.0829 - acc: 0.9818 - val_loss: 2.7888 - val_acc: 0.6552\n",
      "Epoch 14/50\n",
      "163/163 [==============================] - 16s 98ms/step - loss: 0.0649 - acc: 0.9810 - val_loss: 7.1219 - val_acc: 0.6121\n",
      "Epoch 15/50\n",
      "163/163 [==============================] - 16s 97ms/step - loss: 0.0533 - acc: 0.9826 - val_loss: 3.1733 - val_acc: 0.6638\n",
      "Epoch 16/50\n",
      "163/163 [==============================] - 16s 97ms/step - loss: 0.0514 - acc: 0.9831 - val_loss: 7.4840 - val_acc: 0.6293\n",
      "Epoch 17/50\n",
      "163/163 [==============================] - 17s 102ms/step - loss: 0.0671 - acc: 0.9849 - val_loss: 3.9635 - val_acc: 0.6466\n",
      "Epoch 18/50\n",
      "163/163 [==============================] - 15s 95ms/step - loss: 0.0550 - acc: 0.9843 - val_loss: 6.3331 - val_acc: 0.6638\n",
      "Epoch 19/50\n",
      "163/163 [==============================] - 16s 96ms/step - loss: 0.2200 - acc: 0.9858 - val_loss: 4.1764 - val_acc: 0.6638\n",
      "Epoch 20/50\n",
      "163/163 [==============================] - 16s 99ms/step - loss: 0.0524 - acc: 0.9879 - val_loss: 4.8791 - val_acc: 0.6466\n",
      "Epoch 21/50\n",
      "163/163 [==============================] - 17s 102ms/step - loss: 0.0499 - acc: 0.9891 - val_loss: 3.7390 - val_acc: 0.6983\n",
      "Epoch 22/50\n",
      "163/163 [==============================] - 17s 103ms/step - loss: 0.0419 - acc: 0.9885 - val_loss: 4.2256 - val_acc: 0.6379\n",
      "Epoch 23/50\n",
      "163/163 [==============================] - 16s 98ms/step - loss: 0.0435 - acc: 0.9870 - val_loss: 9.5478 - val_acc: 0.6638\n",
      "Epoch 24/50\n",
      "163/163 [==============================] - 16s 97ms/step - loss: 0.0697 - acc: 0.9849 - val_loss: 6.5331 - val_acc: 0.5948\n",
      "Epoch 25/50\n",
      "163/163 [==============================] - 16s 99ms/step - loss: 0.0885 - acc: 0.9856 - val_loss: 2.9009 - val_acc: 0.7241\n",
      "Epoch 26/50\n",
      "163/163 [==============================] - 16s 99ms/step - loss: 0.0413 - acc: 0.9891 - val_loss: 8.4686 - val_acc: 0.5948\n",
      "Epoch 27/50\n",
      "163/163 [==============================] - 16s 99ms/step - loss: 0.0326 - acc: 0.9910 - val_loss: 14.9457 - val_acc: 0.5776\n",
      "Epoch 28/50\n",
      "163/163 [==============================] - 17s 102ms/step - loss: 0.0593 - acc: 0.9893 - val_loss: 5.6361 - val_acc: 0.6552\n",
      "Epoch 29/50\n",
      "163/163 [==============================] - 16s 100ms/step - loss: 0.2520 - acc: 0.9902 - val_loss: 5.3646 - val_acc: 0.6466\n",
      "Epoch 30/50\n",
      "163/163 [==============================] - 17s 102ms/step - loss: 0.0615 - acc: 0.9898 - val_loss: 9.1619 - val_acc: 0.6379\n",
      "Epoch 31/50\n",
      "163/163 [==============================] - 17s 102ms/step - loss: 0.0413 - acc: 0.9912 - val_loss: 9.6289 - val_acc: 0.6724\n",
      "Epoch 32/50\n",
      "163/163 [==============================] - 16s 100ms/step - loss: 0.0449 - acc: 0.9918 - val_loss: 9.1959 - val_acc: 0.6121\n",
      "Epoch 33/50\n",
      "163/163 [==============================] - 16s 100ms/step - loss: 0.0301 - acc: 0.9906 - val_loss: 12.1326 - val_acc: 0.6466\n",
      "Epoch 34/50\n",
      "163/163 [==============================] - 16s 99ms/step - loss: 0.2129 - acc: 0.9919 - val_loss: 6.6470 - val_acc: 0.7328\n",
      "Epoch 35/50\n",
      "163/163 [==============================] - 16s 98ms/step - loss: 0.0515 - acc: 0.9921 - val_loss: 5.7920 - val_acc: 0.7069\n",
      "Epoch 36/50\n",
      "163/163 [==============================] - 16s 101ms/step - loss: 0.0573 - acc: 0.9937 - val_loss: 6.9721 - val_acc: 0.6293\n",
      "Epoch 37/50\n",
      "163/163 [==============================] - 17s 102ms/step - loss: 0.0282 - acc: 0.9921 - val_loss: 8.7297 - val_acc: 0.6724\n",
      "Epoch 38/50\n",
      "163/163 [==============================] - 16s 100ms/step - loss: 0.0370 - acc: 0.9941 - val_loss: 6.7827 - val_acc: 0.6379\n",
      "Epoch 39/50\n",
      "163/163 [==============================] - 17s 102ms/step - loss: 0.0623 - acc: 0.9921 - val_loss: 17.1330 - val_acc: 0.6379\n",
      "Epoch 40/50\n",
      "163/163 [==============================] - 17s 102ms/step - loss: 0.0686 - acc: 0.9916 - val_loss: 7.9834 - val_acc: 0.6810\n",
      "Epoch 41/50\n",
      "163/163 [==============================] - 16s 98ms/step - loss: 0.0227 - acc: 0.9942 - val_loss: 20.0473 - val_acc: 0.6121\n",
      "Epoch 42/50\n",
      "163/163 [==============================] - 16s 98ms/step - loss: 0.0285 - acc: 0.9937 - val_loss: 17.0458 - val_acc: 0.6121\n",
      "Epoch 43/50\n",
      "163/163 [==============================] - 17s 102ms/step - loss: 0.0455 - acc: 0.9918 - val_loss: 18.4579 - val_acc: 0.6207\n",
      "Epoch 44/50\n",
      "163/163 [==============================] - 16s 100ms/step - loss: 0.0343 - acc: 0.9950 - val_loss: 3.5186 - val_acc: 0.6379\n",
      "Epoch 45/50\n",
      "163/163 [==============================] - 16s 100ms/step - loss: 0.0246 - acc: 0.9929 - val_loss: 8.8537 - val_acc: 0.6293\n",
      "Epoch 46/50\n",
      "163/163 [==============================] - 16s 99ms/step - loss: 0.0466 - acc: 0.9948 - val_loss: 19.1807 - val_acc: 0.6552\n",
      "Epoch 47/50\n",
      "163/163 [==============================] - 17s 102ms/step - loss: 0.0272 - acc: 0.9948 - val_loss: 11.8504 - val_acc: 0.6121\n",
      "Epoch 48/50\n",
      "163/163 [==============================] - 16s 100ms/step - loss: 0.0665 - acc: 0.9931 - val_loss: 7.0990 - val_acc: 0.6897\n",
      "Epoch 49/50\n",
      "163/163 [==============================] - 16s 100ms/step - loss: 0.0297 - acc: 0.9929 - val_loss: 15.6022 - val_acc: 0.6207\n",
      "Epoch 50/50\n",
      "163/163 [==============================] - 16s 100ms/step - loss: 0.0199 - acc: 0.9956 - val_loss: 18.3712 - val_acc: 0.6552\n"
     ]
    }
   ],
   "source": [
    "# Fit the CNN model\n",
    "CNNresults = CNNmodel.fit(train_images,\n",
    "                    y_train,\n",
    "                    epochs=50,\n",
    "                    batch_size=32,\n",
    "                    validation_data=(val_images, y_val))"
   ]
  },
  {
   "cell_type": "code",
   "execution_count": 31,
   "metadata": {},
   "outputs": [
    {
     "data": {
      "image/png": "[encoded data removed]",
      "text/plain": [
       "<Figure size 432x288 with 1 Axes>"
      ]
     },
     "metadata": {
      "needs_background": "light"
     },
     "output_type": "display_data"
    },
    {
     "data": {
      "image/png": "[encoded data removed]",
      "text/plain": [
       "<Figure size 432x288 with 1 Axes>"
      ]
     },
     "metadata": {
      "needs_background": "light"
     },
     "output_type": "display_data"
    }
   ],
   "source": [
    "# Visualize the training results\n",
    "visualize_training_results(CNNresults)"
   ]
  },
  {
   "cell_type": "markdown",
   "metadata": {},
   "source": [
    "### Data Augmentation"
   ]
  },
  {
   "cell_type": "code",
   "execution_count": 32,
   "metadata": {},
   "outputs": [],
   "source": [
    "# Reshape the training data for augmentation \n",
    "train_datagen = ImageDataGenerator(rescale=1./255, \n",
    "                                   rotation_range=15, \n",
    "                                   width_shift_range=0.2, \n",
    "                                   height_shift_range=0.2, \n",
    "                                   brightness_range=[1, 1.5], \n",
    "                                   zoom_range=0.2, \n",
    "                                   horizontal_flip=True)"
   ]
  },
  {
   "cell_type": "code",
   "execution_count": 33,
   "metadata": {},
   "outputs": [
    {
     "name": "stdout",
     "output_type": "stream",
     "text": [
      "Found 5216 images belonging to 2 classes.\n",
      "Found 524 images belonging to 2 classes.\n",
      "Found 116 images belonging to 2 classes.\n"
     ]
    }
   ],
   "source": [
    "# Get all the data in the training directory (in batches) and standardize\n",
    "train_generator_aug = train_datagen.flow_from_directory(\n",
    "    train_data_dir, target_size=(64, 64), \n",
    "    batch_size=32, seed=seed, class_mode='binary')\n",
    "\n",
    "# Get all the data in the test directory and standardize\n",
    "test_generator = ImageDataGenerator(rescale=1./255).flow_from_directory(\n",
    "    test_data_dir, target_size=(64, 64), \n",
    "    batch_size = 524, seed=seed, class_mode='binary') \n",
    "\n",
    "# Get all the data in the validation directory (in batches) and standardize\n",
    "val_generator = ImageDataGenerator(rescale=1./255).flow_from_directory(\n",
    "    validation_dir, target_size=(64, 64),\n",
    "    batch_size = 32, seed=seed, class_mode='binary')"
   ]
  },
  {
   "cell_type": "code",
   "execution_count": 34,
   "metadata": {},
   "outputs": [],
   "source": [
    "# Build a CNN model framework using the augmented training data\n",
    "augCNNmodel = Sequential()\n",
    "augCNNmodel.add(Conv2D(32, (3, 3), activation='relu',\n",
    "                        input_shape=(64 ,64,  3)))\n",
    "augCNNmodel.add(MaxPooling2D((2, 2)))\n",
    "\n",
    "augCNNmodel.add(Conv2D(32, (4, 4), activation='relu'))\n",
    "augCNNmodel.add(MaxPooling2D((2, 2)))\n",
    "\n",
    "augCNNmodel.add(Conv2D(64, (3, 3), activation='relu'))\n",
    "augCNNmodel.add(MaxPooling2D((2, 2)))\n",
    "\n",
    "augCNNmodel.add(Flatten())\n",
    "augCNNmodel.add(Dense(64, activation='relu'))\n",
    "augCNNmodel.add(Dense(1, activation='sigmoid'))\n",
    "\n",
    "augCNNmodel.compile(loss='binary_crossentropy',\n",
    "              optimizer=optimizers.RMSprop(learning_rate=1e-4),\n",
    "              metrics=['acc'])"
   ]
  },
  {
   "cell_type": "code",
   "execution_count": 35,
   "metadata": {},
   "outputs": [],
   "source": [
    "#Create a file name object for the best model checkpoint\n",
    "model_filepath = 'best_aug_model.h5'\n",
    "\n",
    "# Set early stopping and model checkpoint parameters\n",
    "early_stopping = [EarlyStopping(monitor='val_loss', patience=5), \n",
    "                  ModelCheckpoint(filepath=model_filepath, monitor='val_loss', save_best_only=True)]"
   ]
  },
  {
   "cell_type": "code",
   "execution_count": 36,
   "metadata": {},
   "outputs": [
    {
     "name": "stdout",
     "output_type": "stream",
     "text": [
      "Epoch 1/32\n",
      "163/163 [==============================] - 144s 886ms/step - loss: 0.5508 - acc: 0.7429 - val_loss: 0.7118 - val_acc: 0.5000\n",
      "Epoch 2/32\n",
      "163/163 [==============================] - 88s 542ms/step - loss: 0.4878 - acc: 0.7604 - val_loss: 0.6115 - val_acc: 0.6379\n",
      "Epoch 3/32\n",
      "163/163 [==============================] - 89s 546ms/step - loss: 0.4392 - acc: 0.7887 - val_loss: 0.5346 - val_acc: 0.7672\n",
      "Epoch 4/32\n",
      "163/163 [==============================] - 89s 546ms/step - loss: 0.4089 - acc: 0.8067 - val_loss: 0.5031 - val_acc: 0.7759\n",
      "Epoch 5/32\n",
      "163/163 [==============================] - 88s 542ms/step - loss: 0.3951 - acc: 0.8179 - val_loss: 0.4841 - val_acc: 0.8103\n",
      "Epoch 6/32\n",
      "163/163 [==============================] - 88s 540ms/step - loss: 0.3715 - acc: 0.8324 - val_loss: 0.5144 - val_acc: 0.7414\n",
      "Epoch 7/32\n",
      "163/163 [==============================] - 89s 543ms/step - loss: 0.3605 - acc: 0.8391 - val_loss: 0.5075 - val_acc: 0.7672\n",
      "Epoch 8/32\n",
      "163/163 [==============================] - 88s 543ms/step - loss: 0.3553 - acc: 0.8361 - val_loss: 0.5713 - val_acc: 0.6379\n",
      "Epoch 9/32\n",
      "163/163 [==============================] - 88s 538ms/step - loss: 0.3396 - acc: 0.8464 - val_loss: 0.4762 - val_acc: 0.8103\n",
      "Epoch 10/32\n",
      "163/163 [==============================] - 89s 546ms/step - loss: 0.3274 - acc: 0.8520 - val_loss: 0.4597 - val_acc: 0.8190\n",
      "Epoch 11/32\n",
      "163/163 [==============================] - 90s 551ms/step - loss: 0.3209 - acc: 0.8583 - val_loss: 0.4563 - val_acc: 0.7931\n",
      "Epoch 12/32\n",
      "163/163 [==============================] - 88s 540ms/step - loss: 0.3039 - acc: 0.8641 - val_loss: 0.6806 - val_acc: 0.5345\n",
      "Epoch 13/32\n",
      "163/163 [==============================] - 88s 540ms/step - loss: 0.2975 - acc: 0.8702 - val_loss: 0.4859 - val_acc: 0.7500\n",
      "Epoch 14/32\n",
      "163/163 [==============================] - 89s 543ms/step - loss: 0.2980 - acc: 0.8694 - val_loss: 0.4272 - val_acc: 0.7931\n",
      "Epoch 15/32\n",
      "163/163 [==============================] - 87s 537ms/step - loss: 0.2925 - acc: 0.8681 - val_loss: 0.4851 - val_acc: 0.7845\n",
      "Epoch 16/32\n",
      "163/163 [==============================] - 88s 543ms/step - loss: 0.2889 - acc: 0.8727 - val_loss: 0.4361 - val_acc: 0.8103\n",
      "Epoch 17/32\n",
      "163/163 [==============================] - 88s 542ms/step - loss: 0.2756 - acc: 0.8783 - val_loss: 0.5870 - val_acc: 0.6293\n",
      "Epoch 18/32\n",
      "163/163 [==============================] - 87s 535ms/step - loss: 0.2769 - acc: 0.8790 - val_loss: 0.8189 - val_acc: 0.5086\n",
      "Epoch 19/32\n",
      "163/163 [==============================] - 87s 533ms/step - loss: 0.2799 - acc: 0.8811 - val_loss: 0.4954 - val_acc: 0.7328\n"
     ]
    }
   ],
   "source": [
    "# Fit the augmented CNN model\n",
    "augCNNresults = augCNNmodel.fit(train_generator_aug,\n",
    "                                epochs=32,\n",
    "                                callbacks=early_stopping,\n",
    "                                validation_data=val_generator)"
   ]
  },
  {
   "cell_type": "code",
   "execution_count": 37,
   "metadata": {},
   "outputs": [
    {
     "name": "stdout",
     "output_type": "stream",
     "text": [
      "163/163 [==============================] - 84s 517ms/step - loss: 0.2748 - acc: 0.8865\n",
      "Training Loss: 0.275 \n",
      "Training Accuracy: 0.887\n",
      "----------\n",
      "4/4 [==============================] - 1s 340ms/step - loss: 0.4272 - acc: 0.7931\n",
      "Validation Loss: 0.427 \n",
      "Validation Accuracy: 0.793\n"
     ]
    }
   ],
   "source": [
    "# Load the best (saved) model for the augmented data\n",
    "saved_model = load_model(model_filepath)\n",
    "\n",
    "# Calculate the loss and accuracy scores for both training datasets\n",
    "results_train = saved_model.evaluate(train_generator_aug)\n",
    "print(f'Training Loss: {results_train[0]:.3} \\nTraining Accuracy: {results_train[1]:.3}')\n",
    "\n",
    "print('----------')\n",
    "\n",
    "results_val = saved_model.evaluate(val_generator)\n",
    "print(f'Validation Loss: {results_val[0]:.3} \\nValidation Accuracy: {results_val[1]:.3}')"
   ]
  },
  {
   "cell_type": "code",
   "execution_count": 38,
   "metadata": {},
   "outputs": [
    {
     "data": {
      "image/png": "[encoded data removed]",
      "text/plain": [
       "<Figure size 432x288 with 1 Axes>"
      ]
     },
     "metadata": {
      "needs_background": "light"
     },
     "output_type": "display_data"
    },
    {
     "data": {
      "image/png": "[encoded data removed]",
      "text/plain": [
       "<Figure size 432x288 with 1 Axes>"
      ]
     },
     "metadata": {
      "needs_background": "light"
     },
     "output_type": "display_data"
    }
   ],
   "source": [
    "# Plot the training results\n",
    "visualize_training_results(augCNNresults)"
   ]
  },
  {
   "cell_type": "markdown",
   "metadata": {},
   "source": [
    "### Transfer Learning Approach:"
   ]
  },
  {
   "cell_type": "code",
   "execution_count": 39,
   "metadata": {
    "scrolled": true
   },
   "outputs": [
    {
     "name": "stdout",
     "output_type": "stream",
     "text": [
      "Model: \"resnet50\"\n",
      "__________________________________________________________________________________________________\n",
      "Layer (type)                    Output Shape         Param #     Connected to                     \n",
      "==================================================================================================\n",
      "input_1 (InputLayer)            [(None, 64, 64, 3)]  0                                            \n",
      "__________________________________________________________________________________________________\n",
      "conv1_pad (ZeroPadding2D)       (None, 70, 70, 3)    0           input_1[0][0]                    \n",
      "__________________________________________________________________________________________________\n",
      "conv1_conv (Conv2D)             (None, 32, 32, 64)   9472        conv1_pad[0][0]                  \n",
      "__________________________________________________________________________________________________\n",
      "conv1_bn (BatchNormalization)   (None, 32, 32, 64)   256         conv1_conv[0][0]                 \n",
      "__________________________________________________________________________________________________\n",
      "conv1_relu (Activation)         (None, 32, 32, 64)   0           conv1_bn[0][0]                   \n",
      "__________________________________________________________________________________________________\n",
      "pool1_pad (ZeroPadding2D)       (None, 34, 34, 64)   0           conv1_relu[0][0]                 \n",
      "__________________________________________________________________________________________________\n",
      "pool1_pool (MaxPooling2D)       (None, 16, 16, 64)   0           pool1_pad[0][0]                  \n",
      "__________________________________________________________________________________________________\n",
      "conv2_block1_1_conv (Conv2D)    (None, 16, 16, 64)   4160        pool1_pool[0][0]                 \n",
      "__________________________________________________________________________________________________\n",
      "conv2_block1_1_bn (BatchNormali (None, 16, 16, 64)   256         conv2_block1_1_conv[0][0]        \n",
      "__________________________________________________________________________________________________\n",
      "conv2_block1_1_relu (Activation (None, 16, 16, 64)   0           conv2_block1_1_bn[0][0]          \n",
      "__________________________________________________________________________________________________\n",
      "conv2_block1_2_conv (Conv2D)    (None, 16, 16, 64)   36928       conv2_block1_1_relu[0][0]        \n",
      "__________________________________________________________________________________________________\n",
      "conv2_block1_2_bn (BatchNormali (None, 16, 16, 64)   256         conv2_block1_2_conv[0][0]        \n",
      "__________________________________________________________________________________________________\n",
      "conv2_block1_2_relu (Activation (None, 16, 16, 64)   0           conv2_block1_2_bn[0][0]          \n",
      "__________________________________________________________________________________________________\n",
      "conv2_block1_0_conv (Conv2D)    (None, 16, 16, 256)  16640       pool1_pool[0][0]                 \n",
      "__________________________________________________________________________________________________\n",
      "conv2_block1_3_conv (Conv2D)    (None, 16, 16, 256)  16640       conv2_block1_2_relu[0][0]        \n",
      "__________________________________________________________________________________________________\n",
      "conv2_block1_0_bn (BatchNormali (None, 16, 16, 256)  1024        conv2_block1_0_conv[0][0]        \n",
      "__________________________________________________________________________________________________\n",
      "conv2_block1_3_bn (BatchNormali (None, 16, 16, 256)  1024        conv2_block1_3_conv[0][0]        \n",
      "__________________________________________________________________________________________________\n",
      "conv2_block1_add (Add)          (None, 16, 16, 256)  0           conv2_block1_0_bn[0][0]          \n",
      "                                                                 conv2_block1_3_bn[0][0]          \n",
      "__________________________________________________________________________________________________\n",
      "conv2_block1_out (Activation)   (None, 16, 16, 256)  0           conv2_block1_add[0][0]           \n",
      "__________________________________________________________________________________________________\n",
      "conv2_block2_1_conv (Conv2D)    (None, 16, 16, 64)   16448       conv2_block1_out[0][0]           \n",
      "__________________________________________________________________________________________________\n",
      "conv2_block2_1_bn (BatchNormali (None, 16, 16, 64)   256         conv2_block2_1_conv[0][0]        \n",
      "__________________________________________________________________________________________________\n",
      "conv2_block2_1_relu (Activation (None, 16, 16, 64)   0           conv2_block2_1_bn[0][0]          \n",
      "__________________________________________________________________________________________________\n",
      "conv2_block2_2_conv (Conv2D)    (None, 16, 16, 64)   36928       conv2_block2_1_relu[0][0]        \n",
      "__________________________________________________________________________________________________\n",
      "conv2_block2_2_bn (BatchNormali (None, 16, 16, 64)   256         conv2_block2_2_conv[0][0]        \n",
      "__________________________________________________________________________________________________\n",
      "conv2_block2_2_relu (Activation (None, 16, 16, 64)   0           conv2_block2_2_bn[0][0]          \n",
      "__________________________________________________________________________________________________\n",
      "conv2_block2_3_conv (Conv2D)    (None, 16, 16, 256)  16640       conv2_block2_2_relu[0][0]        \n",
      "__________________________________________________________________________________________________\n",
      "conv2_block2_3_bn (BatchNormali (None, 16, 16, 256)  1024        conv2_block2_3_conv[0][0]        \n",
      "__________________________________________________________________________________________________\n",
      "conv2_block2_add (Add)          (None, 16, 16, 256)  0           conv2_block1_out[0][0]           \n",
      "                                                                 conv2_block2_3_bn[0][0]          \n",
      "__________________________________________________________________________________________________\n",
      "conv2_block2_out (Activation)   (None, 16, 16, 256)  0           conv2_block2_add[0][0]           \n",
      "__________________________________________________________________________________________________\n",
      "conv2_block3_1_conv (Conv2D)    (None, 16, 16, 64)   16448       conv2_block2_out[0][0]           \n",
      "__________________________________________________________________________________________________\n",
      "conv2_block3_1_bn (BatchNormali (None, 16, 16, 64)   256         conv2_block3_1_conv[0][0]        \n",
      "__________________________________________________________________________________________________\n",
      "conv2_block3_1_relu (Activation (None, 16, 16, 64)   0           conv2_block3_1_bn[0][0]          \n",
      "__________________________________________________________________________________________________\n",
      "conv2_block3_2_conv (Conv2D)    (None, 16, 16, 64)   36928       conv2_block3_1_relu[0][0]        \n",
      "__________________________________________________________________________________________________\n",
      "conv2_block3_2_bn (BatchNormali (None, 16, 16, 64)   256         conv2_block3_2_conv[0][0]        \n",
      "__________________________________________________________________________________________________\n",
      "conv2_block3_2_relu (Activation (None, 16, 16, 64)   0           conv2_block3_2_bn[0][0]          \n",
      "__________________________________________________________________________________________________\n",
      "conv2_block3_3_conv (Conv2D)    (None, 16, 16, 256)  16640       conv2_block3_2_relu[0][0]        \n",
      "__________________________________________________________________________________________________\n",
      "conv2_block3_3_bn (BatchNormali (None, 16, 16, 256)  1024        conv2_block3_3_conv[0][0]        \n",
      "__________________________________________________________________________________________________\n",
      "conv2_block3_add (Add)          (None, 16, 16, 256)  0           conv2_block2_out[0][0]           \n",
      "                                                                 conv2_block3_3_bn[0][0]          \n",
      "__________________________________________________________________________________________________\n",
      "conv2_block3_out (Activation)   (None, 16, 16, 256)  0           conv2_block3_add[0][0]           \n",
      "__________________________________________________________________________________________________\n",
      "conv3_block1_1_conv (Conv2D)    (None, 8, 8, 128)    32896       conv2_block3_out[0][0]           \n",
      "__________________________________________________________________________________________________\n",
      "conv3_block1_1_bn (BatchNormali (None, 8, 8, 128)    512         conv3_block1_1_conv[0][0]        \n",
      "__________________________________________________________________________________________________\n",
      "conv3_block1_1_relu (Activation (None, 8, 8, 128)    0           conv3_block1_1_bn[0][0]          \n",
      "__________________________________________________________________________________________________\n",
      "conv3_block1_2_conv (Conv2D)    (None, 8, 8, 128)    147584      conv3_block1_1_relu[0][0]        \n",
      "__________________________________________________________________________________________________\n",
      "conv3_block1_2_bn (BatchNormali (None, 8, 8, 128)    512         conv3_block1_2_conv[0][0]        \n",
      "__________________________________________________________________________________________________\n",
      "conv3_block1_2_relu (Activation (None, 8, 8, 128)    0           conv3_block1_2_bn[0][0]          \n",
      "__________________________________________________________________________________________________\n",
      "conv3_block1_0_conv (Conv2D)    (None, 8, 8, 512)    131584      conv2_block3_out[0][0]           \n",
      "__________________________________________________________________________________________________\n",
      "conv3_block1_3_conv (Conv2D)    (None, 8, 8, 512)    66048       conv3_block1_2_relu[0][0]        \n",
      "__________________________________________________________________________________________________\n",
      "conv3_block1_0_bn (BatchNormali (None, 8, 8, 512)    2048        conv3_block1_0_conv[0][0]        \n",
      "__________________________________________________________________________________________________\n",
      "conv3_block1_3_bn (BatchNormali (None, 8, 8, 512)    2048        conv3_block1_3_conv[0][0]        \n",
      "__________________________________________________________________________________________________\n",
      "conv3_block1_add (Add)          (None, 8, 8, 512)    0           conv3_block1_0_bn[0][0]          \n",
      "                                                                 conv3_block1_3_bn[0][0]          \n",
      "__________________________________________________________________________________________________\n",
      "conv3_block1_out (Activation)   (None, 8, 8, 512)    0           conv3_block1_add[0][0]           \n",
      "__________________________________________________________________________________________________\n",
      "conv3_block2_1_conv (Conv2D)    (None, 8, 8, 128)    65664       conv3_block1_out[0][0]           \n",
      "__________________________________________________________________________________________________\n",
      "conv3_block2_1_bn (BatchNormali (None, 8, 8, 128)    512         conv3_block2_1_conv[0][0]        \n",
      "__________________________________________________________________________________________________\n",
      "conv3_block2_1_relu (Activation (None, 8, 8, 128)    0           conv3_block2_1_bn[0][0]          \n",
      "__________________________________________________________________________________________________\n",
      "conv3_block2_2_conv (Conv2D)    (None, 8, 8, 128)    147584      conv3_block2_1_relu[0][0]        \n",
      "__________________________________________________________________________________________________\n",
      "conv3_block2_2_bn (BatchNormali (None, 8, 8, 128)    512         conv3_block2_2_conv[0][0]        \n",
      "__________________________________________________________________________________________________\n",
      "conv3_block2_2_relu (Activation (None, 8, 8, 128)    0           conv3_block2_2_bn[0][0]          \n",
      "__________________________________________________________________________________________________\n",
      "conv3_block2_3_conv (Conv2D)    (None, 8, 8, 512)    66048       conv3_block2_2_relu[0][0]        \n",
      "__________________________________________________________________________________________________\n",
      "conv3_block2_3_bn (BatchNormali (None, 8, 8, 512)    2048        conv3_block2_3_conv[0][0]        \n",
      "__________________________________________________________________________________________________\n",
      "conv3_block2_add (Add)          (None, 8, 8, 512)    0           conv3_block1_out[0][0]           \n",
      "                                                                 conv3_block2_3_bn[0][0]          \n",
      "__________________________________________________________________________________________________\n",
      "conv3_block2_out (Activation)   (None, 8, 8, 512)    0           conv3_block2_add[0][0]           \n",
      "__________________________________________________________________________________________________\n",
      "conv3_block3_1_conv (Conv2D)    (None, 8, 8, 128)    65664       conv3_block2_out[0][0]           \n",
      "__________________________________________________________________________________________________\n",
      "conv3_block3_1_bn (BatchNormali (None, 8, 8, 128)    512         conv3_block3_1_conv[0][0]        \n",
      "__________________________________________________________________________________________________\n",
      "conv3_block3_1_relu (Activation (None, 8, 8, 128)    0           conv3_block3_1_bn[0][0]          \n",
      "__________________________________________________________________________________________________\n",
      "conv3_block3_2_conv (Conv2D)    (None, 8, 8, 128)    147584      conv3_block3_1_relu[0][0]        \n",
      "__________________________________________________________________________________________________\n",
      "conv3_block3_2_bn (BatchNormali (None, 8, 8, 128)    512         conv3_block3_2_conv[0][0]        \n",
      "__________________________________________________________________________________________________\n",
      "conv3_block3_2_relu (Activation (None, 8, 8, 128)    0           conv3_block3_2_bn[0][0]          \n",
      "__________________________________________________________________________________________________\n",
      "conv3_block3_3_conv (Conv2D)    (None, 8, 8, 512)    66048       conv3_block3_2_relu[0][0]        \n",
      "__________________________________________________________________________________________________\n",
      "conv3_block3_3_bn (BatchNormali (None, 8, 8, 512)    2048        conv3_block3_3_conv[0][0]        \n",
      "__________________________________________________________________________________________________\n",
      "conv3_block3_add (Add)          (None, 8, 8, 512)    0           conv3_block2_out[0][0]           \n",
      "                                                                 conv3_block3_3_bn[0][0]          \n",
      "__________________________________________________________________________________________________\n",
      "conv3_block3_out (Activation)   (None, 8, 8, 512)    0           conv3_block3_add[0][0]           \n",
      "__________________________________________________________________________________________________\n",
      "conv3_block4_1_conv (Conv2D)    (None, 8, 8, 128)    65664       conv3_block3_out[0][0]           \n",
      "__________________________________________________________________________________________________\n",
      "conv3_block4_1_bn (BatchNormali (None, 8, 8, 128)    512         conv3_block4_1_conv[0][0]        \n",
      "__________________________________________________________________________________________________\n",
      "conv3_block4_1_relu (Activation (None, 8, 8, 128)    0           conv3_block4_1_bn[0][0]          \n",
      "__________________________________________________________________________________________________\n",
      "conv3_block4_2_conv (Conv2D)    (None, 8, 8, 128)    147584      conv3_block4_1_relu[0][0]        \n",
      "__________________________________________________________________________________________________\n",
      "conv3_block4_2_bn (BatchNormali (None, 8, 8, 128)    512         conv3_block4_2_conv[0][0]        \n",
      "__________________________________________________________________________________________________\n",
      "conv3_block4_2_relu (Activation (None, 8, 8, 128)    0           conv3_block4_2_bn[0][0]          \n",
      "__________________________________________________________________________________________________\n",
      "conv3_block4_3_conv (Conv2D)    (None, 8, 8, 512)    66048       conv3_block4_2_relu[0][0]        \n",
      "__________________________________________________________________________________________________\n",
      "conv3_block4_3_bn (BatchNormali (None, 8, 8, 512)    2048        conv3_block4_3_conv[0][0]        \n",
      "__________________________________________________________________________________________________\n",
      "conv3_block4_add (Add)          (None, 8, 8, 512)    0           conv3_block3_out[0][0]           \n",
      "                                                                 conv3_block4_3_bn[0][0]          \n",
      "__________________________________________________________________________________________________\n",
      "conv3_block4_out (Activation)   (None, 8, 8, 512)    0           conv3_block4_add[0][0]           \n",
      "__________________________________________________________________________________________________\n",
      "conv4_block1_1_conv (Conv2D)    (None, 4, 4, 256)    131328      conv3_block4_out[0][0]           \n",
      "__________________________________________________________________________________________________\n",
      "conv4_block1_1_bn (BatchNormali (None, 4, 4, 256)    1024        conv4_block1_1_conv[0][0]        \n",
      "__________________________________________________________________________________________________\n",
      "conv4_block1_1_relu (Activation (None, 4, 4, 256)    0           conv4_block1_1_bn[0][0]          \n",
      "__________________________________________________________________________________________________\n",
      "conv4_block1_2_conv (Conv2D)    (None, 4, 4, 256)    590080      conv4_block1_1_relu[0][0]        \n",
      "__________________________________________________________________________________________________\n",
      "conv4_block1_2_bn (BatchNormali (None, 4, 4, 256)    1024        conv4_block1_2_conv[0][0]        \n",
      "__________________________________________________________________________________________________\n",
      "conv4_block1_2_relu (Activation (None, 4, 4, 256)    0           conv4_block1_2_bn[0][0]          \n",
      "__________________________________________________________________________________________________\n",
      "conv4_block1_0_conv (Conv2D)    (None, 4, 4, 1024)   525312      conv3_block4_out[0][0]           \n",
      "__________________________________________________________________________________________________\n",
      "conv4_block1_3_conv (Conv2D)    (None, 4, 4, 1024)   263168      conv4_block1_2_relu[0][0]        \n",
      "__________________________________________________________________________________________________\n",
      "conv4_block1_0_bn (BatchNormali (None, 4, 4, 1024)   4096        conv4_block1_0_conv[0][0]        \n",
      "__________________________________________________________________________________________________\n",
      "conv4_block1_3_bn (BatchNormali (None, 4, 4, 1024)   4096        conv4_block1_3_conv[0][0]        \n",
      "__________________________________________________________________________________________________\n",
      "conv4_block1_add (Add)          (None, 4, 4, 1024)   0           conv4_block1_0_bn[0][0]          \n",
      "                                                                 conv4_block1_3_bn[0][0]          \n",
      "__________________________________________________________________________________________________\n",
      "conv4_block1_out (Activation)   (None, 4, 4, 1024)   0           conv4_block1_add[0][0]           \n",
      "__________________________________________________________________________________________________\n",
      "conv4_block2_1_conv (Conv2D)    (None, 4, 4, 256)    262400      conv4_block1_out[0][0]           \n",
      "__________________________________________________________________________________________________\n",
      "conv4_block2_1_bn (BatchNormali (None, 4, 4, 256)    1024        conv4_block2_1_conv[0][0]        \n",
      "__________________________________________________________________________________________________\n",
      "conv4_block2_1_relu (Activation (None, 4, 4, 256)    0           conv4_block2_1_bn[0][0]          \n",
      "__________________________________________________________________________________________________\n",
      "conv4_block2_2_conv (Conv2D)    (None, 4, 4, 256)    590080      conv4_block2_1_relu[0][0]        \n",
      "__________________________________________________________________________________________________\n",
      "conv4_block2_2_bn (BatchNormali (None, 4, 4, 256)    1024        conv4_block2_2_conv[0][0]        \n",
      "__________________________________________________________________________________________________\n",
      "conv4_block2_2_relu (Activation (None, 4, 4, 256)    0           conv4_block2_2_bn[0][0]          \n",
      "__________________________________________________________________________________________________\n",
      "conv4_block2_3_conv (Conv2D)    (None, 4, 4, 1024)   263168      conv4_block2_2_relu[0][0]        \n",
      "__________________________________________________________________________________________________\n",
      "conv4_block2_3_bn (BatchNormali (None, 4, 4, 1024)   4096        conv4_block2_3_conv[0][0]        \n",
      "__________________________________________________________________________________________________\n",
      "conv4_block2_add (Add)          (None, 4, 4, 1024)   0           conv4_block1_out[0][0]           \n",
      "                                                                 conv4_block2_3_bn[0][0]          \n",
      "__________________________________________________________________________________________________\n",
      "conv4_block2_out (Activation)   (None, 4, 4, 1024)   0           conv4_block2_add[0][0]           \n",
      "__________________________________________________________________________________________________\n",
      "conv4_block3_1_conv (Conv2D)    (None, 4, 4, 256)    262400      conv4_block2_out[0][0]           \n",
      "__________________________________________________________________________________________________\n",
      "conv4_block3_1_bn (BatchNormali (None, 4, 4, 256)    1024        conv4_block3_1_conv[0][0]        \n",
      "__________________________________________________________________________________________________\n",
      "conv4_block3_1_relu (Activation (None, 4, 4, 256)    0           conv4_block3_1_bn[0][0]          \n",
      "__________________________________________________________________________________________________\n",
      "conv4_block3_2_conv (Conv2D)    (None, 4, 4, 256)    590080      conv4_block3_1_relu[0][0]        \n",
      "__________________________________________________________________________________________________\n",
      "conv4_block3_2_bn (BatchNormali (None, 4, 4, 256)    1024        conv4_block3_2_conv[0][0]        \n",
      "__________________________________________________________________________________________________\n",
      "conv4_block3_2_relu (Activation (None, 4, 4, 256)    0           conv4_block3_2_bn[0][0]          \n",
      "__________________________________________________________________________________________________\n",
      "conv4_block3_3_conv (Conv2D)    (None, 4, 4, 1024)   263168      conv4_block3_2_relu[0][0]        \n",
      "__________________________________________________________________________________________________\n",
      "conv4_block3_3_bn (BatchNormali (None, 4, 4, 1024)   4096        conv4_block3_3_conv[0][0]        \n",
      "__________________________________________________________________________________________________\n",
      "conv4_block3_add (Add)          (None, 4, 4, 1024)   0           conv4_block2_out[0][0]           \n",
      "                                                                 conv4_block3_3_bn[0][0]          \n",
      "__________________________________________________________________________________________________\n",
      "conv4_block3_out (Activation)   (None, 4, 4, 1024)   0           conv4_block3_add[0][0]           \n",
      "__________________________________________________________________________________________________\n",
      "conv4_block4_1_conv (Conv2D)    (None, 4, 4, 256)    262400      conv4_block3_out[0][0]           \n",
      "__________________________________________________________________________________________________\n",
      "conv4_block4_1_bn (BatchNormali (None, 4, 4, 256)    1024        conv4_block4_1_conv[0][0]        \n",
      "__________________________________________________________________________________________________\n",
      "conv4_block4_1_relu (Activation (None, 4, 4, 256)    0           conv4_block4_1_bn[0][0]          \n",
      "__________________________________________________________________________________________________\n",
      "conv4_block4_2_conv (Conv2D)    (None, 4, 4, 256)    590080      conv4_block4_1_relu[0][0]        \n",
      "__________________________________________________________________________________________________\n",
      "conv4_block4_2_bn (BatchNormali (None, 4, 4, 256)    1024        conv4_block4_2_conv[0][0]        \n",
      "__________________________________________________________________________________________________\n",
      "conv4_block4_2_relu (Activation (None, 4, 4, 256)    0           conv4_block4_2_bn[0][0]          \n",
      "__________________________________________________________________________________________________\n",
      "conv4_block4_3_conv (Conv2D)    (None, 4, 4, 1024)   263168      conv4_block4_2_relu[0][0]        \n",
      "__________________________________________________________________________________________________\n",
      "conv4_block4_3_bn (BatchNormali (None, 4, 4, 1024)   4096        conv4_block4_3_conv[0][0]        \n",
      "__________________________________________________________________________________________________\n",
      "conv4_block4_add (Add)          (None, 4, 4, 1024)   0           conv4_block3_out[0][0]           \n",
      "                                                                 conv4_block4_3_bn[0][0]          \n",
      "__________________________________________________________________________________________________\n",
      "conv4_block4_out (Activation)   (None, 4, 4, 1024)   0           conv4_block4_add[0][0]           \n",
      "__________________________________________________________________________________________________\n",
      "conv4_block5_1_conv (Conv2D)    (None, 4, 4, 256)    262400      conv4_block4_out[0][0]           \n",
      "__________________________________________________________________________________________________\n",
      "conv4_block5_1_bn (BatchNormali (None, 4, 4, 256)    1024        conv4_block5_1_conv[0][0]        \n",
      "__________________________________________________________________________________________________\n",
      "conv4_block5_1_relu (Activation (None, 4, 4, 256)    0           conv4_block5_1_bn[0][0]          \n",
      "__________________________________________________________________________________________________\n",
      "conv4_block5_2_conv (Conv2D)    (None, 4, 4, 256)    590080      conv4_block5_1_relu[0][0]        \n",
      "__________________________________________________________________________________________________\n",
      "conv4_block5_2_bn (BatchNormali (None, 4, 4, 256)    1024        conv4_block5_2_conv[0][0]        \n",
      "__________________________________________________________________________________________________\n",
      "conv4_block5_2_relu (Activation (None, 4, 4, 256)    0           conv4_block5_2_bn[0][0]          \n",
      "__________________________________________________________________________________________________\n",
      "conv4_block5_3_conv (Conv2D)    (None, 4, 4, 1024)   263168      conv4_block5_2_relu[0][0]        \n",
      "__________________________________________________________________________________________________\n",
      "conv4_block5_3_bn (BatchNormali (None, 4, 4, 1024)   4096        conv4_block5_3_conv[0][0]        \n",
      "__________________________________________________________________________________________________\n",
      "conv4_block5_add (Add)          (None, 4, 4, 1024)   0           conv4_block4_out[0][0]           \n",
      "                                                                 conv4_block5_3_bn[0][0]          \n",
      "__________________________________________________________________________________________________\n",
      "conv4_block5_out (Activation)   (None, 4, 4, 1024)   0           conv4_block5_add[0][0]           \n",
      "__________________________________________________________________________________________________\n",
      "conv4_block6_1_conv (Conv2D)    (None, 4, 4, 256)    262400      conv4_block5_out[0][0]           \n",
      "__________________________________________________________________________________________________\n",
      "conv4_block6_1_bn (BatchNormali (None, 4, 4, 256)    1024        conv4_block6_1_conv[0][0]        \n",
      "__________________________________________________________________________________________________\n",
      "conv4_block6_1_relu (Activation (None, 4, 4, 256)    0           conv4_block6_1_bn[0][0]          \n",
      "__________________________________________________________________________________________________\n",
      "conv4_block6_2_conv (Conv2D)    (None, 4, 4, 256)    590080      conv4_block6_1_relu[0][0]        \n",
      "__________________________________________________________________________________________________\n",
      "conv4_block6_2_bn (BatchNormali (None, 4, 4, 256)    1024        conv4_block6_2_conv[0][0]        \n",
      "__________________________________________________________________________________________________\n",
      "conv4_block6_2_relu (Activation (None, 4, 4, 256)    0           conv4_block6_2_bn[0][0]          \n",
      "__________________________________________________________________________________________________\n",
      "conv4_block6_3_conv (Conv2D)    (None, 4, 4, 1024)   263168      conv4_block6_2_relu[0][0]        \n",
      "__________________________________________________________________________________________________\n",
      "conv4_block6_3_bn (BatchNormali (None, 4, 4, 1024)   4096        conv4_block6_3_conv[0][0]        \n",
      "__________________________________________________________________________________________________\n",
      "conv4_block6_add (Add)          (None, 4, 4, 1024)   0           conv4_block5_out[0][0]           \n",
      "                                                                 conv4_block6_3_bn[0][0]          \n",
      "__________________________________________________________________________________________________\n",
      "conv4_block6_out (Activation)   (None, 4, 4, 1024)   0           conv4_block6_add[0][0]           \n",
      "__________________________________________________________________________________________________\n",
      "conv5_block1_1_conv (Conv2D)    (None, 2, 2, 512)    524800      conv4_block6_out[0][0]           \n",
      "__________________________________________________________________________________________________\n",
      "conv5_block1_1_bn (BatchNormali (None, 2, 2, 512)    2048        conv5_block1_1_conv[0][0]        \n",
      "__________________________________________________________________________________________________\n",
      "conv5_block1_1_relu (Activation (None, 2, 2, 512)    0           conv5_block1_1_bn[0][0]          \n",
      "__________________________________________________________________________________________________\n",
      "conv5_block1_2_conv (Conv2D)    (None, 2, 2, 512)    2359808     conv5_block1_1_relu[0][0]        \n",
      "__________________________________________________________________________________________________\n",
      "conv5_block1_2_bn (BatchNormali (None, 2, 2, 512)    2048        conv5_block1_2_conv[0][0]        \n",
      "__________________________________________________________________________________________________\n",
      "conv5_block1_2_relu (Activation (None, 2, 2, 512)    0           conv5_block1_2_bn[0][0]          \n",
      "__________________________________________________________________________________________________\n",
      "conv5_block1_0_conv (Conv2D)    (None, 2, 2, 2048)   2099200     conv4_block6_out[0][0]           \n",
      "__________________________________________________________________________________________________\n",
      "conv5_block1_3_conv (Conv2D)    (None, 2, 2, 2048)   1050624     conv5_block1_2_relu[0][0]        \n",
      "__________________________________________________________________________________________________\n",
      "conv5_block1_0_bn (BatchNormali (None, 2, 2, 2048)   8192        conv5_block1_0_conv[0][0]        \n",
      "__________________________________________________________________________________________________\n",
      "conv5_block1_3_bn (BatchNormali (None, 2, 2, 2048)   8192        conv5_block1_3_conv[0][0]        \n",
      "__________________________________________________________________________________________________\n",
      "conv5_block1_add (Add)          (None, 2, 2, 2048)   0           conv5_block1_0_bn[0][0]          \n",
      "                                                                 conv5_block1_3_bn[0][0]          \n",
      "__________________________________________________________________________________________________\n",
      "conv5_block1_out (Activation)   (None, 2, 2, 2048)   0           conv5_block1_add[0][0]           \n",
      "__________________________________________________________________________________________________\n",
      "conv5_block2_1_conv (Conv2D)    (None, 2, 2, 512)    1049088     conv5_block1_out[0][0]           \n",
      "__________________________________________________________________________________________________\n",
      "conv5_block2_1_bn (BatchNormali (None, 2, 2, 512)    2048        conv5_block2_1_conv[0][0]        \n",
      "__________________________________________________________________________________________________\n",
      "conv5_block2_1_relu (Activation (None, 2, 2, 512)    0           conv5_block2_1_bn[0][0]          \n",
      "__________________________________________________________________________________________________\n",
      "conv5_block2_2_conv (Conv2D)    (None, 2, 2, 512)    2359808     conv5_block2_1_relu[0][0]        \n",
      "__________________________________________________________________________________________________\n",
      "conv5_block2_2_bn (BatchNormali (None, 2, 2, 512)    2048        conv5_block2_2_conv[0][0]        \n",
      "__________________________________________________________________________________________________\n",
      "conv5_block2_2_relu (Activation (None, 2, 2, 512)    0           conv5_block2_2_bn[0][0]          \n",
      "__________________________________________________________________________________________________\n",
      "conv5_block2_3_conv (Conv2D)    (None, 2, 2, 2048)   1050624     conv5_block2_2_relu[0][0]        \n",
      "__________________________________________________________________________________________________\n",
      "conv5_block2_3_bn (BatchNormali (None, 2, 2, 2048)   8192        conv5_block2_3_conv[0][0]        \n",
      "__________________________________________________________________________________________________\n",
      "conv5_block2_add (Add)          (None, 2, 2, 2048)   0           conv5_block1_out[0][0]           \n",
      "                                                                 conv5_block2_3_bn[0][0]          \n",
      "__________________________________________________________________________________________________\n",
      "conv5_block2_out (Activation)   (None, 2, 2, 2048)   0           conv5_block2_add[0][0]           \n",
      "__________________________________________________________________________________________________\n",
      "conv5_block3_1_conv (Conv2D)    (None, 2, 2, 512)    1049088     conv5_block2_out[0][0]           \n",
      "__________________________________________________________________________________________________\n",
      "conv5_block3_1_bn (BatchNormali (None, 2, 2, 512)    2048        conv5_block3_1_conv[0][0]        \n",
      "__________________________________________________________________________________________________\n",
      "conv5_block3_1_relu (Activation (None, 2, 2, 512)    0           conv5_block3_1_bn[0][0]          \n",
      "__________________________________________________________________________________________________\n",
      "conv5_block3_2_conv (Conv2D)    (None, 2, 2, 512)    2359808     conv5_block3_1_relu[0][0]        \n",
      "__________________________________________________________________________________________________\n",
      "conv5_block3_2_bn (BatchNormali (None, 2, 2, 512)    2048        conv5_block3_2_conv[0][0]        \n",
      "__________________________________________________________________________________________________\n",
      "conv5_block3_2_relu (Activation (None, 2, 2, 512)    0           conv5_block3_2_bn[0][0]          \n",
      "__________________________________________________________________________________________________\n",
      "conv5_block3_3_conv (Conv2D)    (None, 2, 2, 2048)   1050624     conv5_block3_2_relu[0][0]        \n",
      "__________________________________________________________________________________________________\n",
      "conv5_block3_3_bn (BatchNormali (None, 2, 2, 2048)   8192        conv5_block3_3_conv[0][0]        \n",
      "__________________________________________________________________________________________________\n",
      "conv5_block3_add (Add)          (None, 2, 2, 2048)   0           conv5_block2_out[0][0]           \n",
      "                                                                 conv5_block3_3_bn[0][0]          \n",
      "__________________________________________________________________________________________________\n",
      "conv5_block3_out (Activation)   (None, 2, 2, 2048)   0           conv5_block3_add[0][0]           \n",
      "==================================================================================================\n",
      "Total params: 23,587,712\n",
      "Trainable params: 23,534,592\n",
      "Non-trainable params: 53,120\n",
      "__________________________________________________________________________________________________\n"
     ]
    }
   ],
   "source": [
    "# Instantiate the CNN base object\n",
    "cnn_base = ResNet50(weights='imagenet', \n",
    "                 include_top=False, \n",
    "                 input_shape=(64, 64, 3))\n",
    "\n",
    "# Preview the various parameters that will be trained\n",
    "cnn_base.summary()"
   ]
  },
  {
   "cell_type": "code",
   "execution_count": 44,
   "metadata": {},
   "outputs": [
    {
     "name": "stdout",
     "output_type": "stream",
     "text": [
      "resnet50 False\n",
      "flatten_3 True\n",
      "dense_42 True\n",
      "dense_43 True\n",
      "Trainable weights: 4\n",
      "\n",
      "Model: \"sequential_15\"\n",
      "_________________________________________________________________\n",
      "Layer (type)                 Output Shape              Param #   \n",
      "=================================================================\n",
      "resnet50 (Functional)        (None, 2, 2, 2048)        23587712  \n",
      "_________________________________________________________________\n",
      "flatten_3 (Flatten)          (None, 8192)              0         \n",
      "_________________________________________________________________\n",
      "dense_42 (Dense)             (None, 256)               2097408   \n",
      "_________________________________________________________________\n",
      "dense_43 (Dense)             (None, 1)                 257       \n",
      "=================================================================\n",
      "Total params: 25,685,377\n",
      "Trainable params: 2,097,665\n",
      "Non-trainable params: 23,587,712\n",
      "_________________________________________________________________\n"
     ]
    }
   ],
   "source": [
    "# Build a network with the CNN base\n",
    "resnet_model = Sequential()\n",
    "resnet_model.add(cnn_base)\n",
    "resnet_model.add(Flatten())\n",
    "resnet_model.add(Dense(256, activation='relu'))\n",
    "resnet_model.add(Dense(1, activation='sigmoid'))\n",
    "\n",
    "# Freeze the base model\n",
    "cnn_base.trainable = False\n",
    "\n",
    "# List all the trainable layers\n",
    "for layer in resnet_model.layers:\n",
    "    print(layer.name, layer.trainable)\n",
    "    \n",
    "# Similarly, check how many trainable weights are in the model \n",
    "print(f'Trainable weights: {len(resnet_model.trainable_weights)}\\n')\n",
    "\n",
    "# Preview the various parameters and output shapes, once again\n",
    "resnet_model.summary()"
   ]
  },
  {
   "cell_type": "code",
   "execution_count": 45,
   "metadata": {
    "scrolled": true
   },
   "outputs": [
    {
     "name": "stdout",
     "output_type": "stream",
     "text": [
      "Epoch 1/10\n",
      "163/163 [==============================] - 125s 764ms/step - loss: 0.5114 - acc: 0.7628 - val_loss: 0.6087 - val_acc: 0.6207\n",
      "Epoch 2/10\n",
      "163/163 [==============================] - 119s 728ms/step - loss: 0.4396 - acc: 0.7951 - val_loss: 0.8970 - val_acc: 0.5431\n",
      "Epoch 3/10\n",
      "163/163 [==============================] - 121s 744ms/step - loss: 0.4194 - acc: 0.8089 - val_loss: 0.4195 - val_acc: 0.8103\n",
      "Epoch 4/10\n",
      "163/163 [==============================] - 118s 723ms/step - loss: 0.4120 - acc: 0.8108 - val_loss: 0.5337 - val_acc: 0.6638\n",
      "Epoch 5/10\n",
      "163/163 [==============================] - 125s 764ms/step - loss: 0.4025 - acc: 0.8188 - val_loss: 0.4381 - val_acc: 0.8448\n",
      "Epoch 6/10\n",
      "163/163 [==============================] - 124s 760ms/step - loss: 0.4036 - acc: 0.8144 - val_loss: 0.6196 - val_acc: 0.6293\n",
      "Epoch 7/10\n",
      "163/163 [==============================] - 117s 721ms/step - loss: 0.4039 - acc: 0.8112 - val_loss: 0.9117 - val_acc: 0.5690\n",
      "Epoch 8/10\n",
      "163/163 [==============================] - 120s 734ms/step - loss: 0.4016 - acc: 0.8110 - val_loss: 0.7946 - val_acc: 0.5862\n",
      "Epoch 9/10\n",
      "163/163 [==============================] - 120s 735ms/step - loss: 0.3845 - acc: 0.8242 - val_loss: 0.3984 - val_acc: 0.8448\n",
      "Epoch 10/10\n",
      "163/163 [==============================] - 117s 719ms/step - loss: 0.3772 - acc: 0.8282 - val_loss: 0.4105 - val_acc: 0.8534\n"
     ]
    }
   ],
   "source": [
    "# Compile the transfer learning model\n",
    "resnet_model.compile(loss='binary_crossentropy',\n",
    "              optimizer=optimizers.RMSprop(learning_rate=.001),\n",
    "              metrics=['acc'])\n",
    "\n",
    "# Fit the model\n",
    "resnet_results = resnet_model.fit(train_generator_aug,\n",
    "                              epochs=10,\n",
    "                              validation_data=val_generator)"
   ]
  },
  {
   "cell_type": "code",
   "execution_count": 46,
   "metadata": {},
   "outputs": [
    {
     "data": {
      "image/png": "[encoded data removed]",
      "text/plain": [
       "<Figure size 432x288 with 1 Axes>"
      ]
     },
     "metadata": {
      "needs_background": "light"
     },
     "output_type": "display_data"
    },
    {
     "data": {
      "image/png": "[encoded data removed]",
      "text/plain": [
       "<Figure size 432x288 with 1 Axes>"
      ]
     },
     "metadata": {
      "needs_background": "light"
     },
     "output_type": "display_data"
    }
   ],
   "source": [
    "# Plot the training results using different markers\n",
    "resnet_train_acc = resnet_results.history['acc']\n",
    "resnet_val_acc = resnet_results.history['val_acc']\n",
    "resnet_train_loss = resnet_results.history['loss']\n",
    "resnet_val_loss = resnet_results.history['val_loss']\n",
    "epch = range(1, len(resnet_train_acc) + 1)\n",
    "\n",
    "plt.plot(epch, resnet_train_acc, 'g.', label='Training Accuracy')\n",
    "plt.plot(epch, resnet_val_acc, 'g', label='Validation Accuracy')\n",
    "plt.title('Accuracy')\n",
    "plt.legend()\n",
    "plt.figure()\n",
    "plt.plot(epch, resnet_train_loss, 'r.', label='Training Loss')\n",
    "plt.plot(epch, resnet_val_loss, 'r', label='Validation Loss')\n",
    "plt.title('Loss')\n",
    "plt.legend()\n",
    "plt.show()"
   ]
  },
  {
   "cell_type": "markdown",
   "metadata": {},
   "source": [
    "## Deployment & Evaluation"
   ]
  },
  {
   "cell_type": "code",
   "execution_count": 47,
   "metadata": {},
   "outputs": [
    {
     "name": "stdout",
     "output_type": "stream",
     "text": [
      "1/1 [==============================] - 0s 2ms/step - loss: 0.3617 - acc: 0.8588\n",
      "Generated 524 predictions\n",
      "test acc: 0.8587786555290222\n"
     ]
    }
   ],
   "source": [
    "# Evaluate the test data and list testing accuracy\n",
    "test_loss, test_acc = saved_model.evaluate(test_generator)\n",
    "y_hat_test = saved_model.predict(test_generator)\n",
    "print('Generated {} predictions'.format(len(y_hat_test)))\n",
    "print('test acc:', test_acc)"
   ]
  },
  {
   "cell_type": "markdown",
   "metadata": {},
   "source": [
    "## Conclusion"
   ]
  },
  {
   "cell_type": "markdown",
   "metadata": {},
   "source": []
  },
  {
   "cell_type": "markdown",
   "metadata": {},
   "source": [
    "## Limitations & Further Work"
   ]
  },
  {
   "cell_type": "markdown",
   "metadata": {},
   "source": []
  }
 ],
 "metadata": {
  "kernelspec": {
   "display_name": "Python 3",
   "language": "python",
   "name": "python3"
  },
  "language_info": {
   "codemirror_mode": {
    "name": "ipython",
    "version": 3
   },
   "file_extension": ".py",
   "mimetype": "text/x-python",
   "name": "python",
   "nbconvert_exporter": "python",
   "pygments_lexer": "ipython3",
   "version": "3.8.5"
  }
 },
 "nbformat": 4,
 "nbformat_minor": 4
}
